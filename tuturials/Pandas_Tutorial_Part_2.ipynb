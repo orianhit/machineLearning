{
 "cells": [
  {
   "cell_type": "markdown",
   "metadata": {
    "id": "fNX3iS3e4N0_",
    "pycharm": {
     "name": "#%% md\n"
    }
   },
   "source": [
    "# Pandas Toturial Part 2\n",
    "\n",
    "On this lesson we will cover the following topics:\n",
    "\n",
    "* Lambda Functions\n",
    "* Boolean Indexing\n",
    "* Reading & Writing data\n",
    "* DataFrame Manipulation\n",
    "* Statistics on data"
   ]
  },
  {
   "cell_type": "code",
   "execution_count": null,
   "outputs": [],
   "source": [
    "!pip install matplotlib"
   ],
   "metadata": {
    "collapsed": false,
    "pycharm": {
     "name": "#%%\n",
     "is_executing": true
    }
   }
  },
  {
   "cell_type": "code",
   "execution_count": 6,
   "metadata": {
    "id": "IJwI07Pn4F5v",
    "pycharm": {
     "name": "#%%\n"
    }
   },
   "outputs": [],
   "source": [
    "# we start with the imports as follows:\n",
    "import pandas as pd\n",
    "import numpy as np\n",
    "import matplotlib.pyplot as plt\n",
    "import math\n",
    "\n",
    "# and ipython definition:\n",
    "%matplotlib inline"
   ]
  },
  {
   "cell_type": "code",
   "execution_count": 7,
   "metadata": {
    "id": "lCTqK5ZeDxOy",
    "pycharm": {
     "name": "#%%\n"
    }
   },
   "outputs": [],
   "source": [
    "# show several prints in one cell. This will allow us to condence every trick in one cell.\n",
    "from IPython.core.interactiveshell import InteractiveShell\n",
    "InteractiveShell.ast_node_interactivity = \"all\""
   ]
  },
  {
   "cell_type": "markdown",
   "metadata": {
    "heading_collapsed": true,
    "id": "p1dgGuQTPCqP",
    "pycharm": {
     "name": "#%% md\n"
    }
   },
   "source": [
    "## Lambda Function\n",
    "A lambda function is a small anonymous function.\n",
    "\n",
    "A lambda function can take any number of arguments, but can only have one expression."
   ]
  },
  {
   "cell_type": "markdown",
   "metadata": {
    "hidden": true,
    "id": "uKvcYlyNPSRr",
    "pycharm": {
     "name": "#%% md\n"
    }
   },
   "source": [
    "### Syntax\n",
    "\n",
    "**lambda** arguments : expression\n",
    "\n",
    "The expression is executed and the result is returned"
   ]
  },
  {
   "cell_type": "code",
   "execution_count": null,
   "metadata": {
    "hidden": true,
    "id": "pgAaaZsfZ_l1",
    "pycharm": {
     "name": "#%%\n"
    }
   },
   "outputs": [],
   "source": []
  },
  {
   "cell_type": "code",
   "execution_count": 8,
   "metadata": {
    "colab": {
     "base_uri": "https://localhost:8080/"
    },
    "hidden": true,
    "id": "kIpUbhXFPKr7",
    "outputId": "95854569-8298-48f0-cc6f-919aa4421b41",
    "pycharm": {
     "name": "#%%\n"
    }
   },
   "outputs": [
    {
     "name": "stdout",
     "output_type": "stream",
     "text": [
      "15\n"
     ]
    }
   ],
   "source": [
    "# Add 10 to argument a, and return the result:\n",
    "\n",
    "x = lambda a : a + 10 # x is a variable holding a function, it is an executable\n",
    "print(x(5))"
   ]
  },
  {
   "cell_type": "code",
   "execution_count": 9,
   "metadata": {
    "colab": {
     "base_uri": "https://localhost:8080/"
    },
    "hidden": true,
    "id": "2s7YxibfPg_X",
    "outputId": "8cf9d4ea-55ae-4840-8518-45560ea43dcf",
    "pycharm": {
     "name": "#%%\n"
    }
   },
   "outputs": [
    {
     "name": "stdout",
     "output_type": "stream",
     "text": [
      "30\n"
     ]
    }
   ],
   "source": [
    "# Multiply argument a with argument b and return the result:\n",
    "\n",
    "x = lambda a, b : a * b\n",
    "print(x(5, 6))"
   ]
  },
  {
   "cell_type": "markdown",
   "metadata": {
    "id": "AFRwJQfK5RpN",
    "pycharm": {
     "name": "#%% md\n"
    }
   },
   "source": [
    "## Boolean Indexing\n",
    "\n",
    "In boolean indexing, we will select subsets of data based on the actual values of the data in the DataFrame and not on their row/column labels or integer locations. In boolean indexing, we use a boolean vector to filter the data. "
   ]
  },
  {
   "cell_type": "markdown",
   "metadata": {
    "id": "5ZADrMqR5gv-",
    "pycharm": {
     "name": "#%% md\n"
    }
   },
   "source": [
    "Boolean indexing is a type of indexing which uses actual values of the data in the DataFrame. In boolean indexing, we can filter a data in 2 main ways – \n",
    "\n",
    "* Accessing a DataFrame with a boolean index\n",
    "* Masking data based on column value"
   ]
  },
  {
   "cell_type": "markdown",
   "metadata": {
    "id": "q4yHKaX76wJD",
    "pycharm": {
     "name": "#%% md\n"
    }
   },
   "source": [
    "**Accessing a DataFrame with a boolean index**\n",
    "\n",
    "In order to access a dataframe with a boolean index, we have to create a dataframe in which the index of dataframe contains a boolean value that is “True” or “False”. For Example "
   ]
  },
  {
   "cell_type": "code",
   "execution_count": 10,
   "metadata": {
    "colab": {
     "base_uri": "https://localhost:8080/",
     "height": 173
    },
    "id": "90kpe7qg5qel",
    "outputId": "c070afcc-f559-4a86-edb5-15d2b5e97fe6",
    "pycharm": {
     "name": "#%%\n"
    }
   },
   "outputs": [
    {
     "data": {
      "text/plain": "        name  degree  score\nTrue    Yair     MBA     90\nFalse    Ben     BCA     40\nTrue    Shir  M.Tech     80\nFalse  Natan     MBA     98",
      "text/html": "<div>\n<style scoped>\n    .dataframe tbody tr th:only-of-type {\n        vertical-align: middle;\n    }\n\n    .dataframe tbody tr th {\n        vertical-align: top;\n    }\n\n    .dataframe thead th {\n        text-align: right;\n    }\n</style>\n<table border=\"1\" class=\"dataframe\">\n  <thead>\n    <tr style=\"text-align: right;\">\n      <th></th>\n      <th>name</th>\n      <th>degree</th>\n      <th>score</th>\n    </tr>\n  </thead>\n  <tbody>\n    <tr>\n      <th>True</th>\n      <td>Yair</td>\n      <td>MBA</td>\n      <td>90</td>\n    </tr>\n    <tr>\n      <th>False</th>\n      <td>Ben</td>\n      <td>BCA</td>\n      <td>40</td>\n    </tr>\n    <tr>\n      <th>True</th>\n      <td>Shir</td>\n      <td>M.Tech</td>\n      <td>80</td>\n    </tr>\n    <tr>\n      <th>False</th>\n      <td>Natan</td>\n      <td>MBA</td>\n      <td>98</td>\n    </tr>\n  </tbody>\n</table>\n</div>"
     },
     "execution_count": 10,
     "metadata": {},
     "output_type": "execute_result"
    }
   ],
   "source": [
    "data = {'name':[\"Yair\", \"Ben\", \"Shir\", \"Natan\"],\n",
    "        'degree': [\"MBA\", \"BCA\", \"M.Tech\", \"MBA\"],\n",
    "        'score':[90, 40, 80, 98]}\n",
    "  \n",
    "df = pd.DataFrame(data, index = [True, False, True, False])\n",
    "  \n",
    "df"
   ]
  },
  {
   "cell_type": "markdown",
   "metadata": {
    "id": "0PMST8rm5_pA",
    "pycharm": {
     "name": "#%% md\n"
    }
   },
   "source": [
    "In order to access a dataframe with a boolean index using **.loc[]**, we simply pass a boolean value (True or False) in a **.loc[]** function\n",
    "\n",
    "**.iloc** doesn't work as the Index is not automatically generated"
   ]
  },
  {
   "cell_type": "code",
   "execution_count": 11,
   "metadata": {
    "colab": {
     "base_uri": "https://localhost:8080/"
    },
    "id": "JQXLF4ej5x92",
    "outputId": "7db71010-5935-4e61-ef44-56ca5ad8ddee",
    "pycharm": {
     "name": "#%%\n"
    }
   },
   "outputs": [
    {
     "name": "stdout",
     "output_type": "stream",
     "text": [
      "      name  degree  score\n",
      "True  Yair     MBA     90\n",
      "True  Shir  M.Tech     80\n",
      "\n",
      "        name degree  score\n",
      "False    Ben    BCA     40\n",
      "False  Natan    MBA     98\n"
     ]
    }
   ],
   "source": [
    "print(df.loc[True])\n",
    "print()\n",
    "print(df.loc[False])"
   ]
  },
  {
   "cell_type": "markdown",
   "metadata": {
    "id": "7ZKq3rcf6uy9",
    "pycharm": {
     "name": "#%% md\n"
    }
   },
   "source": [
    "**Masking data based on column value**\n",
    "\n",
    "In a dataframe we can filter a data based on a column value in order to filter data, we can apply certain conditions on the dataframe using different operators like **==, >, <, <=, >=**. When we apply these operators to the dataframe then it produces a Series of True and False."
   ]
  },
  {
   "cell_type": "code",
   "execution_count": 13,
   "metadata": {
    "colab": {
     "base_uri": "https://localhost:8080/",
     "height": 173
    },
    "id": "gpRQLPdX6fRY",
    "outputId": "3a5ebfc6-e2e6-4def-c851-dc728b615766",
    "pycharm": {
     "name": "#%%\n"
    }
   },
   "outputs": [
    {
     "data": {
      "text/plain": "    name  degree  score\n0   Yair     BCA     90\n1    Ben     BCA     40\n2   Shir  M.Tech     80\n3  Natan     BCA     98",
      "text/html": "<div>\n<style scoped>\n    .dataframe tbody tr th:only-of-type {\n        vertical-align: middle;\n    }\n\n    .dataframe tbody tr th {\n        vertical-align: top;\n    }\n\n    .dataframe thead th {\n        text-align: right;\n    }\n</style>\n<table border=\"1\" class=\"dataframe\">\n  <thead>\n    <tr style=\"text-align: right;\">\n      <th></th>\n      <th>name</th>\n      <th>degree</th>\n      <th>score</th>\n    </tr>\n  </thead>\n  <tbody>\n    <tr>\n      <th>0</th>\n      <td>Yair</td>\n      <td>BCA</td>\n      <td>90</td>\n    </tr>\n    <tr>\n      <th>1</th>\n      <td>Ben</td>\n      <td>BCA</td>\n      <td>40</td>\n    </tr>\n    <tr>\n      <th>2</th>\n      <td>Shir</td>\n      <td>M.Tech</td>\n      <td>80</td>\n    </tr>\n    <tr>\n      <th>3</th>\n      <td>Natan</td>\n      <td>BCA</td>\n      <td>98</td>\n    </tr>\n  </tbody>\n</table>\n</div>"
     },
     "execution_count": 13,
     "metadata": {},
     "output_type": "execute_result"
    }
   ],
   "source": [
    "data = {'name':[\"Yair\", \"Ben\", \"Shir\", \"Natan\"],\n",
    "        'degree': [\"BCA\", \"BCA\", \"M.Tech\", \"BCA\"],\n",
    "        'score':[90, 40, 80, 98]}\n",
    " \n",
    "# creating a dataframe\n",
    "df = pd.DataFrame(data)\n",
    "\n",
    "df"
   ]
  },
  {
   "cell_type": "code",
   "execution_count": 14,
   "metadata": {
    "colab": {
     "base_uri": "https://localhost:8080/"
    },
    "id": "4JecqVdt7g1m",
    "outputId": "6c18d9fb-41a7-4091-e852-e0c61e4b7f9c",
    "pycharm": {
     "name": "#%%\n"
    }
   },
   "outputs": [
    {
     "name": "stdout",
     "output_type": "stream",
     "text": [
      "0     True\n",
      "1     True\n",
      "2    False\n",
      "3     True\n",
      "Name: degree, dtype: bool\n",
      "\n",
      "    name degree  score\n",
      "0   Yair    BCA     90\n",
      "1    Ben    BCA     40\n",
      "3  Natan    BCA     98\n"
     ]
    }
   ],
   "source": [
    "# In order to get the Boolean result\n",
    "print(df['degree'] == 'BCA')\n",
    "print()\n",
    "# In order to actually filter the DataFrame\n",
    "print(df[df['degree'] == 'BCA'])"
   ]
  },
  {
   "cell_type": "code",
   "execution_count": 15,
   "metadata": {
    "colab": {
     "base_uri": "https://localhost:8080/"
    },
    "id": "wNxGLUVb7R7x",
    "outputId": "fda7bd39-ef8b-4bb5-8475-729ea27d2063",
    "pycharm": {
     "name": "#%%\n"
    }
   },
   "outputs": [
    {
     "name": "stdout",
     "output_type": "stream",
     "text": [
      "0     True\n",
      "1    False\n",
      "2    False\n",
      "3     True\n",
      "Name: score, dtype: bool\n",
      "\n",
      "    name degree  score\n",
      "0   Yair    BCA     90\n",
      "3  Natan    BCA     98\n"
     ]
    }
   ],
   "source": [
    "# In order to get the Boolean result\n",
    "print(df['score'] >= 90)\n",
    "print()\n",
    "# In order to actually filter the DataFrame\n",
    "print(df[df['score'] >= 90])"
   ]
  },
  {
   "cell_type": "markdown",
   "metadata": {
    "id": "OsI8kRQR7vXC",
    "pycharm": {
     "name": "#%% md\n"
    }
   },
   "source": [
    "In order to apply multiple conditions we can use \"&\" for \"and\", and \"|\" for or"
   ]
  },
  {
   "cell_type": "code",
   "execution_count": 16,
   "metadata": {
    "colab": {
     "base_uri": "https://localhost:8080/"
    },
    "id": "PeTaNF7e73c0",
    "outputId": "3cc2291b-7a7f-49a7-b16b-211390029a5e",
    "pycharm": {
     "name": "#%%\n"
    }
   },
   "outputs": [
    {
     "name": "stdout",
     "output_type": "stream",
     "text": [
      "0     True\n",
      "1    False\n",
      "2    False\n",
      "3     True\n",
      "dtype: bool\n",
      "\n",
      "    name degree  score\n",
      "0   Yair    BCA     90\n",
      "3  Natan    BCA     98\n"
     ]
    }
   ],
   "source": [
    "# In order to get the Boolean result\n",
    "print((df['score'] >= 90) & ((df['degree'] == 'BCA')))\n",
    "print()\n",
    "# In order to actually filter the DataFrame\n",
    "print(df[(df['score'] >= 90) & ((df['degree'] == 'BCA'))])"
   ]
  },
  {
   "cell_type": "code",
   "execution_count": 17,
   "metadata": {
    "colab": {
     "base_uri": "https://localhost:8080/"
    },
    "id": "APB-WhPb8HP7",
    "outputId": "96cdb24c-c3f2-4c34-d159-b33fe3f03d06",
    "pycharm": {
     "name": "#%%\n"
    }
   },
   "outputs": [
    {
     "name": "stdout",
     "output_type": "stream",
     "text": [
      "0     True\n",
      "1     True\n",
      "2    False\n",
      "3     True\n",
      "dtype: bool\n",
      "\n",
      "    name degree  score\n",
      "0   Yair    BCA     90\n",
      "1    Ben    BCA     40\n",
      "3  Natan    BCA     98\n"
     ]
    }
   ],
   "source": [
    "# In order to get the Boolean result\n",
    "print((df['score'] >= 90) | ((df['degree'] == 'BCA')))\n",
    "print()\n",
    "# In order to actually filter the DataFrame\n",
    "print(df[(df['score'] >= 90) | ((df['degree'] == 'BCA'))])"
   ]
  },
  {
   "cell_type": "markdown",
   "metadata": {
    "id": "eBECL6Zt8Wvp",
    "pycharm": {
     "name": "#%% md\n"
    }
   },
   "source": [
    "## Exercise 1\n",
    "\n",
    "1. Filter \"**df_a**\" based on \"Accessing a DataFrame with a boolean index\" to get **True** index only\n",
    "2. Filter \"**df_b**\" based on \"Masking data based on column value\" to get **score** **under** **85**\n",
    "3. Filter \"**df_b**\" based on \"Masking data based on column value\" to get **score** **under** **85** **and** **M.Tech** **degree**\n",
    "3. Filter \"**df_b**\" based on \"Masking data based on column value\" to get **score** **euqal and above** **55** **or** **BCA** **degree**"
   ]
  },
  {
   "cell_type": "code",
   "execution_count": 18,
   "metadata": {
    "id": "mJJSvnHr9WF_",
    "pycharm": {
     "name": "#%%\n"
    }
   },
   "outputs": [],
   "source": [
    "data_a = {'name':[\"Yair\", \"Ben\", \"Shir\", \"Natan\"],\n",
    "        'degree': [\"MBA\", \"BCA\", \"M.Tech\", \"MBA\"],\n",
    "        'score':[90, 40, 80, 98]}\n",
    "df_a = pd.DataFrame(data_a, index = [True, False, True, False])\n",
    "  \n",
    "\n",
    "data_b = {'name':[\"Yair\", \"Ben\", \"Shir\", \"Natan\"],\n",
    "        'degree': [\"BCA\", \"BCA\", \"M.Tech\", \"BCA\"],\n",
    "        'score':[90, 40, 80, 98]}\n",
    "df_b = pd.DataFrame(data_b)"
   ]
  },
  {
   "cell_type": "code",
   "execution_count": 25,
   "metadata": {
    "id": "YmOoUuR19T_R",
    "pycharm": {
     "name": "#%%\n"
    }
   },
   "outputs": [
    {
     "data": {
      "text/plain": "      name  degree  score\nTrue  Yair     MBA     90\nTrue  Shir  M.Tech     80",
      "text/html": "<div>\n<style scoped>\n    .dataframe tbody tr th:only-of-type {\n        vertical-align: middle;\n    }\n\n    .dataframe tbody tr th {\n        vertical-align: top;\n    }\n\n    .dataframe thead th {\n        text-align: right;\n    }\n</style>\n<table border=\"1\" class=\"dataframe\">\n  <thead>\n    <tr style=\"text-align: right;\">\n      <th></th>\n      <th>name</th>\n      <th>degree</th>\n      <th>score</th>\n    </tr>\n  </thead>\n  <tbody>\n    <tr>\n      <th>True</th>\n      <td>Yair</td>\n      <td>MBA</td>\n      <td>90</td>\n    </tr>\n    <tr>\n      <th>True</th>\n      <td>Shir</td>\n      <td>M.Tech</td>\n      <td>80</td>\n    </tr>\n  </tbody>\n</table>\n</div>"
     },
     "execution_count": 25,
     "metadata": {},
     "output_type": "execute_result"
    },
    {
     "data": {
      "text/plain": "   name  degree  score\n1   Ben     BCA     40\n2  Shir  M.Tech     80",
      "text/html": "<div>\n<style scoped>\n    .dataframe tbody tr th:only-of-type {\n        vertical-align: middle;\n    }\n\n    .dataframe tbody tr th {\n        vertical-align: top;\n    }\n\n    .dataframe thead th {\n        text-align: right;\n    }\n</style>\n<table border=\"1\" class=\"dataframe\">\n  <thead>\n    <tr style=\"text-align: right;\">\n      <th></th>\n      <th>name</th>\n      <th>degree</th>\n      <th>score</th>\n    </tr>\n  </thead>\n  <tbody>\n    <tr>\n      <th>1</th>\n      <td>Ben</td>\n      <td>BCA</td>\n      <td>40</td>\n    </tr>\n    <tr>\n      <th>2</th>\n      <td>Shir</td>\n      <td>M.Tech</td>\n      <td>80</td>\n    </tr>\n  </tbody>\n</table>\n</div>"
     },
     "execution_count": 25,
     "metadata": {},
     "output_type": "execute_result"
    },
    {
     "data": {
      "text/plain": "   name  degree  score\n2  Shir  M.Tech     80",
      "text/html": "<div>\n<style scoped>\n    .dataframe tbody tr th:only-of-type {\n        vertical-align: middle;\n    }\n\n    .dataframe tbody tr th {\n        vertical-align: top;\n    }\n\n    .dataframe thead th {\n        text-align: right;\n    }\n</style>\n<table border=\"1\" class=\"dataframe\">\n  <thead>\n    <tr style=\"text-align: right;\">\n      <th></th>\n      <th>name</th>\n      <th>degree</th>\n      <th>score</th>\n    </tr>\n  </thead>\n  <tbody>\n    <tr>\n      <th>2</th>\n      <td>Shir</td>\n      <td>M.Tech</td>\n      <td>80</td>\n    </tr>\n  </tbody>\n</table>\n</div>"
     },
     "execution_count": 25,
     "metadata": {},
     "output_type": "execute_result"
    },
    {
     "data": {
      "text/plain": "    name  degree  score\n0   Yair     BCA     90\n1    Ben     BCA     40\n2   Shir  M.Tech     80\n3  Natan     BCA     98",
      "text/html": "<div>\n<style scoped>\n    .dataframe tbody tr th:only-of-type {\n        vertical-align: middle;\n    }\n\n    .dataframe tbody tr th {\n        vertical-align: top;\n    }\n\n    .dataframe thead th {\n        text-align: right;\n    }\n</style>\n<table border=\"1\" class=\"dataframe\">\n  <thead>\n    <tr style=\"text-align: right;\">\n      <th></th>\n      <th>name</th>\n      <th>degree</th>\n      <th>score</th>\n    </tr>\n  </thead>\n  <tbody>\n    <tr>\n      <th>0</th>\n      <td>Yair</td>\n      <td>BCA</td>\n      <td>90</td>\n    </tr>\n    <tr>\n      <th>1</th>\n      <td>Ben</td>\n      <td>BCA</td>\n      <td>40</td>\n    </tr>\n    <tr>\n      <th>2</th>\n      <td>Shir</td>\n      <td>M.Tech</td>\n      <td>80</td>\n    </tr>\n    <tr>\n      <th>3</th>\n      <td>Natan</td>\n      <td>BCA</td>\n      <td>98</td>\n    </tr>\n  </tbody>\n</table>\n</div>"
     },
     "execution_count": 25,
     "metadata": {},
     "output_type": "execute_result"
    }
   ],
   "source": [
    "df_a.loc[True]\n",
    "df_b[df_b['score'] < 85]\n",
    "df_b[(df_b['score'] < 85) & (df_b['degree'] == 'M.Tech')]\n",
    "df_b[(df_b['score'] >= 55) | (df_b['degree'] == 'BCA')]"
   ]
  },
  {
   "cell_type": "markdown",
   "metadata": {
    "id": "h9vB1PUEA_87",
    "pycharm": {
     "name": "#%% md\n"
    }
   },
   "source": [
    "## Getting Data In/Out\n",
    "When handling DataFrames, most of the times we would like to create a DataFrame from existing data saved in some local/remote storage, and after manipulating it - saving it in some local/remote storage"
   ]
  },
  {
   "cell_type": "markdown",
   "metadata": {
    "id": "qYbH5EHZBYaM",
    "pycharm": {
     "name": "#%% md\n"
    }
   },
   "source": [
    "### CSV"
   ]
  },
  {
   "cell_type": "markdown",
   "metadata": {
    "id": "PcG86dIaBk-s",
    "pycharm": {
     "name": "#%% md\n"
    }
   },
   "source": [
    "**.to_csv()** Write object to a comma-separated values (csv) file.\n",
    "\n",
    "https://pandas.pydata.org/docs/reference/api/pandas.DataFrame.to_csv.html"
   ]
  },
  {
   "cell_type": "code",
   "execution_count": 27,
   "metadata": {
    "id": "CRsq-FtaBfxK",
    "pycharm": {
     "name": "#%%\n"
    }
   },
   "outputs": [],
   "source": [
    "data = {\n",
    "    'name': ['Ori', 'Yarin', 'Shir'],\n",
    "    'grades': [100, 100, 100]\n",
    "}\n",
    "\n",
    "df = pd.DataFrame(data)\n",
    "df.to_csv('./Pandas_Tutorial_Part_2.csv') # change this localtion"
   ]
  },
  {
   "cell_type": "markdown",
   "metadata": {
    "id": "1u-2ki3EB-uS",
    "pycharm": {
     "name": "#%% md\n"
    }
   },
   "source": [
    "**.read_csv()** Read a comma-separated values (csv) file into DataFrame.\n",
    "\n",
    "https://pandas.pydata.org/pandas-docs/stable/reference/api/pandas.read_csv.html"
   ]
  },
  {
   "cell_type": "code",
   "execution_count": 32,
   "metadata": {
    "colab": {
     "base_uri": "https://localhost:8080/",
     "height": 142
    },
    "id": "mi5aQUl-CKWS",
    "outputId": "0d556515-d77e-4f99-c1ad-6accf51171d1",
    "pycharm": {
     "name": "#%%\n"
    }
   },
   "outputs": [
    {
     "data": {
      "text/plain": "   Unnamed: 0   name  grades\n0           0    Ori     100\n1           1  Yarin     100\n2           2   Shir     100",
      "text/html": "<div>\n<style scoped>\n    .dataframe tbody tr th:only-of-type {\n        vertical-align: middle;\n    }\n\n    .dataframe tbody tr th {\n        vertical-align: top;\n    }\n\n    .dataframe thead th {\n        text-align: right;\n    }\n</style>\n<table border=\"1\" class=\"dataframe\">\n  <thead>\n    <tr style=\"text-align: right;\">\n      <th></th>\n      <th>Unnamed: 0</th>\n      <th>name</th>\n      <th>grades</th>\n    </tr>\n  </thead>\n  <tbody>\n    <tr>\n      <th>0</th>\n      <td>0</td>\n      <td>Ori</td>\n      <td>100</td>\n    </tr>\n    <tr>\n      <th>1</th>\n      <td>1</td>\n      <td>Yarin</td>\n      <td>100</td>\n    </tr>\n    <tr>\n      <th>2</th>\n      <td>2</td>\n      <td>Shir</td>\n      <td>100</td>\n    </tr>\n  </tbody>\n</table>\n</div>"
     },
     "execution_count": 32,
     "metadata": {},
     "output_type": "execute_result"
    }
   ],
   "source": [
    "df = pd.read_csv('./Pandas_Tutorial_Part_2.csv') # change this localtion\n",
    "df"
   ]
  },
  {
   "cell_type": "code",
   "execution_count": 33,
   "metadata": {
    "colab": {
     "base_uri": "https://localhost:8080/",
     "height": 419
    },
    "id": "rOOz7I_RDgkz",
    "outputId": "327ac83b-6d00-4ab8-9e5d-1b79fa82d1f5",
    "pycharm": {
     "name": "#%%\n"
    }
   },
   "outputs": [
    {
     "data": {
      "text/plain": "       Country         Region\n0      Algeria         AFRICA\n1       Angola         AFRICA\n2        Benin         AFRICA\n3     Botswana         AFRICA\n4      Burkina         AFRICA\n..         ...            ...\n189   Paraguay  SOUTH AMERICA\n190       Peru  SOUTH AMERICA\n191   Suriname  SOUTH AMERICA\n192    Uruguay  SOUTH AMERICA\n193  Venezuela  SOUTH AMERICA\n\n[194 rows x 2 columns]",
      "text/html": "<div>\n<style scoped>\n    .dataframe tbody tr th:only-of-type {\n        vertical-align: middle;\n    }\n\n    .dataframe tbody tr th {\n        vertical-align: top;\n    }\n\n    .dataframe thead th {\n        text-align: right;\n    }\n</style>\n<table border=\"1\" class=\"dataframe\">\n  <thead>\n    <tr style=\"text-align: right;\">\n      <th></th>\n      <th>Country</th>\n      <th>Region</th>\n    </tr>\n  </thead>\n  <tbody>\n    <tr>\n      <th>0</th>\n      <td>Algeria</td>\n      <td>AFRICA</td>\n    </tr>\n    <tr>\n      <th>1</th>\n      <td>Angola</td>\n      <td>AFRICA</td>\n    </tr>\n    <tr>\n      <th>2</th>\n      <td>Benin</td>\n      <td>AFRICA</td>\n    </tr>\n    <tr>\n      <th>3</th>\n      <td>Botswana</td>\n      <td>AFRICA</td>\n    </tr>\n    <tr>\n      <th>4</th>\n      <td>Burkina</td>\n      <td>AFRICA</td>\n    </tr>\n    <tr>\n      <th>...</th>\n      <td>...</td>\n      <td>...</td>\n    </tr>\n    <tr>\n      <th>189</th>\n      <td>Paraguay</td>\n      <td>SOUTH AMERICA</td>\n    </tr>\n    <tr>\n      <th>190</th>\n      <td>Peru</td>\n      <td>SOUTH AMERICA</td>\n    </tr>\n    <tr>\n      <th>191</th>\n      <td>Suriname</td>\n      <td>SOUTH AMERICA</td>\n    </tr>\n    <tr>\n      <th>192</th>\n      <td>Uruguay</td>\n      <td>SOUTH AMERICA</td>\n    </tr>\n    <tr>\n      <th>193</th>\n      <td>Venezuela</td>\n      <td>SOUTH AMERICA</td>\n    </tr>\n  </tbody>\n</table>\n<p>194 rows × 2 columns</p>\n</div>"
     },
     "execution_count": 33,
     "metadata": {},
     "output_type": "execute_result"
    }
   ],
   "source": [
    "# Sometimes we would like to read a csv from a remote storage, in order to do so we just provide \n",
    "# the link the data stored at, instead of a local path\n",
    "\n",
    "df = pd.read_csv(\"https://raw.githubusercontent.com/cs109/2014_data/master/countries.csv\")\n",
    "\n",
    "df"
   ]
  },
  {
   "cell_type": "markdown",
   "metadata": {
    "id": "aEYqQ4giC5F_",
    "pycharm": {
     "name": "#%% md\n"
    }
   },
   "source": [
    "### Excel"
   ]
  },
  {
   "cell_type": "markdown",
   "metadata": {
    "id": "-59e0XUxC7l6",
    "pycharm": {
     "name": "#%% md\n"
    }
   },
   "source": [
    "**.to_excel()** To write a single object to an Excel .xlsx file it is only necessary to specify a target file name. To write to multiple sheets it is necessary to create an ExcelWriter object with a target file name, and specify a sheet in the file to write to.\n",
    "\n",
    "https://pandas.pydata.org/docs/reference/api/pandas.DataFrame.to_excel.html"
   ]
  },
  {
   "cell_type": "markdown",
   "metadata": {
    "id": "0Cx-mBkkDG08",
    "pycharm": {
     "name": "#%% md\n"
    }
   },
   "source": [
    "**.read_excel()** Read an Excel file into a pandas DataFrame.\n",
    "\n",
    "Supports xls, xlsx, xlsm, xlsb, odf, ods and odt file extensions read from a local filesystem or URL. Supports an option to read a single sheet or a list of sheets.\n",
    "\n",
    "https://pandas.pydata.org/pandas-docs/stable/reference/api/pandas.read_excel.html"
   ]
  },
  {
   "cell_type": "markdown",
   "metadata": {
    "id": "V7z66XR_CbDD",
    "pycharm": {
     "name": "#%% md\n"
    }
   },
   "source": [
    "### HDF5"
   ]
  },
  {
   "cell_type": "markdown",
   "metadata": {
    "id": "NwrpKmG-CdbU",
    "pycharm": {
     "name": "#%% md\n"
    }
   },
   "source": [
    "**.to_hdf()** Write the contained data to an HDF5 file using HDFStore.\n",
    "\n",
    "https://pandas.pydata.org/docs/reference/api/pandas.DataFrame.to_hdf.html"
   ]
  },
  {
   "cell_type": "markdown",
   "metadata": {
    "id": "93RPWXv3CprL",
    "pycharm": {
     "name": "#%% md\n"
    }
   },
   "source": [
    "**.read_hdf()** read data from an HDF5 file using HDFStore.\n",
    "\n",
    "https://pandas.pydata.org/docs/reference/api/pandas.read_hdf.html"
   ]
  },
  {
   "cell_type": "markdown",
   "metadata": {
    "id": "8YcVfTamDuHd",
    "pycharm": {
     "name": "#%% md\n"
    }
   },
   "source": [
    "## Sorting "
   ]
  },
  {
   "cell_type": "markdown",
   "metadata": {
    "id": "dmD69vc3FQWJ",
    "pycharm": {
     "name": "#%% md\n"
    }
   },
   "source": [
    "### Sorting Index\n",
    "We use '**sort_index**' in order to sort the DataFrame based on the Index values\n",
    "https://pandas.pydata.org/docs/reference/api/pandas.DataFrame.sort_index.html"
   ]
  },
  {
   "cell_type": "code",
   "execution_count": 34,
   "metadata": {
    "colab": {
     "base_uri": "https://localhost:8080/",
     "height": 204
    },
    "id": "BzZxjwujGsrX",
    "outputId": "be789aff-8dd9-4fa3-fdd8-c1d06ac7ad1f",
    "pycharm": {
     "name": "#%%\n"
    }
   },
   "outputs": [
    {
     "data": {
      "text/plain": "      A\n100  10\n29    2\n234  35\n1    14\n150  25",
      "text/html": "<div>\n<style scoped>\n    .dataframe tbody tr th:only-of-type {\n        vertical-align: middle;\n    }\n\n    .dataframe tbody tr th {\n        vertical-align: top;\n    }\n\n    .dataframe thead th {\n        text-align: right;\n    }\n</style>\n<table border=\"1\" class=\"dataframe\">\n  <thead>\n    <tr style=\"text-align: right;\">\n      <th></th>\n      <th>A</th>\n    </tr>\n  </thead>\n  <tbody>\n    <tr>\n      <th>100</th>\n      <td>10</td>\n    </tr>\n    <tr>\n      <th>29</th>\n      <td>2</td>\n    </tr>\n    <tr>\n      <th>234</th>\n      <td>35</td>\n    </tr>\n    <tr>\n      <th>1</th>\n      <td>14</td>\n    </tr>\n    <tr>\n      <th>150</th>\n      <td>25</td>\n    </tr>\n  </tbody>\n</table>\n</div>"
     },
     "execution_count": 34,
     "metadata": {},
     "output_type": "execute_result"
    }
   ],
   "source": [
    "df = pd.DataFrame([10, 2, 35, 14, 25],\n",
    "                  index=[100, 29, 234, 1, 150],\n",
    "                  columns=['A'])\n",
    "df"
   ]
  },
  {
   "cell_type": "code",
   "execution_count": 35,
   "metadata": {
    "colab": {
     "base_uri": "https://localhost:8080/",
     "height": 204
    },
    "id": "fS2HzL-3GvZT",
    "outputId": "1cc5d501-4897-4cb1-cf03-98401a115753",
    "pycharm": {
     "name": "#%%\n"
    }
   },
   "outputs": [
    {
     "data": {
      "text/plain": "      A\n1    14\n29    2\n100  10\n150  25\n234  35",
      "text/html": "<div>\n<style scoped>\n    .dataframe tbody tr th:only-of-type {\n        vertical-align: middle;\n    }\n\n    .dataframe tbody tr th {\n        vertical-align: top;\n    }\n\n    .dataframe thead th {\n        text-align: right;\n    }\n</style>\n<table border=\"1\" class=\"dataframe\">\n  <thead>\n    <tr style=\"text-align: right;\">\n      <th></th>\n      <th>A</th>\n    </tr>\n  </thead>\n  <tbody>\n    <tr>\n      <th>1</th>\n      <td>14</td>\n    </tr>\n    <tr>\n      <th>29</th>\n      <td>2</td>\n    </tr>\n    <tr>\n      <th>100</th>\n      <td>10</td>\n    </tr>\n    <tr>\n      <th>150</th>\n      <td>25</td>\n    </tr>\n    <tr>\n      <th>234</th>\n      <td>35</td>\n    </tr>\n  </tbody>\n</table>\n</div>"
     },
     "execution_count": 35,
     "metadata": {},
     "output_type": "execute_result"
    }
   ],
   "source": [
    "df.sort_index()"
   ]
  },
  {
   "cell_type": "code",
   "execution_count": 36,
   "metadata": {
    "colab": {
     "base_uri": "https://localhost:8080/",
     "height": 204
    },
    "id": "UL6RfXhXG89A",
    "outputId": "b1a6c624-78ba-4e37-f19b-e569436ef543",
    "pycharm": {
     "name": "#%%\n"
    }
   },
   "outputs": [
    {
     "data": {
      "text/plain": "      A\n234  35\n150  25\n100  10\n29    2\n1    14",
      "text/html": "<div>\n<style scoped>\n    .dataframe tbody tr th:only-of-type {\n        vertical-align: middle;\n    }\n\n    .dataframe tbody tr th {\n        vertical-align: top;\n    }\n\n    .dataframe thead th {\n        text-align: right;\n    }\n</style>\n<table border=\"1\" class=\"dataframe\">\n  <thead>\n    <tr style=\"text-align: right;\">\n      <th></th>\n      <th>A</th>\n    </tr>\n  </thead>\n  <tbody>\n    <tr>\n      <th>234</th>\n      <td>35</td>\n    </tr>\n    <tr>\n      <th>150</th>\n      <td>25</td>\n    </tr>\n    <tr>\n      <th>100</th>\n      <td>10</td>\n    </tr>\n    <tr>\n      <th>29</th>\n      <td>2</td>\n    </tr>\n    <tr>\n      <th>1</th>\n      <td>14</td>\n    </tr>\n  </tbody>\n</table>\n</div>"
     },
     "execution_count": 36,
     "metadata": {},
     "output_type": "execute_result"
    }
   ],
   "source": [
    "# By default, it sorts in ascending order, to sort in descending order, use ascending=False\n",
    "df.sort_index(ascending=False)"
   ]
  },
  {
   "cell_type": "markdown",
   "metadata": {
    "id": "od--QtIJHrxs",
    "pycharm": {
     "name": "#%% md\n"
    }
   },
   "source": [
    "## Sort Values\n",
    "\n",
    "We use '**sort_values**' in order to sort the DataFrame based on specific **columns** values\n",
    "\n",
    "https://pandas.pydata.org/docs/reference/api/pandas.DataFrame.sort_values.html"
   ]
  },
  {
   "cell_type": "code",
   "execution_count": 37,
   "metadata": {
    "colab": {
     "base_uri": "https://localhost:8080/",
     "height": 266
    },
    "id": "NConx6E9IWdL",
    "outputId": "af47a826-ea76-40f2-87de-83c92b40d237",
    "pycharm": {
     "name": "#%%\n"
    }
   },
   "outputs": [
    {
     "data": {
      "text/plain": "     name  math_grade  CS_grade\n0   aaron          53        72\n1   aaron          22        75\n2   moshe          78        40\n3     guy          96        45\n4     ben          84        91\n5   yarin          66        95\n6  sharon          77        63",
      "text/html": "<div>\n<style scoped>\n    .dataframe tbody tr th:only-of-type {\n        vertical-align: middle;\n    }\n\n    .dataframe tbody tr th {\n        vertical-align: top;\n    }\n\n    .dataframe thead th {\n        text-align: right;\n    }\n</style>\n<table border=\"1\" class=\"dataframe\">\n  <thead>\n    <tr style=\"text-align: right;\">\n      <th></th>\n      <th>name</th>\n      <th>math_grade</th>\n      <th>CS_grade</th>\n    </tr>\n  </thead>\n  <tbody>\n    <tr>\n      <th>0</th>\n      <td>aaron</td>\n      <td>53</td>\n      <td>72</td>\n    </tr>\n    <tr>\n      <th>1</th>\n      <td>aaron</td>\n      <td>22</td>\n      <td>75</td>\n    </tr>\n    <tr>\n      <th>2</th>\n      <td>moshe</td>\n      <td>78</td>\n      <td>40</td>\n    </tr>\n    <tr>\n      <th>3</th>\n      <td>guy</td>\n      <td>96</td>\n      <td>45</td>\n    </tr>\n    <tr>\n      <th>4</th>\n      <td>ben</td>\n      <td>84</td>\n      <td>91</td>\n    </tr>\n    <tr>\n      <th>5</th>\n      <td>yarin</td>\n      <td>66</td>\n      <td>95</td>\n    </tr>\n    <tr>\n      <th>6</th>\n      <td>sharon</td>\n      <td>77</td>\n      <td>63</td>\n    </tr>\n  </tbody>\n</table>\n</div>"
     },
     "execution_count": 37,
     "metadata": {},
     "output_type": "execute_result"
    }
   ],
   "source": [
    "df = pd.DataFrame({\n",
    "    'name': ['aaron', 'aaron', 'moshe', 'guy', 'ben', 'yarin', 'sharon'],\n",
    "    'math_grade': [53, 22, 78, 96, 84, 66, 77],\n",
    "    'CS_grade': [72, 75, 40, 45, 91, 95, 63]\n",
    "})\n",
    "df"
   ]
  },
  {
   "cell_type": "code",
   "execution_count": 38,
   "metadata": {
    "colab": {
     "base_uri": "https://localhost:8080/",
     "height": 266
    },
    "id": "iWbQK0M4I53Z",
    "outputId": "78baad5f-2ea7-4339-82a8-e05333bb9432",
    "pycharm": {
     "name": "#%%\n"
    }
   },
   "outputs": [
    {
     "data": {
      "text/plain": "     name  math_grade  CS_grade\n0   aaron          53        72\n1   aaron          22        75\n4     ben          84        91\n3     guy          96        45\n2   moshe          78        40\n6  sharon          77        63\n5   yarin          66        95",
      "text/html": "<div>\n<style scoped>\n    .dataframe tbody tr th:only-of-type {\n        vertical-align: middle;\n    }\n\n    .dataframe tbody tr th {\n        vertical-align: top;\n    }\n\n    .dataframe thead th {\n        text-align: right;\n    }\n</style>\n<table border=\"1\" class=\"dataframe\">\n  <thead>\n    <tr style=\"text-align: right;\">\n      <th></th>\n      <th>name</th>\n      <th>math_grade</th>\n      <th>CS_grade</th>\n    </tr>\n  </thead>\n  <tbody>\n    <tr>\n      <th>0</th>\n      <td>aaron</td>\n      <td>53</td>\n      <td>72</td>\n    </tr>\n    <tr>\n      <th>1</th>\n      <td>aaron</td>\n      <td>22</td>\n      <td>75</td>\n    </tr>\n    <tr>\n      <th>4</th>\n      <td>ben</td>\n      <td>84</td>\n      <td>91</td>\n    </tr>\n    <tr>\n      <th>3</th>\n      <td>guy</td>\n      <td>96</td>\n      <td>45</td>\n    </tr>\n    <tr>\n      <th>2</th>\n      <td>moshe</td>\n      <td>78</td>\n      <td>40</td>\n    </tr>\n    <tr>\n      <th>6</th>\n      <td>sharon</td>\n      <td>77</td>\n      <td>63</td>\n    </tr>\n    <tr>\n      <th>5</th>\n      <td>yarin</td>\n      <td>66</td>\n      <td>95</td>\n    </tr>\n  </tbody>\n</table>\n</div>"
     },
     "execution_count": 38,
     "metadata": {},
     "output_type": "execute_result"
    }
   ],
   "source": [
    "# Sort by 'name' column\n",
    "df.sort_values(by=['name']) # ascending=True"
   ]
  },
  {
   "cell_type": "code",
   "execution_count": 39,
   "metadata": {
    "colab": {
     "base_uri": "https://localhost:8080/",
     "height": 266
    },
    "id": "7dmzZsP0JhdV",
    "outputId": "a79f2dbe-c719-4b9b-ddb4-9d2c7315b42a",
    "pycharm": {
     "name": "#%%\n"
    }
   },
   "outputs": [
    {
     "data": {
      "text/plain": "     name  math_grade  CS_grade\n1   aaron          22        75\n0   aaron          53        72\n4     ben          84        91\n3     guy          96        45\n2   moshe          78        40\n6  sharon          77        63\n5   yarin          66        95",
      "text/html": "<div>\n<style scoped>\n    .dataframe tbody tr th:only-of-type {\n        vertical-align: middle;\n    }\n\n    .dataframe tbody tr th {\n        vertical-align: top;\n    }\n\n    .dataframe thead th {\n        text-align: right;\n    }\n</style>\n<table border=\"1\" class=\"dataframe\">\n  <thead>\n    <tr style=\"text-align: right;\">\n      <th></th>\n      <th>name</th>\n      <th>math_grade</th>\n      <th>CS_grade</th>\n    </tr>\n  </thead>\n  <tbody>\n    <tr>\n      <th>1</th>\n      <td>aaron</td>\n      <td>22</td>\n      <td>75</td>\n    </tr>\n    <tr>\n      <th>0</th>\n      <td>aaron</td>\n      <td>53</td>\n      <td>72</td>\n    </tr>\n    <tr>\n      <th>4</th>\n      <td>ben</td>\n      <td>84</td>\n      <td>91</td>\n    </tr>\n    <tr>\n      <th>3</th>\n      <td>guy</td>\n      <td>96</td>\n      <td>45</td>\n    </tr>\n    <tr>\n      <th>2</th>\n      <td>moshe</td>\n      <td>78</td>\n      <td>40</td>\n    </tr>\n    <tr>\n      <th>6</th>\n      <td>sharon</td>\n      <td>77</td>\n      <td>63</td>\n    </tr>\n    <tr>\n      <th>5</th>\n      <td>yarin</td>\n      <td>66</td>\n      <td>95</td>\n    </tr>\n  </tbody>\n</table>\n</div>"
     },
     "execution_count": 39,
     "metadata": {},
     "output_type": "execute_result"
    }
   ],
   "source": [
    "# Sort by multiple columns\n",
    "# first and then second\n",
    "\n",
    "df.sort_values(by=['name', 'math_grade'])"
   ]
  },
  {
   "cell_type": "code",
   "execution_count": 40,
   "metadata": {
    "colab": {
     "base_uri": "https://localhost:8080/",
     "height": 266
    },
    "id": "84sLBMPmJ5yk",
    "outputId": "cfea109b-c29a-499c-f535-c6780d6fce29",
    "pycharm": {
     "name": "#%%\n"
    }
   },
   "outputs": [
    {
     "data": {
      "text/plain": "     name  math_grade  CS_grade\n5   yarin          66        95\n4     ben          84        91\n1   aaron          22        75\n0   aaron          53        72\n6  sharon          77        63\n3     guy          96        45\n2   moshe          78        40",
      "text/html": "<div>\n<style scoped>\n    .dataframe tbody tr th:only-of-type {\n        vertical-align: middle;\n    }\n\n    .dataframe tbody tr th {\n        vertical-align: top;\n    }\n\n    .dataframe thead th {\n        text-align: right;\n    }\n</style>\n<table border=\"1\" class=\"dataframe\">\n  <thead>\n    <tr style=\"text-align: right;\">\n      <th></th>\n      <th>name</th>\n      <th>math_grade</th>\n      <th>CS_grade</th>\n    </tr>\n  </thead>\n  <tbody>\n    <tr>\n      <th>5</th>\n      <td>yarin</td>\n      <td>66</td>\n      <td>95</td>\n    </tr>\n    <tr>\n      <th>4</th>\n      <td>ben</td>\n      <td>84</td>\n      <td>91</td>\n    </tr>\n    <tr>\n      <th>1</th>\n      <td>aaron</td>\n      <td>22</td>\n      <td>75</td>\n    </tr>\n    <tr>\n      <th>0</th>\n      <td>aaron</td>\n      <td>53</td>\n      <td>72</td>\n    </tr>\n    <tr>\n      <th>6</th>\n      <td>sharon</td>\n      <td>77</td>\n      <td>63</td>\n    </tr>\n    <tr>\n      <th>3</th>\n      <td>guy</td>\n      <td>96</td>\n      <td>45</td>\n    </tr>\n    <tr>\n      <th>2</th>\n      <td>moshe</td>\n      <td>78</td>\n      <td>40</td>\n    </tr>\n  </tbody>\n</table>\n</div>"
     },
     "execution_count": 40,
     "metadata": {},
     "output_type": "execute_result"
    }
   ],
   "source": [
    "# Sort Descending\n",
    "\n",
    "df.sort_values(by='CS_grade', ascending=False)"
   ]
  },
  {
   "cell_type": "markdown",
   "metadata": {
    "id": "gtLbZsr_KLKM",
    "pycharm": {
     "name": "#%% md\n"
    }
   },
   "source": [
    "## Exercise 2 \n",
    "1. Download and read the csv from \"https://media.geeksforgeeks.org/wp-content/uploads/nba.csv\"\n",
    "1. Slice the DataFrame until the **15th** row\n",
    "1. Sort the DataFrame's **Index** in a **descending** order\n",
    "1. Sort the DataFrame using \"**Number**\" column in **ascending** order\n",
    "1. Sort the DataFrame using \"**Name**\" and \"**Weight**\"\n",
    "1. Save DataFrame to a local location (of your choice)"
   ]
  },
  {
   "cell_type": "code",
   "execution_count": 45,
   "metadata": {
    "id": "Z0qh1GLlLhkM",
    "pycharm": {
     "name": "#%%\n"
    }
   },
   "outputs": [
    {
     "data": {
      "text/plain": "               Name            Team  Number Position   Age Height  Weight  \\\n14     Tyler Zeller  Boston Celtics    44.0        C  26.0    7-0   253.0   \n13      James Young  Boston Celtics    13.0       SG  20.0    6-6   215.0   \n12      Evan Turner  Boston Celtics    11.0       SG  27.0    6-7   220.0   \n11    Isaiah Thomas  Boston Celtics     4.0       PG  27.0    5-9   185.0   \n10  Jared Sullinger  Boston Celtics     7.0        C  24.0    6-9   260.0   \n9      Marcus Smart  Boston Celtics    36.0       PG  22.0    6-4   220.0   \n8      Terry Rozier  Boston Celtics    12.0       PG  22.0    6-2   190.0   \n7      Kelly Olynyk  Boston Celtics    41.0        C  25.0    7-0   238.0   \n6     Jordan Mickey  Boston Celtics    55.0       PF  21.0    6-8   235.0   \n5      Amir Johnson  Boston Celtics    90.0       PF  29.0    6-9   240.0   \n4     Jonas Jerebko  Boston Celtics     8.0       PF  29.0   6-10   231.0   \n3       R.J. Hunter  Boston Celtics    28.0       SG  22.0    6-5   185.0   \n2      John Holland  Boston Celtics    30.0       SG  27.0    6-5   205.0   \n1       Jae Crowder  Boston Celtics    99.0       SF  25.0    6-6   235.0   \n0     Avery Bradley  Boston Celtics     0.0       PG  25.0    6-2   180.0   \n\n              College      Salary  \n14     North Carolina   2616975.0  \n13           Kentucky   1749840.0  \n12         Ohio State   3425510.0  \n11         Washington   6912869.0  \n10         Ohio State   2569260.0  \n9      Oklahoma State   3431040.0  \n8          Louisville   1824360.0  \n7             Gonzaga   2165160.0  \n6                 LSU   1170960.0  \n5                 NaN  12000000.0  \n4                 NaN   5000000.0  \n3       Georgia State   1148640.0  \n2   Boston University         NaN  \n1           Marquette   6796117.0  \n0               Texas   7730337.0  ",
      "text/html": "<div>\n<style scoped>\n    .dataframe tbody tr th:only-of-type {\n        vertical-align: middle;\n    }\n\n    .dataframe tbody tr th {\n        vertical-align: top;\n    }\n\n    .dataframe thead th {\n        text-align: right;\n    }\n</style>\n<table border=\"1\" class=\"dataframe\">\n  <thead>\n    <tr style=\"text-align: right;\">\n      <th></th>\n      <th>Name</th>\n      <th>Team</th>\n      <th>Number</th>\n      <th>Position</th>\n      <th>Age</th>\n      <th>Height</th>\n      <th>Weight</th>\n      <th>College</th>\n      <th>Salary</th>\n    </tr>\n  </thead>\n  <tbody>\n    <tr>\n      <th>14</th>\n      <td>Tyler Zeller</td>\n      <td>Boston Celtics</td>\n      <td>44.0</td>\n      <td>C</td>\n      <td>26.0</td>\n      <td>7-0</td>\n      <td>253.0</td>\n      <td>North Carolina</td>\n      <td>2616975.0</td>\n    </tr>\n    <tr>\n      <th>13</th>\n      <td>James Young</td>\n      <td>Boston Celtics</td>\n      <td>13.0</td>\n      <td>SG</td>\n      <td>20.0</td>\n      <td>6-6</td>\n      <td>215.0</td>\n      <td>Kentucky</td>\n      <td>1749840.0</td>\n    </tr>\n    <tr>\n      <th>12</th>\n      <td>Evan Turner</td>\n      <td>Boston Celtics</td>\n      <td>11.0</td>\n      <td>SG</td>\n      <td>27.0</td>\n      <td>6-7</td>\n      <td>220.0</td>\n      <td>Ohio State</td>\n      <td>3425510.0</td>\n    </tr>\n    <tr>\n      <th>11</th>\n      <td>Isaiah Thomas</td>\n      <td>Boston Celtics</td>\n      <td>4.0</td>\n      <td>PG</td>\n      <td>27.0</td>\n      <td>5-9</td>\n      <td>185.0</td>\n      <td>Washington</td>\n      <td>6912869.0</td>\n    </tr>\n    <tr>\n      <th>10</th>\n      <td>Jared Sullinger</td>\n      <td>Boston Celtics</td>\n      <td>7.0</td>\n      <td>C</td>\n      <td>24.0</td>\n      <td>6-9</td>\n      <td>260.0</td>\n      <td>Ohio State</td>\n      <td>2569260.0</td>\n    </tr>\n    <tr>\n      <th>9</th>\n      <td>Marcus Smart</td>\n      <td>Boston Celtics</td>\n      <td>36.0</td>\n      <td>PG</td>\n      <td>22.0</td>\n      <td>6-4</td>\n      <td>220.0</td>\n      <td>Oklahoma State</td>\n      <td>3431040.0</td>\n    </tr>\n    <tr>\n      <th>8</th>\n      <td>Terry Rozier</td>\n      <td>Boston Celtics</td>\n      <td>12.0</td>\n      <td>PG</td>\n      <td>22.0</td>\n      <td>6-2</td>\n      <td>190.0</td>\n      <td>Louisville</td>\n      <td>1824360.0</td>\n    </tr>\n    <tr>\n      <th>7</th>\n      <td>Kelly Olynyk</td>\n      <td>Boston Celtics</td>\n      <td>41.0</td>\n      <td>C</td>\n      <td>25.0</td>\n      <td>7-0</td>\n      <td>238.0</td>\n      <td>Gonzaga</td>\n      <td>2165160.0</td>\n    </tr>\n    <tr>\n      <th>6</th>\n      <td>Jordan Mickey</td>\n      <td>Boston Celtics</td>\n      <td>55.0</td>\n      <td>PF</td>\n      <td>21.0</td>\n      <td>6-8</td>\n      <td>235.0</td>\n      <td>LSU</td>\n      <td>1170960.0</td>\n    </tr>\n    <tr>\n      <th>5</th>\n      <td>Amir Johnson</td>\n      <td>Boston Celtics</td>\n      <td>90.0</td>\n      <td>PF</td>\n      <td>29.0</td>\n      <td>6-9</td>\n      <td>240.0</td>\n      <td>NaN</td>\n      <td>12000000.0</td>\n    </tr>\n    <tr>\n      <th>4</th>\n      <td>Jonas Jerebko</td>\n      <td>Boston Celtics</td>\n      <td>8.0</td>\n      <td>PF</td>\n      <td>29.0</td>\n      <td>6-10</td>\n      <td>231.0</td>\n      <td>NaN</td>\n      <td>5000000.0</td>\n    </tr>\n    <tr>\n      <th>3</th>\n      <td>R.J. Hunter</td>\n      <td>Boston Celtics</td>\n      <td>28.0</td>\n      <td>SG</td>\n      <td>22.0</td>\n      <td>6-5</td>\n      <td>185.0</td>\n      <td>Georgia State</td>\n      <td>1148640.0</td>\n    </tr>\n    <tr>\n      <th>2</th>\n      <td>John Holland</td>\n      <td>Boston Celtics</td>\n      <td>30.0</td>\n      <td>SG</td>\n      <td>27.0</td>\n      <td>6-5</td>\n      <td>205.0</td>\n      <td>Boston University</td>\n      <td>NaN</td>\n    </tr>\n    <tr>\n      <th>1</th>\n      <td>Jae Crowder</td>\n      <td>Boston Celtics</td>\n      <td>99.0</td>\n      <td>SF</td>\n      <td>25.0</td>\n      <td>6-6</td>\n      <td>235.0</td>\n      <td>Marquette</td>\n      <td>6796117.0</td>\n    </tr>\n    <tr>\n      <th>0</th>\n      <td>Avery Bradley</td>\n      <td>Boston Celtics</td>\n      <td>0.0</td>\n      <td>PG</td>\n      <td>25.0</td>\n      <td>6-2</td>\n      <td>180.0</td>\n      <td>Texas</td>\n      <td>7730337.0</td>\n    </tr>\n  </tbody>\n</table>\n</div>"
     },
     "execution_count": 45,
     "metadata": {},
     "output_type": "execute_result"
    },
    {
     "data": {
      "text/plain": "               Name            Team  Number Position   Age Height  Weight  \\\n0     Avery Bradley  Boston Celtics     0.0       PG  25.0    6-2   180.0   \n11    Isaiah Thomas  Boston Celtics     4.0       PG  27.0    5-9   185.0   \n10  Jared Sullinger  Boston Celtics     7.0        C  24.0    6-9   260.0   \n4     Jonas Jerebko  Boston Celtics     8.0       PF  29.0   6-10   231.0   \n12      Evan Turner  Boston Celtics    11.0       SG  27.0    6-7   220.0   \n8      Terry Rozier  Boston Celtics    12.0       PG  22.0    6-2   190.0   \n13      James Young  Boston Celtics    13.0       SG  20.0    6-6   215.0   \n3       R.J. Hunter  Boston Celtics    28.0       SG  22.0    6-5   185.0   \n2      John Holland  Boston Celtics    30.0       SG  27.0    6-5   205.0   \n9      Marcus Smart  Boston Celtics    36.0       PG  22.0    6-4   220.0   \n7      Kelly Olynyk  Boston Celtics    41.0        C  25.0    7-0   238.0   \n14     Tyler Zeller  Boston Celtics    44.0        C  26.0    7-0   253.0   \n6     Jordan Mickey  Boston Celtics    55.0       PF  21.0    6-8   235.0   \n5      Amir Johnson  Boston Celtics    90.0       PF  29.0    6-9   240.0   \n1       Jae Crowder  Boston Celtics    99.0       SF  25.0    6-6   235.0   \n\n              College      Salary  \n0               Texas   7730337.0  \n11         Washington   6912869.0  \n10         Ohio State   2569260.0  \n4                 NaN   5000000.0  \n12         Ohio State   3425510.0  \n8          Louisville   1824360.0  \n13           Kentucky   1749840.0  \n3       Georgia State   1148640.0  \n2   Boston University         NaN  \n9      Oklahoma State   3431040.0  \n7             Gonzaga   2165160.0  \n14     North Carolina   2616975.0  \n6                 LSU   1170960.0  \n5                 NaN  12000000.0  \n1           Marquette   6796117.0  ",
      "text/html": "<div>\n<style scoped>\n    .dataframe tbody tr th:only-of-type {\n        vertical-align: middle;\n    }\n\n    .dataframe tbody tr th {\n        vertical-align: top;\n    }\n\n    .dataframe thead th {\n        text-align: right;\n    }\n</style>\n<table border=\"1\" class=\"dataframe\">\n  <thead>\n    <tr style=\"text-align: right;\">\n      <th></th>\n      <th>Name</th>\n      <th>Team</th>\n      <th>Number</th>\n      <th>Position</th>\n      <th>Age</th>\n      <th>Height</th>\n      <th>Weight</th>\n      <th>College</th>\n      <th>Salary</th>\n    </tr>\n  </thead>\n  <tbody>\n    <tr>\n      <th>0</th>\n      <td>Avery Bradley</td>\n      <td>Boston Celtics</td>\n      <td>0.0</td>\n      <td>PG</td>\n      <td>25.0</td>\n      <td>6-2</td>\n      <td>180.0</td>\n      <td>Texas</td>\n      <td>7730337.0</td>\n    </tr>\n    <tr>\n      <th>11</th>\n      <td>Isaiah Thomas</td>\n      <td>Boston Celtics</td>\n      <td>4.0</td>\n      <td>PG</td>\n      <td>27.0</td>\n      <td>5-9</td>\n      <td>185.0</td>\n      <td>Washington</td>\n      <td>6912869.0</td>\n    </tr>\n    <tr>\n      <th>10</th>\n      <td>Jared Sullinger</td>\n      <td>Boston Celtics</td>\n      <td>7.0</td>\n      <td>C</td>\n      <td>24.0</td>\n      <td>6-9</td>\n      <td>260.0</td>\n      <td>Ohio State</td>\n      <td>2569260.0</td>\n    </tr>\n    <tr>\n      <th>4</th>\n      <td>Jonas Jerebko</td>\n      <td>Boston Celtics</td>\n      <td>8.0</td>\n      <td>PF</td>\n      <td>29.0</td>\n      <td>6-10</td>\n      <td>231.0</td>\n      <td>NaN</td>\n      <td>5000000.0</td>\n    </tr>\n    <tr>\n      <th>12</th>\n      <td>Evan Turner</td>\n      <td>Boston Celtics</td>\n      <td>11.0</td>\n      <td>SG</td>\n      <td>27.0</td>\n      <td>6-7</td>\n      <td>220.0</td>\n      <td>Ohio State</td>\n      <td>3425510.0</td>\n    </tr>\n    <tr>\n      <th>8</th>\n      <td>Terry Rozier</td>\n      <td>Boston Celtics</td>\n      <td>12.0</td>\n      <td>PG</td>\n      <td>22.0</td>\n      <td>6-2</td>\n      <td>190.0</td>\n      <td>Louisville</td>\n      <td>1824360.0</td>\n    </tr>\n    <tr>\n      <th>13</th>\n      <td>James Young</td>\n      <td>Boston Celtics</td>\n      <td>13.0</td>\n      <td>SG</td>\n      <td>20.0</td>\n      <td>6-6</td>\n      <td>215.0</td>\n      <td>Kentucky</td>\n      <td>1749840.0</td>\n    </tr>\n    <tr>\n      <th>3</th>\n      <td>R.J. Hunter</td>\n      <td>Boston Celtics</td>\n      <td>28.0</td>\n      <td>SG</td>\n      <td>22.0</td>\n      <td>6-5</td>\n      <td>185.0</td>\n      <td>Georgia State</td>\n      <td>1148640.0</td>\n    </tr>\n    <tr>\n      <th>2</th>\n      <td>John Holland</td>\n      <td>Boston Celtics</td>\n      <td>30.0</td>\n      <td>SG</td>\n      <td>27.0</td>\n      <td>6-5</td>\n      <td>205.0</td>\n      <td>Boston University</td>\n      <td>NaN</td>\n    </tr>\n    <tr>\n      <th>9</th>\n      <td>Marcus Smart</td>\n      <td>Boston Celtics</td>\n      <td>36.0</td>\n      <td>PG</td>\n      <td>22.0</td>\n      <td>6-4</td>\n      <td>220.0</td>\n      <td>Oklahoma State</td>\n      <td>3431040.0</td>\n    </tr>\n    <tr>\n      <th>7</th>\n      <td>Kelly Olynyk</td>\n      <td>Boston Celtics</td>\n      <td>41.0</td>\n      <td>C</td>\n      <td>25.0</td>\n      <td>7-0</td>\n      <td>238.0</td>\n      <td>Gonzaga</td>\n      <td>2165160.0</td>\n    </tr>\n    <tr>\n      <th>14</th>\n      <td>Tyler Zeller</td>\n      <td>Boston Celtics</td>\n      <td>44.0</td>\n      <td>C</td>\n      <td>26.0</td>\n      <td>7-0</td>\n      <td>253.0</td>\n      <td>North Carolina</td>\n      <td>2616975.0</td>\n    </tr>\n    <tr>\n      <th>6</th>\n      <td>Jordan Mickey</td>\n      <td>Boston Celtics</td>\n      <td>55.0</td>\n      <td>PF</td>\n      <td>21.0</td>\n      <td>6-8</td>\n      <td>235.0</td>\n      <td>LSU</td>\n      <td>1170960.0</td>\n    </tr>\n    <tr>\n      <th>5</th>\n      <td>Amir Johnson</td>\n      <td>Boston Celtics</td>\n      <td>90.0</td>\n      <td>PF</td>\n      <td>29.0</td>\n      <td>6-9</td>\n      <td>240.0</td>\n      <td>NaN</td>\n      <td>12000000.0</td>\n    </tr>\n    <tr>\n      <th>1</th>\n      <td>Jae Crowder</td>\n      <td>Boston Celtics</td>\n      <td>99.0</td>\n      <td>SF</td>\n      <td>25.0</td>\n      <td>6-6</td>\n      <td>235.0</td>\n      <td>Marquette</td>\n      <td>6796117.0</td>\n    </tr>\n  </tbody>\n</table>\n</div>"
     },
     "execution_count": 45,
     "metadata": {},
     "output_type": "execute_result"
    },
    {
     "data": {
      "text/plain": "               Name            Team  Number Position   Age Height  Weight  \\\n0     Avery Bradley  Boston Celtics     0.0       PG  25.0    6-2   180.0   \n11    Isaiah Thomas  Boston Celtics     4.0       PG  27.0    5-9   185.0   \n10  Jared Sullinger  Boston Celtics     7.0        C  24.0    6-9   260.0   \n4     Jonas Jerebko  Boston Celtics     8.0       PF  29.0   6-10   231.0   \n12      Evan Turner  Boston Celtics    11.0       SG  27.0    6-7   220.0   \n8      Terry Rozier  Boston Celtics    12.0       PG  22.0    6-2   190.0   \n13      James Young  Boston Celtics    13.0       SG  20.0    6-6   215.0   \n3       R.J. Hunter  Boston Celtics    28.0       SG  22.0    6-5   185.0   \n2      John Holland  Boston Celtics    30.0       SG  27.0    6-5   205.0   \n9      Marcus Smart  Boston Celtics    36.0       PG  22.0    6-4   220.0   \n7      Kelly Olynyk  Boston Celtics    41.0        C  25.0    7-0   238.0   \n14     Tyler Zeller  Boston Celtics    44.0        C  26.0    7-0   253.0   \n6     Jordan Mickey  Boston Celtics    55.0       PF  21.0    6-8   235.0   \n5      Amir Johnson  Boston Celtics    90.0       PF  29.0    6-9   240.0   \n1       Jae Crowder  Boston Celtics    99.0       SF  25.0    6-6   235.0   \n\n              College      Salary  \n0               Texas   7730337.0  \n11         Washington   6912869.0  \n10         Ohio State   2569260.0  \n4                 NaN   5000000.0  \n12         Ohio State   3425510.0  \n8          Louisville   1824360.0  \n13           Kentucky   1749840.0  \n3       Georgia State   1148640.0  \n2   Boston University         NaN  \n9      Oklahoma State   3431040.0  \n7             Gonzaga   2165160.0  \n14     North Carolina   2616975.0  \n6                 LSU   1170960.0  \n5                 NaN  12000000.0  \n1           Marquette   6796117.0  ",
      "text/html": "<div>\n<style scoped>\n    .dataframe tbody tr th:only-of-type {\n        vertical-align: middle;\n    }\n\n    .dataframe tbody tr th {\n        vertical-align: top;\n    }\n\n    .dataframe thead th {\n        text-align: right;\n    }\n</style>\n<table border=\"1\" class=\"dataframe\">\n  <thead>\n    <tr style=\"text-align: right;\">\n      <th></th>\n      <th>Name</th>\n      <th>Team</th>\n      <th>Number</th>\n      <th>Position</th>\n      <th>Age</th>\n      <th>Height</th>\n      <th>Weight</th>\n      <th>College</th>\n      <th>Salary</th>\n    </tr>\n  </thead>\n  <tbody>\n    <tr>\n      <th>0</th>\n      <td>Avery Bradley</td>\n      <td>Boston Celtics</td>\n      <td>0.0</td>\n      <td>PG</td>\n      <td>25.0</td>\n      <td>6-2</td>\n      <td>180.0</td>\n      <td>Texas</td>\n      <td>7730337.0</td>\n    </tr>\n    <tr>\n      <th>11</th>\n      <td>Isaiah Thomas</td>\n      <td>Boston Celtics</td>\n      <td>4.0</td>\n      <td>PG</td>\n      <td>27.0</td>\n      <td>5-9</td>\n      <td>185.0</td>\n      <td>Washington</td>\n      <td>6912869.0</td>\n    </tr>\n    <tr>\n      <th>10</th>\n      <td>Jared Sullinger</td>\n      <td>Boston Celtics</td>\n      <td>7.0</td>\n      <td>C</td>\n      <td>24.0</td>\n      <td>6-9</td>\n      <td>260.0</td>\n      <td>Ohio State</td>\n      <td>2569260.0</td>\n    </tr>\n    <tr>\n      <th>4</th>\n      <td>Jonas Jerebko</td>\n      <td>Boston Celtics</td>\n      <td>8.0</td>\n      <td>PF</td>\n      <td>29.0</td>\n      <td>6-10</td>\n      <td>231.0</td>\n      <td>NaN</td>\n      <td>5000000.0</td>\n    </tr>\n    <tr>\n      <th>12</th>\n      <td>Evan Turner</td>\n      <td>Boston Celtics</td>\n      <td>11.0</td>\n      <td>SG</td>\n      <td>27.0</td>\n      <td>6-7</td>\n      <td>220.0</td>\n      <td>Ohio State</td>\n      <td>3425510.0</td>\n    </tr>\n    <tr>\n      <th>8</th>\n      <td>Terry Rozier</td>\n      <td>Boston Celtics</td>\n      <td>12.0</td>\n      <td>PG</td>\n      <td>22.0</td>\n      <td>6-2</td>\n      <td>190.0</td>\n      <td>Louisville</td>\n      <td>1824360.0</td>\n    </tr>\n    <tr>\n      <th>13</th>\n      <td>James Young</td>\n      <td>Boston Celtics</td>\n      <td>13.0</td>\n      <td>SG</td>\n      <td>20.0</td>\n      <td>6-6</td>\n      <td>215.0</td>\n      <td>Kentucky</td>\n      <td>1749840.0</td>\n    </tr>\n    <tr>\n      <th>3</th>\n      <td>R.J. Hunter</td>\n      <td>Boston Celtics</td>\n      <td>28.0</td>\n      <td>SG</td>\n      <td>22.0</td>\n      <td>6-5</td>\n      <td>185.0</td>\n      <td>Georgia State</td>\n      <td>1148640.0</td>\n    </tr>\n    <tr>\n      <th>2</th>\n      <td>John Holland</td>\n      <td>Boston Celtics</td>\n      <td>30.0</td>\n      <td>SG</td>\n      <td>27.0</td>\n      <td>6-5</td>\n      <td>205.0</td>\n      <td>Boston University</td>\n      <td>NaN</td>\n    </tr>\n    <tr>\n      <th>9</th>\n      <td>Marcus Smart</td>\n      <td>Boston Celtics</td>\n      <td>36.0</td>\n      <td>PG</td>\n      <td>22.0</td>\n      <td>6-4</td>\n      <td>220.0</td>\n      <td>Oklahoma State</td>\n      <td>3431040.0</td>\n    </tr>\n    <tr>\n      <th>7</th>\n      <td>Kelly Olynyk</td>\n      <td>Boston Celtics</td>\n      <td>41.0</td>\n      <td>C</td>\n      <td>25.0</td>\n      <td>7-0</td>\n      <td>238.0</td>\n      <td>Gonzaga</td>\n      <td>2165160.0</td>\n    </tr>\n    <tr>\n      <th>14</th>\n      <td>Tyler Zeller</td>\n      <td>Boston Celtics</td>\n      <td>44.0</td>\n      <td>C</td>\n      <td>26.0</td>\n      <td>7-0</td>\n      <td>253.0</td>\n      <td>North Carolina</td>\n      <td>2616975.0</td>\n    </tr>\n    <tr>\n      <th>6</th>\n      <td>Jordan Mickey</td>\n      <td>Boston Celtics</td>\n      <td>55.0</td>\n      <td>PF</td>\n      <td>21.0</td>\n      <td>6-8</td>\n      <td>235.0</td>\n      <td>LSU</td>\n      <td>1170960.0</td>\n    </tr>\n    <tr>\n      <th>5</th>\n      <td>Amir Johnson</td>\n      <td>Boston Celtics</td>\n      <td>90.0</td>\n      <td>PF</td>\n      <td>29.0</td>\n      <td>6-9</td>\n      <td>240.0</td>\n      <td>NaN</td>\n      <td>12000000.0</td>\n    </tr>\n    <tr>\n      <th>1</th>\n      <td>Jae Crowder</td>\n      <td>Boston Celtics</td>\n      <td>99.0</td>\n      <td>SF</td>\n      <td>25.0</td>\n      <td>6-6</td>\n      <td>235.0</td>\n      <td>Marquette</td>\n      <td>6796117.0</td>\n    </tr>\n  </tbody>\n</table>\n</div>"
     },
     "execution_count": 45,
     "metadata": {},
     "output_type": "execute_result"
    }
   ],
   "source": [
    "df = pd.read_csv('https://media.geeksforgeeks.org/wp-content/uploads/nba.csv')# YOUR CODE HERE\n",
    "df = df.iloc[:15]\n",
    "df.sort_index(ascending=False)\n",
    "df.sort_values(by='Number')\n",
    "df.sort_values(by=['Number', 'Weight'])\n",
    "\n",
    "df.to_csv('./Pandas_Tutorial_Part_2_2.csv')"
   ]
  },
  {
   "cell_type": "markdown",
   "metadata": {
    "id": "6QthaGRKuBFO",
    "pycharm": {
     "name": "#%% md\n"
    }
   },
   "source": [
    "## Setting and Editing data"
   ]
  },
  {
   "cell_type": "markdown",
   "metadata": {
    "id": "PnpdJMIcuH8V",
    "pycharm": {
     "name": "#%% md\n"
    }
   },
   "source": [
    "Sometimes we would like to change single value of few values, row or column wise"
   ]
  },
  {
   "cell_type": "code",
   "execution_count": 48,
   "metadata": {
    "colab": {
     "base_uri": "https://localhost:8080/",
     "height": 142
    },
    "id": "ysGLbfg6uTqF",
    "outputId": "6c05433f-5e68-480d-b5b4-ce5cb3a0ad34",
    "pycharm": {
     "name": "#%%\n"
    }
   },
   "outputs": [
    {
     "data": {
      "text/plain": "       day  liters\n0   Sunday      10\n1   Monday      15\n2  Tuesday       8",
      "text/html": "<div>\n<style scoped>\n    .dataframe tbody tr th:only-of-type {\n        vertical-align: middle;\n    }\n\n    .dataframe tbody tr th {\n        vertical-align: top;\n    }\n\n    .dataframe thead th {\n        text-align: right;\n    }\n</style>\n<table border=\"1\" class=\"dataframe\">\n  <thead>\n    <tr style=\"text-align: right;\">\n      <th></th>\n      <th>day</th>\n      <th>liters</th>\n    </tr>\n  </thead>\n  <tbody>\n    <tr>\n      <th>0</th>\n      <td>Sunday</td>\n      <td>10</td>\n    </tr>\n    <tr>\n      <th>1</th>\n      <td>Monday</td>\n      <td>15</td>\n    </tr>\n    <tr>\n      <th>2</th>\n      <td>Tuesday</td>\n      <td>8</td>\n    </tr>\n  </tbody>\n</table>\n</div>"
     },
     "execution_count": 48,
     "metadata": {},
     "output_type": "execute_result"
    }
   ],
   "source": [
    "data = {\n",
    "    'day': ['Sunday', 'Monday', 'Tuesday'],\n",
    "    'liters': [10, 15, 8]\n",
    "}\n",
    "\n",
    "df = pd.DataFrame(data)\n",
    "df"
   ]
  },
  {
   "cell_type": "markdown",
   "metadata": {
    "id": "wZEZ3xgbuwQ-",
    "pycharm": {
     "name": "#%% md\n"
    }
   },
   "source": [
    "Change full column values"
   ]
  },
  {
   "cell_type": "code",
   "execution_count": 47,
   "metadata": {
    "colab": {
     "base_uri": "https://localhost:8080/",
     "height": 142
    },
    "id": "o3N_CqQRuycH",
    "outputId": "47ecfa02-c4ce-43d9-f42d-0dd46d51e583",
    "pycharm": {
     "name": "#%%\n"
    }
   },
   "outputs": [
    {
     "data": {
      "text/plain": "       day  liters\n0   Sunday      12\n1   Monday      55\n2  Tuesday       8",
      "text/html": "<div>\n<style scoped>\n    .dataframe tbody tr th:only-of-type {\n        vertical-align: middle;\n    }\n\n    .dataframe tbody tr th {\n        vertical-align: top;\n    }\n\n    .dataframe thead th {\n        text-align: right;\n    }\n</style>\n<table border=\"1\" class=\"dataframe\">\n  <thead>\n    <tr style=\"text-align: right;\">\n      <th></th>\n      <th>day</th>\n      <th>liters</th>\n    </tr>\n  </thead>\n  <tbody>\n    <tr>\n      <th>0</th>\n      <td>Sunday</td>\n      <td>12</td>\n    </tr>\n    <tr>\n      <th>1</th>\n      <td>Monday</td>\n      <td>55</td>\n    </tr>\n    <tr>\n      <th>2</th>\n      <td>Tuesday</td>\n      <td>8</td>\n    </tr>\n  </tbody>\n</table>\n</div>"
     },
     "execution_count": 47,
     "metadata": {},
     "output_type": "execute_result"
    }
   ],
   "source": [
    "new_liters_values = pd.Series([12, 55, 8])\n",
    "df['liters'] = new_liters_values\n",
    "\n",
    "df"
   ]
  },
  {
   "cell_type": "code",
   "execution_count": 50,
   "metadata": {
    "colab": {
     "base_uri": "https://localhost:8080/",
     "height": 142
    },
    "id": "EJ7rdDDdu7_M",
    "outputId": "9ad501f4-87fb-4242-82cd-2d2bf305bf79",
    "pycharm": {
     "name": "#%%\n"
    }
   },
   "outputs": [
    {
     "data": {
      "text/plain": "       day  liters\n0   Sunday    12.0\n1   Monday     NaN\n2  Tuesday    55.0",
      "text/html": "<div>\n<style scoped>\n    .dataframe tbody tr th:only-of-type {\n        vertical-align: middle;\n    }\n\n    .dataframe tbody tr th {\n        vertical-align: top;\n    }\n\n    .dataframe thead th {\n        text-align: right;\n    }\n</style>\n<table border=\"1\" class=\"dataframe\">\n  <thead>\n    <tr style=\"text-align: right;\">\n      <th></th>\n      <th>day</th>\n      <th>liters</th>\n    </tr>\n  </thead>\n  <tbody>\n    <tr>\n      <th>0</th>\n      <td>Sunday</td>\n      <td>12.0</td>\n    </tr>\n    <tr>\n      <th>1</th>\n      <td>Monday</td>\n      <td>NaN</td>\n    </tr>\n    <tr>\n      <th>2</th>\n      <td>Tuesday</td>\n      <td>55.0</td>\n    </tr>\n  </tbody>\n</table>\n</div>"
     },
     "execution_count": 50,
     "metadata": {},
     "output_type": "execute_result"
    }
   ],
   "source": [
    "# Indexes must be allign, otherwise we will get NaNs (np.nan)\n",
    "\n",
    "new_liters_values = pd.Series([12, 55, 8], index=[0, 2, 10])\n",
    "df['liters'] = new_liters_values\n",
    "\n",
    "df"
   ]
  },
  {
   "cell_type": "markdown",
   "metadata": {
    "id": "3gwPKfpqvOqO",
    "pycharm": {
     "name": "#%% md\n"
    }
   },
   "source": [
    "Setting value for a subset of values"
   ]
  },
  {
   "cell_type": "code",
   "execution_count": 51,
   "metadata": {
    "colab": {
     "base_uri": "https://localhost:8080/",
     "height": 142
    },
    "id": "u49905kfvTai",
    "outputId": "256e890a-1652-4e03-add6-6ee18c8e1034",
    "pycharm": {
     "name": "#%%\n"
    }
   },
   "outputs": [
    {
     "data": {
      "text/plain": "       day  liters\n0   Sunday     1.0\n1   Monday     1.0\n2  Tuesday    55.0",
      "text/html": "<div>\n<style scoped>\n    .dataframe tbody tr th:only-of-type {\n        vertical-align: middle;\n    }\n\n    .dataframe tbody tr th {\n        vertical-align: top;\n    }\n\n    .dataframe thead th {\n        text-align: right;\n    }\n</style>\n<table border=\"1\" class=\"dataframe\">\n  <thead>\n    <tr style=\"text-align: right;\">\n      <th></th>\n      <th>day</th>\n      <th>liters</th>\n    </tr>\n  </thead>\n  <tbody>\n    <tr>\n      <th>0</th>\n      <td>Sunday</td>\n      <td>1.0</td>\n    </tr>\n    <tr>\n      <th>1</th>\n      <td>Monday</td>\n      <td>1.0</td>\n    </tr>\n    <tr>\n      <th>2</th>\n      <td>Tuesday</td>\n      <td>55.0</td>\n    </tr>\n  </tbody>\n</table>\n</div>"
     },
     "execution_count": 51,
     "metadata": {},
     "output_type": "execute_result"
    }
   ],
   "source": [
    "df.loc[[0, 1], 'liters'] = 1 # change the values of first and second rows' liters value to 1\n",
    "df"
   ]
  },
  {
   "cell_type": "markdown",
   "metadata": {
    "id": "eDm6LT_evnVI",
    "pycharm": {
     "name": "#%% md\n"
    }
   },
   "source": [
    "Setting value of a specific cell, by position"
   ]
  },
  {
   "cell_type": "code",
   "execution_count": 52,
   "metadata": {
    "colab": {
     "base_uri": "https://localhost:8080/",
     "height": 142
    },
    "id": "iXuAjxlkvkNe",
    "outputId": "a75cd188-f649-4746-d7fd-7e4c3aef6e82",
    "pycharm": {
     "name": "#%%\n"
    }
   },
   "outputs": [
    {
     "data": {
      "text/plain": "       day  liters\n0   Sunday     1.0\n1   Monday     1.0\n2  Tuesday     2.0",
      "text/html": "<div>\n<style scoped>\n    .dataframe tbody tr th:only-of-type {\n        vertical-align: middle;\n    }\n\n    .dataframe tbody tr th {\n        vertical-align: top;\n    }\n\n    .dataframe thead th {\n        text-align: right;\n    }\n</style>\n<table border=\"1\" class=\"dataframe\">\n  <thead>\n    <tr style=\"text-align: right;\">\n      <th></th>\n      <th>day</th>\n      <th>liters</th>\n    </tr>\n  </thead>\n  <tbody>\n    <tr>\n      <th>0</th>\n      <td>Sunday</td>\n      <td>1.0</td>\n    </tr>\n    <tr>\n      <th>1</th>\n      <td>Monday</td>\n      <td>1.0</td>\n    </tr>\n    <tr>\n      <th>2</th>\n      <td>Tuesday</td>\n      <td>2.0</td>\n    </tr>\n  </tbody>\n</table>\n</div>"
     },
     "execution_count": 52,
     "metadata": {},
     "output_type": "execute_result"
    }
   ],
   "source": [
    "df.iloc[-1, 1] = 2 # last row, second column df.loc[-1, 'liters'] = 2\n",
    "df"
   ]
  },
  {
   "cell_type": "markdown",
   "metadata": {
    "id": "mC47_WJYv-nw",
    "pycharm": {
     "name": "#%% md\n"
    }
   },
   "source": [
    "Setting values using NumPy Array"
   ]
  },
  {
   "cell_type": "code",
   "execution_count": 53,
   "metadata": {
    "colab": {
     "base_uri": "https://localhost:8080/",
     "height": 142
    },
    "id": "c3KiGYoEwDH8",
    "outputId": "cc57cd37-e0d8-46af-a1de-c26ac4e00ca8",
    "pycharm": {
     "name": "#%%\n"
    }
   },
   "outputs": [
    {
     "data": {
      "text/plain": "       day  liters\n0   Sunday      42\n1   Monday      42\n2  Tuesday      42",
      "text/html": "<div>\n<style scoped>\n    .dataframe tbody tr th:only-of-type {\n        vertical-align: middle;\n    }\n\n    .dataframe tbody tr th {\n        vertical-align: top;\n    }\n\n    .dataframe thead th {\n        text-align: right;\n    }\n</style>\n<table border=\"1\" class=\"dataframe\">\n  <thead>\n    <tr style=\"text-align: right;\">\n      <th></th>\n      <th>day</th>\n      <th>liters</th>\n    </tr>\n  </thead>\n  <tbody>\n    <tr>\n      <th>0</th>\n      <td>Sunday</td>\n      <td>42</td>\n    </tr>\n    <tr>\n      <th>1</th>\n      <td>Monday</td>\n      <td>42</td>\n    </tr>\n    <tr>\n      <th>2</th>\n      <td>Tuesday</td>\n      <td>42</td>\n    </tr>\n  </tbody>\n</table>\n</div>"
     },
     "execution_count": 53,
     "metadata": {},
     "output_type": "execute_result"
    }
   ],
   "source": [
    "# Reminder: in order to get dimensions of DataFrame - use df.shape -> (rows num, columns num)\n",
    "\n",
    "df.loc[:, 'liters'] = np.array([42] * df.shape[0])\n",
    "df "
   ]
  },
  {
   "cell_type": "markdown",
   "metadata": {
    "id": "VbqpRQqgywdj",
    "pycharm": {
     "name": "#%% md\n"
    }
   },
   "source": [
    "Setting values using a function\n"
   ]
  },
  {
   "cell_type": "code",
   "execution_count": 54,
   "metadata": {
    "colab": {
     "base_uri": "https://localhost:8080/",
     "height": 142
    },
    "id": "aV3ZnVmby51C",
    "outputId": "967480eb-bbbf-416d-db47-ce0b56c9d951",
    "pycharm": {
     "name": "#%%\n"
    }
   },
   "outputs": [
    {
     "data": {
      "text/plain": "       day  liters\n0   Sunday      52\n1   Monday      52\n2  Tuesday      52",
      "text/html": "<div>\n<style scoped>\n    .dataframe tbody tr th:only-of-type {\n        vertical-align: middle;\n    }\n\n    .dataframe tbody tr th {\n        vertical-align: top;\n    }\n\n    .dataframe thead th {\n        text-align: right;\n    }\n</style>\n<table border=\"1\" class=\"dataframe\">\n  <thead>\n    <tr style=\"text-align: right;\">\n      <th></th>\n      <th>day</th>\n      <th>liters</th>\n    </tr>\n  </thead>\n  <tbody>\n    <tr>\n      <th>0</th>\n      <td>Sunday</td>\n      <td>52</td>\n    </tr>\n    <tr>\n      <th>1</th>\n      <td>Monday</td>\n      <td>52</td>\n    </tr>\n    <tr>\n      <th>2</th>\n      <td>Tuesday</td>\n      <td>52</td>\n    </tr>\n  </tbody>\n</table>\n</div>"
     },
     "execution_count": 54,
     "metadata": {},
     "output_type": "execute_result"
    }
   ],
   "source": [
    "df['liters'] = df['liters'].apply(lambda x: x + 10) # adds 10 to each value in 'liters' column\n",
    "df"
   ]
  },
  {
   "cell_type": "markdown",
   "metadata": {
    "id": "ejOH6I0qwZYI",
    "pycharm": {
     "name": "#%% md\n"
    }
   },
   "source": [
    "Setting values based on a condition"
   ]
  },
  {
   "cell_type": "code",
   "execution_count": 55,
   "metadata": {
    "colab": {
     "base_uri": "https://localhost:8080/",
     "height": 142
    },
    "id": "i-vOcTwSwj0I",
    "outputId": "eb498b9f-9551-4081-f42e-ebc37429399c",
    "pycharm": {
     "name": "#%%\n"
    }
   },
   "outputs": [
    {
     "data": {
      "text/plain": "       day  liters\n0   Sunday      10\n1   Monday      15\n2  Tuesday       8",
      "text/html": "<div>\n<style scoped>\n    .dataframe tbody tr th:only-of-type {\n        vertical-align: middle;\n    }\n\n    .dataframe tbody tr th {\n        vertical-align: top;\n    }\n\n    .dataframe thead th {\n        text-align: right;\n    }\n</style>\n<table border=\"1\" class=\"dataframe\">\n  <thead>\n    <tr style=\"text-align: right;\">\n      <th></th>\n      <th>day</th>\n      <th>liters</th>\n    </tr>\n  </thead>\n  <tbody>\n    <tr>\n      <th>0</th>\n      <td>Sunday</td>\n      <td>10</td>\n    </tr>\n    <tr>\n      <th>1</th>\n      <td>Monday</td>\n      <td>15</td>\n    </tr>\n    <tr>\n      <th>2</th>\n      <td>Tuesday</td>\n      <td>8</td>\n    </tr>\n  </tbody>\n</table>\n</div>"
     },
     "execution_count": 55,
     "metadata": {},
     "output_type": "execute_result"
    }
   ],
   "source": [
    "data = {\n",
    "    'day': ['Sunday', 'Monday', 'Tuesday'],\n",
    "    'liters': [10, 15, 8]\n",
    "}\n",
    "\n",
    "df = pd.DataFrame(data)\n",
    "df"
   ]
  },
  {
   "cell_type": "code",
   "execution_count": 56,
   "metadata": {
    "colab": {
     "base_uri": "https://localhost:8080/",
     "height": 142
    },
    "id": "FDFCoMj7w6RC",
    "outputId": "7dc9d185-1543-4c4a-f2bb-fe48a7e9a6cb",
    "pycharm": {
     "name": "#%%\n"
    }
   },
   "outputs": [
    {
     "data": {
      "text/plain": "       day  liters\n0   Sunday      10\n1   Monday      15\n2  Tuesday       8",
      "text/html": "<div>\n<style scoped>\n    .dataframe tbody tr th:only-of-type {\n        vertical-align: middle;\n    }\n\n    .dataframe tbody tr th {\n        vertical-align: top;\n    }\n\n    .dataframe thead th {\n        text-align: right;\n    }\n</style>\n<table border=\"1\" class=\"dataframe\">\n  <thead>\n    <tr style=\"text-align: right;\">\n      <th></th>\n      <th>day</th>\n      <th>liters</th>\n    </tr>\n  </thead>\n  <tbody>\n    <tr>\n      <th>0</th>\n      <td>Sunday</td>\n      <td>10</td>\n    </tr>\n    <tr>\n      <th>1</th>\n      <td>Monday</td>\n      <td>15</td>\n    </tr>\n    <tr>\n      <th>2</th>\n      <td>Tuesday</td>\n      <td>8</td>\n    </tr>\n  </tbody>\n</table>\n</div>"
     },
     "execution_count": 56,
     "metadata": {},
     "output_type": "execute_result"
    }
   ],
   "source": [
    "df_2 = df.copy()\n",
    "df_2"
   ]
  },
  {
   "cell_type": "code",
   "execution_count": 57,
   "metadata": {
    "colab": {
     "base_uri": "https://localhost:8080/",
     "height": 142
    },
    "id": "eLkPmRkDwdXG",
    "outputId": "82bbe48a-0119-4aae-84fc-80e96080585a",
    "pycharm": {
     "name": "#%%\n"
    }
   },
   "outputs": [
    {
     "data": {
      "text/plain": "      day  liters\n0       0       0\n1  Monday      15\n2       0       0",
      "text/html": "<div>\n<style scoped>\n    .dataframe tbody tr th:only-of-type {\n        vertical-align: middle;\n    }\n\n    .dataframe tbody tr th {\n        vertical-align: top;\n    }\n\n    .dataframe thead th {\n        text-align: right;\n    }\n</style>\n<table border=\"1\" class=\"dataframe\">\n  <thead>\n    <tr style=\"text-align: right;\">\n      <th></th>\n      <th>day</th>\n      <th>liters</th>\n    </tr>\n  </thead>\n  <tbody>\n    <tr>\n      <th>0</th>\n      <td>0</td>\n      <td>0</td>\n    </tr>\n    <tr>\n      <th>1</th>\n      <td>Monday</td>\n      <td>15</td>\n    </tr>\n    <tr>\n      <th>2</th>\n      <td>0</td>\n      <td>0</td>\n    </tr>\n  </tbody>\n</table>\n</div>"
     },
     "execution_count": 57,
     "metadata": {},
     "output_type": "execute_result"
    }
   ],
   "source": [
    "df_2[df_2['liters'] % 2 == 0] = 0\n",
    "df_2"
   ]
  },
  {
   "cell_type": "code",
   "execution_count": 58,
   "metadata": {
    "colab": {
     "base_uri": "https://localhost:8080/",
     "height": 227
    },
    "id": "jANGBRFlw49B",
    "outputId": "60b86cfc-82e8-4d8f-bf62-3d760c4a03f8",
    "pycharm": {
     "name": "#%%\n"
    }
   },
   "outputs": [
    {
     "name": "stderr",
     "output_type": "stream",
     "text": [
      "C:\\Users\\orian\\PycharmProjects\\hit_machine_learning\\venv\\lib\\site-packages\\ipykernel_launcher.py:1: SettingWithCopyWarning: \n",
      "A value is trying to be set on a copy of a slice from a DataFrame\n",
      "\n",
      "See the caveats in the documentation: https://pandas.pydata.org/pandas-docs/stable/user_guide/indexing.html#returning-a-view-versus-a-copy\n",
      "  \"\"\"Entry point for launching an IPython kernel.\n"
     ]
    },
    {
     "data": {
      "text/plain": "      day  liters\n0       0       0\n1  Monday      15\n2       0       0",
      "text/html": "<div>\n<style scoped>\n    .dataframe tbody tr th:only-of-type {\n        vertical-align: middle;\n    }\n\n    .dataframe tbody tr th {\n        vertical-align: top;\n    }\n\n    .dataframe thead th {\n        text-align: right;\n    }\n</style>\n<table border=\"1\" class=\"dataframe\">\n  <thead>\n    <tr style=\"text-align: right;\">\n      <th></th>\n      <th>day</th>\n      <th>liters</th>\n    </tr>\n  </thead>\n  <tbody>\n    <tr>\n      <th>0</th>\n      <td>0</td>\n      <td>0</td>\n    </tr>\n    <tr>\n      <th>1</th>\n      <td>Monday</td>\n      <td>15</td>\n    </tr>\n    <tr>\n      <th>2</th>\n      <td>0</td>\n      <td>0</td>\n    </tr>\n  </tbody>\n</table>\n</div>"
     },
     "execution_count": 58,
     "metadata": {},
     "output_type": "execute_result"
    }
   ],
   "source": [
    "df_2['liters'][df_2['liters'] % 2 == 0] = 0\n",
    "df_2"
   ]
  },
  {
   "cell_type": "markdown",
   "metadata": {
    "id": "lbqZOLuZ0rWD",
    "pycharm": {
     "name": "#%% md\n"
    }
   },
   "source": [
    "## Exercise 3\n",
    "\n",
    "1. Download and read the csv from \"https://media.geeksforgeeks.org/wp-content/uploads/nba.csv\"\n",
    "1. Slice the DataFrame until the **15th** row\n",
    "1. Change **all** values in '**Height**' column to **180**\n",
    "1. Change the value of the **first and second** players' '**Number**' to **100**\n",
    "1. Change the '**Age**' of players playing in '**Position**' '**PF**' to **50**\n",
    "1. Increase the \"**Salary**\" of all players by **10** using **df.apply(lambda function)**"
   ]
  },
  {
   "cell_type": "code",
   "execution_count": 71,
   "metadata": {
    "id": "E0oMLQGDRqQz",
    "pycharm": {
     "name": "#%%\n"
    }
   },
   "outputs": [
    {
     "data": {
      "text/plain": "               Name            Team  Number Position   Age  Height  Weight  \\\n0     Avery Bradley  Boston Celtics   100.0       PG  25.0     180   180.0   \n1       Jae Crowder  Boston Celtics   100.0       SF  25.0     180   235.0   \n2      John Holland  Boston Celtics    30.0       SG  27.0     180   205.0   \n3       R.J. Hunter  Boston Celtics    28.0       SG  22.0     180   185.0   \n4     Jonas Jerebko  Boston Celtics     8.0       PF  50.0     180   231.0   \n5      Amir Johnson  Boston Celtics    90.0       PF  50.0     180   240.0   \n6     Jordan Mickey  Boston Celtics    55.0       PF  50.0     180   235.0   \n7      Kelly Olynyk  Boston Celtics    41.0        C  25.0     180   238.0   \n8      Terry Rozier  Boston Celtics    12.0       PG  22.0     180   190.0   \n9      Marcus Smart  Boston Celtics    36.0       PG  22.0     180   220.0   \n10  Jared Sullinger  Boston Celtics     7.0        C  24.0     180   260.0   \n11    Isaiah Thomas  Boston Celtics     4.0       PG  27.0     180   185.0   \n12      Evan Turner  Boston Celtics    11.0       SG  27.0     180   220.0   \n13      James Young  Boston Celtics    13.0       SG  20.0     180   215.0   \n14     Tyler Zeller  Boston Celtics    44.0        C  26.0     180   253.0   \n\n              College      Salary  \n0               Texas   7730347.0  \n1           Marquette   6796127.0  \n2   Boston University         NaN  \n3       Georgia State   1148650.0  \n4                 NaN   5000010.0  \n5                 NaN  12000010.0  \n6                 LSU   1170970.0  \n7             Gonzaga   2165170.0  \n8          Louisville   1824370.0  \n9      Oklahoma State   3431050.0  \n10         Ohio State   2569270.0  \n11         Washington   6912879.0  \n12         Ohio State   3425520.0  \n13           Kentucky   1749850.0  \n14     North Carolina   2616985.0  ",
      "text/html": "<div>\n<style scoped>\n    .dataframe tbody tr th:only-of-type {\n        vertical-align: middle;\n    }\n\n    .dataframe tbody tr th {\n        vertical-align: top;\n    }\n\n    .dataframe thead th {\n        text-align: right;\n    }\n</style>\n<table border=\"1\" class=\"dataframe\">\n  <thead>\n    <tr style=\"text-align: right;\">\n      <th></th>\n      <th>Name</th>\n      <th>Team</th>\n      <th>Number</th>\n      <th>Position</th>\n      <th>Age</th>\n      <th>Height</th>\n      <th>Weight</th>\n      <th>College</th>\n      <th>Salary</th>\n    </tr>\n  </thead>\n  <tbody>\n    <tr>\n      <th>0</th>\n      <td>Avery Bradley</td>\n      <td>Boston Celtics</td>\n      <td>100.0</td>\n      <td>PG</td>\n      <td>25.0</td>\n      <td>180</td>\n      <td>180.0</td>\n      <td>Texas</td>\n      <td>7730347.0</td>\n    </tr>\n    <tr>\n      <th>1</th>\n      <td>Jae Crowder</td>\n      <td>Boston Celtics</td>\n      <td>100.0</td>\n      <td>SF</td>\n      <td>25.0</td>\n      <td>180</td>\n      <td>235.0</td>\n      <td>Marquette</td>\n      <td>6796127.0</td>\n    </tr>\n    <tr>\n      <th>2</th>\n      <td>John Holland</td>\n      <td>Boston Celtics</td>\n      <td>30.0</td>\n      <td>SG</td>\n      <td>27.0</td>\n      <td>180</td>\n      <td>205.0</td>\n      <td>Boston University</td>\n      <td>NaN</td>\n    </tr>\n    <tr>\n      <th>3</th>\n      <td>R.J. Hunter</td>\n      <td>Boston Celtics</td>\n      <td>28.0</td>\n      <td>SG</td>\n      <td>22.0</td>\n      <td>180</td>\n      <td>185.0</td>\n      <td>Georgia State</td>\n      <td>1148650.0</td>\n    </tr>\n    <tr>\n      <th>4</th>\n      <td>Jonas Jerebko</td>\n      <td>Boston Celtics</td>\n      <td>8.0</td>\n      <td>PF</td>\n      <td>50.0</td>\n      <td>180</td>\n      <td>231.0</td>\n      <td>NaN</td>\n      <td>5000010.0</td>\n    </tr>\n    <tr>\n      <th>5</th>\n      <td>Amir Johnson</td>\n      <td>Boston Celtics</td>\n      <td>90.0</td>\n      <td>PF</td>\n      <td>50.0</td>\n      <td>180</td>\n      <td>240.0</td>\n      <td>NaN</td>\n      <td>12000010.0</td>\n    </tr>\n    <tr>\n      <th>6</th>\n      <td>Jordan Mickey</td>\n      <td>Boston Celtics</td>\n      <td>55.0</td>\n      <td>PF</td>\n      <td>50.0</td>\n      <td>180</td>\n      <td>235.0</td>\n      <td>LSU</td>\n      <td>1170970.0</td>\n    </tr>\n    <tr>\n      <th>7</th>\n      <td>Kelly Olynyk</td>\n      <td>Boston Celtics</td>\n      <td>41.0</td>\n      <td>C</td>\n      <td>25.0</td>\n      <td>180</td>\n      <td>238.0</td>\n      <td>Gonzaga</td>\n      <td>2165170.0</td>\n    </tr>\n    <tr>\n      <th>8</th>\n      <td>Terry Rozier</td>\n      <td>Boston Celtics</td>\n      <td>12.0</td>\n      <td>PG</td>\n      <td>22.0</td>\n      <td>180</td>\n      <td>190.0</td>\n      <td>Louisville</td>\n      <td>1824370.0</td>\n    </tr>\n    <tr>\n      <th>9</th>\n      <td>Marcus Smart</td>\n      <td>Boston Celtics</td>\n      <td>36.0</td>\n      <td>PG</td>\n      <td>22.0</td>\n      <td>180</td>\n      <td>220.0</td>\n      <td>Oklahoma State</td>\n      <td>3431050.0</td>\n    </tr>\n    <tr>\n      <th>10</th>\n      <td>Jared Sullinger</td>\n      <td>Boston Celtics</td>\n      <td>7.0</td>\n      <td>C</td>\n      <td>24.0</td>\n      <td>180</td>\n      <td>260.0</td>\n      <td>Ohio State</td>\n      <td>2569270.0</td>\n    </tr>\n    <tr>\n      <th>11</th>\n      <td>Isaiah Thomas</td>\n      <td>Boston Celtics</td>\n      <td>4.0</td>\n      <td>PG</td>\n      <td>27.0</td>\n      <td>180</td>\n      <td>185.0</td>\n      <td>Washington</td>\n      <td>6912879.0</td>\n    </tr>\n    <tr>\n      <th>12</th>\n      <td>Evan Turner</td>\n      <td>Boston Celtics</td>\n      <td>11.0</td>\n      <td>SG</td>\n      <td>27.0</td>\n      <td>180</td>\n      <td>220.0</td>\n      <td>Ohio State</td>\n      <td>3425520.0</td>\n    </tr>\n    <tr>\n      <th>13</th>\n      <td>James Young</td>\n      <td>Boston Celtics</td>\n      <td>13.0</td>\n      <td>SG</td>\n      <td>20.0</td>\n      <td>180</td>\n      <td>215.0</td>\n      <td>Kentucky</td>\n      <td>1749850.0</td>\n    </tr>\n    <tr>\n      <th>14</th>\n      <td>Tyler Zeller</td>\n      <td>Boston Celtics</td>\n      <td>44.0</td>\n      <td>C</td>\n      <td>26.0</td>\n      <td>180</td>\n      <td>253.0</td>\n      <td>North Carolina</td>\n      <td>2616985.0</td>\n    </tr>\n  </tbody>\n</table>\n</div>"
     },
     "execution_count": 71,
     "metadata": {},
     "output_type": "execute_result"
    }
   ],
   "source": [
    "df = pd.read_csv('https://media.geeksforgeeks.org/wp-content/uploads/nba.csv')# YOUR CODE HERE\n",
    "df = df.iloc[:15]\n",
    "df['Height'] = 180\n",
    "df.loc[[0,1], 'Number'] = 100\n",
    "df.loc[df['Position'] == 'PF', 'Age'] = 50\n",
    "df['Salary'] = df['Salary'].apply(lambda x: x + 10)\n",
    "df"
   ]
  },
  {
   "cell_type": "markdown",
   "metadata": {
    "id": "EF8snZ2CEzub",
    "pycharm": {
     "name": "#%% md\n"
    }
   },
   "source": [
    "## Mathmatical and Statistical Operations\n",
    "\n",
    "Just like on plain Python Objects and NumPy Arrays, pandas support variety of mathmatical and statistical operations on Series and DataFrames"
   ]
  },
  {
   "cell_type": "code",
   "execution_count": 72,
   "metadata": {
    "colab": {
     "base_uri": "https://localhost:8080/"
    },
    "id": "1OPzkp5KHTKk",
    "outputId": "7b85f273-9ea2-4fce-a28a-bbe3b47db76e",
    "pycharm": {
     "name": "#%%\n"
    }
   },
   "outputs": [
    {
     "data": {
      "text/plain": "0    10\n1    20\n2   -10\ndtype: int64"
     },
     "execution_count": 72,
     "metadata": {},
     "output_type": "execute_result"
    }
   ],
   "source": [
    "s = pd.Series([10, 20, -10])\n",
    "s"
   ]
  },
  {
   "cell_type": "code",
   "execution_count": 73,
   "metadata": {
    "colab": {
     "base_uri": "https://localhost:8080/",
     "height": 142
    },
    "id": "ZA0jxHVYFTJe",
    "outputId": "cdcc5d1e-b5cb-46d1-dd1e-0af4b1bdc0d4",
    "pycharm": {
     "name": "#%%\n"
    }
   },
   "outputs": [
    {
     "data": {
      "text/plain": "    a   b   c\n0  10   3  -1\n1  15   9 -10\n2  20 -16  -7",
      "text/html": "<div>\n<style scoped>\n    .dataframe tbody tr th:only-of-type {\n        vertical-align: middle;\n    }\n\n    .dataframe tbody tr th {\n        vertical-align: top;\n    }\n\n    .dataframe thead th {\n        text-align: right;\n    }\n</style>\n<table border=\"1\" class=\"dataframe\">\n  <thead>\n    <tr style=\"text-align: right;\">\n      <th></th>\n      <th>a</th>\n      <th>b</th>\n      <th>c</th>\n    </tr>\n  </thead>\n  <tbody>\n    <tr>\n      <th>0</th>\n      <td>10</td>\n      <td>3</td>\n      <td>-1</td>\n    </tr>\n    <tr>\n      <th>1</th>\n      <td>15</td>\n      <td>9</td>\n      <td>-10</td>\n    </tr>\n    <tr>\n      <th>2</th>\n      <td>20</td>\n      <td>-16</td>\n      <td>-7</td>\n    </tr>\n  </tbody>\n</table>\n</div>"
     },
     "execution_count": 73,
     "metadata": {},
     "output_type": "execute_result"
    }
   ],
   "source": [
    "data = {\n",
    "    'a': [10, 15, 20],\n",
    "    'b': [3, 9, -16],\n",
    "    'c': [-1, -10, -7]\n",
    "}\n",
    "\n",
    "df = pd.DataFrame(data)\n",
    "df"
   ]
  },
  {
   "cell_type": "code",
   "execution_count": 74,
   "metadata": {
    "colab": {
     "base_uri": "https://localhost:8080/"
    },
    "id": "WXPXY1_CF4XB",
    "outputId": "beeb8751-36a7-4edf-8062-437330d9ec24",
    "pycharm": {
     "name": "#%%\n"
    }
   },
   "outputs": [
    {
     "name": "stdout",
     "output_type": "stream",
     "text": [
      "0    10\n",
      "1    20\n",
      "2    10\n",
      "dtype: int64\n",
      "\n",
      "    a   b   c\n",
      "0  10   3   1\n",
      "1  15   9  10\n",
      "2  20  16   7\n"
     ]
    }
   ],
   "source": [
    "# Absolute values\n",
    "\n",
    "print(s.abs())\n",
    "print()\n",
    "print(df.abs())"
   ]
  },
  {
   "cell_type": "code",
   "execution_count": 75,
   "metadata": {
    "colab": {
     "base_uri": "https://localhost:8080/"
    },
    "id": "jXw6wYRuHxK5",
    "outputId": "d7839a2a-aa09-4906-cd4d-709238df5590",
    "pycharm": {
     "name": "#%%\n"
    }
   },
   "outputs": [
    {
     "name": "stdout",
     "output_type": "stream",
     "text": [
      "    a   b  c\n",
      "0  11   4  0\n",
      "1  16  10 -9\n",
      "2  21 -15 -6\n",
      "    a   b  c\n",
      "0  11   4  0\n",
      "1  16  10 -9\n",
      "2  21 -15 -6\n",
      "\n",
      "    a   b  c\n",
      "0  11   5  2\n",
      "1  16  11 -7\n",
      "2  21 -14 -4\n",
      "    a   b  c\n",
      "0  11   4  0\n",
      "1  17  11 -8\n",
      "2  23 -13 -4\n"
     ]
    }
   ],
   "source": [
    "# Add a scalar with operator version which return the same results.\n",
    "\n",
    "print(df + 1)\n",
    "print(df.add(1))\n",
    "print()\n",
    "\n",
    "print(df.add([1, 2, 3])) # print(df.add([1, 2, 3], axis=1))\n",
    "print(df.add([1, 2, 3], axis=0))"
   ]
  },
  {
   "cell_type": "code",
   "execution_count": 76,
   "metadata": {
    "colab": {
     "base_uri": "https://localhost:8080/"
    },
    "id": "Ke94V7ZFIGCC",
    "outputId": "fd842483-c714-4f1e-ef3c-e6a1e1ae819b",
    "pycharm": {
     "name": "#%%\n"
    }
   },
   "outputs": [
    {
     "name": "stdout",
     "output_type": "stream",
     "text": [
      "    a   b   c\n",
      "0   9   2  -2\n",
      "1  14   8 -11\n",
      "2  19 -17  -8\n",
      "    a   b   c\n",
      "0   9   2  -2\n",
      "1  14   8 -11\n",
      "2  19 -17  -8\n",
      "\n",
      "    a   b   c\n",
      "0   9   1  -4\n",
      "1  14   7 -13\n",
      "2  19 -18 -10\n",
      "    a   b   c\n",
      "0   9   2  -2\n",
      "1  13   7 -12\n",
      "2  17 -19 -10\n"
     ]
    }
   ],
   "source": [
    "# Subtract a list and Series by axis with operator version.\n",
    "\n",
    "print(df - 1)\n",
    "print(df.sub(1))\n",
    "print()\n",
    "\n",
    "print(df.sub([1, 2, 3])) # print(df.sub([1, 2, 3], axis=1))\n",
    "print(df.sub([1, 2, 3], axis=0))"
   ]
  },
  {
   "cell_type": "code",
   "execution_count": 77,
   "metadata": {
    "colab": {
     "base_uri": "https://localhost:8080/"
    },
    "id": "EzRTwMD8IWs3",
    "outputId": "72bb2888-5bea-45de-92ae-0d7d3dd657c2",
    "pycharm": {
     "name": "#%%\n"
    }
   },
   "outputs": [
    {
     "name": "stdout",
     "output_type": "stream",
     "text": [
      "    a   b   c\n",
      "0  20   6  -2\n",
      "1  30  18 -20\n",
      "2  40 -32 -14\n",
      "    a   b   c\n",
      "0  20   6  -2\n",
      "1  30  18 -20\n",
      "2  40 -32 -14\n",
      "    a   b   c\n",
      "0  20   6  -2\n",
      "1  30  18 -20\n",
      "2  40 -32 -14\n",
      "\n",
      "    a   b   c\n",
      "0  10   6  -3\n",
      "1  15  18 -30\n",
      "2  20 -32 -21\n",
      "    a   b   c\n",
      "0  10   3  -1\n",
      "1  30  18 -20\n",
      "2  60 -48 -21\n"
     ]
    }
   ],
   "source": [
    "# Multiply a DataFrame of different shape with operator version.\n",
    "\n",
    "print(df * 2)\n",
    "print(df.mul(2))\n",
    "print(df.mul(2, fill_value=0)) # in case of NaN values in the DataFrame\n",
    "print()\n",
    "\n",
    "print(df.mul([1, 2, 3])) # print(df.mul([1, 2, 3], axis=1))\n",
    "print(df.mul([1, 2, 3], axis=0))"
   ]
  },
  {
   "cell_type": "code",
   "execution_count": 78,
   "metadata": {
    "colab": {
     "base_uri": "https://localhost:8080/"
    },
    "id": "fDSfgUUIH8WG",
    "outputId": "77eb05be-ecea-48a1-eb63-2d826e878860",
    "pycharm": {
     "name": "#%%\n"
    }
   },
   "outputs": [
    {
     "name": "stdout",
     "output_type": "stream",
     "text": [
      "      a    b    c\n",
      "0   5.0  1.5 -0.5\n",
      "1   7.5  4.5 -5.0\n",
      "2  10.0 -8.0 -3.5\n",
      "      a    b    c\n",
      "0   5.0  1.5 -0.5\n",
      "1   7.5  4.5 -5.0\n",
      "2  10.0 -8.0 -3.5\n",
      "      a    b    c\n",
      "0   5.0  1.5 -0.5\n",
      "1   7.5  4.5 -5.0\n",
      "2  10.0 -8.0 -3.5\n",
      "\n",
      "      a    b         c\n",
      "0  10.0  1.5 -0.333333\n",
      "1  15.0  4.5 -3.333333\n",
      "2  20.0 -8.0 -2.333333\n",
      "           a         b         c\n",
      "0  10.000000  3.000000 -1.000000\n",
      "1   7.500000  4.500000 -5.000000\n",
      "2   6.666667 -5.333333 -2.333333\n"
     ]
    }
   ],
   "source": [
    "# Divide by constant\n",
    "\n",
    "print(df / 2)\n",
    "print(df.div(2))\n",
    "print(df.div(2, fill_value=0)) # in case of NaN values in the DataFrame\n",
    "print()\n",
    "\n",
    "print(df.div([1, 2, 3])) # print(df.div([1, 2, 3], axis=1))\n",
    "print(df.div([1, 2, 3], axis=0))"
   ]
  },
  {
   "cell_type": "code",
   "execution_count": 79,
   "metadata": {
    "colab": {
     "base_uri": "https://localhost:8080/"
    },
    "id": "Mqbr2cAEIrCw",
    "outputId": "043ce9f0-576b-4385-a83c-8ae62a34f705",
    "pycharm": {
     "name": "#%%\n"
    }
   },
   "outputs": [
    {
     "name": "stdout",
     "output_type": "stream",
     "text": [
      "     a    b    c\n",
      "0  100    9    1\n",
      "1  225   81  100\n",
      "2  400  256   49\n",
      "     a    b    c\n",
      "0  100    9    1\n",
      "1  225   81  100\n",
      "2  400  256   49\n",
      "     a    b    c\n",
      "0  100    9    1\n",
      "1  225   81  100\n",
      "2  400  256   49\n",
      "\n",
      "    a    b     c\n",
      "0  10    9    -1\n",
      "1  15   81 -1000\n",
      "2  20  256  -343\n",
      "      a     b    c\n",
      "0    10     3   -1\n",
      "1   225    81  100\n",
      "2  8000 -4096 -343\n"
     ]
    }
   ],
   "source": [
    "# Calculate exponential power.\n",
    "\n",
    "print(df ** 2)\n",
    "print(df.pow(2))\n",
    "print(df.pow(2, fill_value=0)) # in case of NaN values in the DataFrame\n",
    "print()\n",
    "\n",
    "print(df.pow([1, 2, 3])) # print(df.pow([1, 2, 3], axis=1))\n",
    "print(df.pow([1, 2, 3], axis=0))"
   ]
  },
  {
   "cell_type": "code",
   "execution_count": 80,
   "metadata": {
    "colab": {
     "base_uri": "https://localhost:8080/"
    },
    "id": "nQaV-_qsL7C4",
    "outputId": "b351b557-36b0-4253-d784-b3d1205edb2f",
    "pycharm": {
     "name": "#%%\n"
    }
   },
   "outputs": [
    {
     "name": "stdout",
     "output_type": "stream",
     "text": [
      "          a         b   c\n",
      "0  3.162278  1.732051 NaN\n",
      "1  3.872983  3.000000 NaN\n",
      "2  4.472136       NaN NaN\n",
      "          a         b   c\n",
      "0  2.154435  1.442250 NaN\n",
      "1  2.466212  2.080084 NaN\n",
      "2  2.714418       NaN NaN\n"
     ]
    }
   ],
   "source": [
    "# Calculate any root.\n",
    "# df.pow(1 / N)\n",
    "\n",
    "# Squared root\n",
    "print(df.pow(1 / 2))\n",
    "# Cubic root\n",
    "print(df.pow(1 / 3))"
   ]
  },
  {
   "cell_type": "code",
   "execution_count": 81,
   "metadata": {
    "colab": {
     "base_uri": "https://localhost:8080/"
    },
    "id": "ECQU4hppFDBC",
    "outputId": "9b97b51b-3011-4c41-b083-fc64d46ebf6b",
    "pycharm": {
     "name": "#%%\n"
    }
   },
   "outputs": [
    {
     "name": "stdout",
     "output_type": "stream",
     "text": [
      "20\n",
      "\n",
      "a    45\n",
      "b    -4\n",
      "c   -18\n",
      "dtype: int64\n",
      "\n",
      "0    12\n",
      "1    14\n",
      "2    -3\n",
      "dtype: int64\n"
     ]
    }
   ],
   "source": [
    "# Sum\n",
    "\n",
    "print(s.sum())\n",
    "print()\n",
    "\n",
    "print(df.sum()) # df.sum(axis=0)\n",
    "print()\n",
    "print(df.sum(axis=1))"
   ]
  },
  {
   "cell_type": "code",
   "execution_count": 82,
   "metadata": {
    "colab": {
     "base_uri": "https://localhost:8080/"
    },
    "id": "BZqzaCPnLeNx",
    "outputId": "6d712d23-fdd3-43eb-ffe3-2a67e558374f",
    "pycharm": {
     "name": "#%%\n"
    }
   },
   "outputs": [
    {
     "name": "stdout",
     "output_type": "stream",
     "text": [
      "a     25.000000\n",
      "b    170.333333\n",
      "c     21.000000\n",
      "dtype: float64\n",
      "a     16.666667\n",
      "b    113.555556\n",
      "c     14.000000\n",
      "dtype: float64\n"
     ]
    }
   ],
   "source": [
    "# calculate variation\n",
    "# Normalized by N-1 by default. This can be changed using the ddof argument\n",
    "# The divisor used in calculations is N - ddof, where N represents the number of elements.\n",
    "\n",
    "print(df.var())\n",
    "print(df.var(ddof=0))"
   ]
  },
  {
   "cell_type": "code",
   "execution_count": 83,
   "metadata": {
    "colab": {
     "base_uri": "https://localhost:8080/"
    },
    "id": "Z_20eAKCK9TO",
    "outputId": "77c6c3cb-75ea-4a19-a838-72e5a080d6aa",
    "pycharm": {
     "name": "#%%\n"
    }
   },
   "outputs": [
    {
     "name": "stdout",
     "output_type": "stream",
     "text": [
      "a     5.000000\n",
      "b    13.051181\n",
      "c     4.582576\n",
      "dtype: float64\n",
      "a     4.082483\n",
      "b    10.656245\n",
      "c     3.741657\n",
      "dtype: float64\n"
     ]
    }
   ],
   "source": [
    "# calculate standard deviation\n",
    "# Normalized by N-1 by default. This can be changed using the ddof argument\n",
    "# The divisor used in calculations is N - ddof, where N represents the number of elements.\n",
    "\n",
    "print(df.std())\n",
    "print(df.std(ddof=0))"
   ]
  },
  {
   "cell_type": "code",
   "execution_count": 84,
   "metadata": {
    "colab": {
     "base_uri": "https://localhost:8080/"
    },
    "id": "a85vHUgsLyyo",
    "outputId": "f9614048-07bf-4390-c8f0-f73cc584cf36",
    "pycharm": {
     "name": "#%%\n"
    }
   },
   "outputs": [
    {
     "name": "stdout",
     "output_type": "stream",
     "text": [
      "a    10\n",
      "b   -16\n",
      "c   -10\n",
      "dtype: int64\n",
      "0    -1\n",
      "1   -10\n",
      "2   -16\n",
      "dtype: int64\n",
      "\n",
      "a    0\n",
      "b    2\n",
      "c    1\n",
      "dtype: int64\n",
      "0    c\n",
      "1    c\n",
      "2    b\n",
      "dtype: object\n"
     ]
    }
   ],
   "source": [
    "# Return the minimum of the values over the requested axis.\n",
    "print(df.min())\n",
    "print(df.min(axis=1))\n",
    "print()\n",
    "\n",
    "# Return the index of the minimum of the values over the requested axis.\n",
    "print(df.idxmin())\n",
    "print(df.idxmin(axis=1))"
   ]
  },
  {
   "cell_type": "code",
   "execution_count": 85,
   "metadata": {
    "colab": {
     "base_uri": "https://localhost:8080/"
    },
    "id": "62aJb0lEGN2y",
    "outputId": "81518559-ac5c-465c-8a1e-7e6abbe021eb",
    "pycharm": {
     "name": "#%%\n"
    }
   },
   "outputs": [
    {
     "name": "stdout",
     "output_type": "stream",
     "text": [
      "a    20\n",
      "b     9\n",
      "c    -1\n",
      "dtype: int64\n",
      "0    10\n",
      "1    15\n",
      "2    20\n",
      "dtype: int64\n",
      "\n",
      "a    2\n",
      "b    1\n",
      "c    0\n",
      "dtype: int64\n",
      "0    a\n",
      "1    a\n",
      "2    a\n",
      "dtype: object\n"
     ]
    }
   ],
   "source": [
    "# Return the maximum of the values over the requested axis.\n",
    "print(df.max())\n",
    "print(df.max(axis=1))\n",
    "print()\n",
    "\n",
    "# Return the index of the maximum of the values over the requested axis.\n",
    "print(df.idxmax())\n",
    "print(df.idxmax(axis=1))"
   ]
  },
  {
   "cell_type": "code",
   "execution_count": null,
   "metadata": {
    "id": "r9_nrOEqOJQb",
    "pycharm": {
     "name": "#%%\n"
    }
   },
   "outputs": [],
   "source": [
    "# Operations between Series and DataFrames"
   ]
  },
  {
   "cell_type": "code",
   "execution_count": 86,
   "metadata": {
    "colab": {
     "base_uri": "https://localhost:8080/"
    },
    "id": "P4KPirnCOQZl",
    "outputId": "55a2b91c-60a7-4aba-dbdc-66a21b2c36b3",
    "pycharm": {
     "name": "#%%\n"
    }
   },
   "outputs": [
    {
     "data": {
      "text/plain": "0    10\n1    20\n2   -10\ndtype: int64"
     },
     "execution_count": 86,
     "metadata": {},
     "output_type": "execute_result"
    }
   ],
   "source": [
    "s"
   ]
  },
  {
   "cell_type": "code",
   "execution_count": 87,
   "metadata": {
    "colab": {
     "base_uri": "https://localhost:8080/",
     "height": 142
    },
    "id": "KmwPNSQZORiK",
    "outputId": "8ba782f0-9f0b-4f54-ff17-8f8c8479bcb0",
    "pycharm": {
     "name": "#%%\n"
    }
   },
   "outputs": [
    {
     "data": {
      "text/plain": "    a   b   c\n0  10   3  -1\n1  15   9 -10\n2  20 -16  -7",
      "text/html": "<div>\n<style scoped>\n    .dataframe tbody tr th:only-of-type {\n        vertical-align: middle;\n    }\n\n    .dataframe tbody tr th {\n        vertical-align: top;\n    }\n\n    .dataframe thead th {\n        text-align: right;\n    }\n</style>\n<table border=\"1\" class=\"dataframe\">\n  <thead>\n    <tr style=\"text-align: right;\">\n      <th></th>\n      <th>a</th>\n      <th>b</th>\n      <th>c</th>\n    </tr>\n  </thead>\n  <tbody>\n    <tr>\n      <th>0</th>\n      <td>10</td>\n      <td>3</td>\n      <td>-1</td>\n    </tr>\n    <tr>\n      <th>1</th>\n      <td>15</td>\n      <td>9</td>\n      <td>-10</td>\n    </tr>\n    <tr>\n      <th>2</th>\n      <td>20</td>\n      <td>-16</td>\n      <td>-7</td>\n    </tr>\n  </tbody>\n</table>\n</div>"
     },
     "execution_count": 87,
     "metadata": {},
     "output_type": "execute_result"
    }
   ],
   "source": [
    "df"
   ]
  },
  {
   "cell_type": "code",
   "execution_count": 88,
   "metadata": {
    "colab": {
     "base_uri": "https://localhost:8080/"
    },
    "id": "Wqtx3b0UOFEU",
    "outputId": "0a449678-13a8-4840-d7e8-160e89199ef2",
    "pycharm": {
     "name": "#%%\n"
    }
   },
   "outputs": [
    {
     "data": {
      "text/plain": "0    100\n1    400\n2    100\ndtype: int64"
     },
     "execution_count": 88,
     "metadata": {},
     "output_type": "execute_result"
    }
   ],
   "source": [
    "# Series-Series operation\n",
    "\n",
    "s.mul(s)"
   ]
  },
  {
   "cell_type": "code",
   "execution_count": 90,
   "metadata": {
    "colab": {
     "base_uri": "https://localhost:8080/",
     "height": 142
    },
    "id": "JR2PKxxfOZDc",
    "outputId": "a7197b23-bc20-4f91-d79d-ebfccbfd7bdc",
    "pycharm": {
     "name": "#%%\n"
    }
   },
   "outputs": [
    {
     "data": {
      "text/plain": "     a    b    c\n0  100   30  -10\n1  300  180 -200\n2 -200  160   70",
      "text/html": "<div>\n<style scoped>\n    .dataframe tbody tr th:only-of-type {\n        vertical-align: middle;\n    }\n\n    .dataframe tbody tr th {\n        vertical-align: top;\n    }\n\n    .dataframe thead th {\n        text-align: right;\n    }\n</style>\n<table border=\"1\" class=\"dataframe\">\n  <thead>\n    <tr style=\"text-align: right;\">\n      <th></th>\n      <th>a</th>\n      <th>b</th>\n      <th>c</th>\n    </tr>\n  </thead>\n  <tbody>\n    <tr>\n      <th>0</th>\n      <td>100</td>\n      <td>30</td>\n      <td>-10</td>\n    </tr>\n    <tr>\n      <th>1</th>\n      <td>300</td>\n      <td>180</td>\n      <td>-200</td>\n    </tr>\n    <tr>\n      <th>2</th>\n      <td>-200</td>\n      <td>160</td>\n      <td>70</td>\n    </tr>\n  </tbody>\n</table>\n</div>"
     },
     "execution_count": 89,
     "metadata": {},
     "output_type": "execute_result"
    },
    {
     "data": {
      "text/plain": "     a    b    c\n0  100   30  -10\n1  300  180 -200\n2 -200  160   70",
      "text/html": "<div>\n<style scoped>\n    .dataframe tbody tr th:only-of-type {\n        vertical-align: middle;\n    }\n\n    .dataframe tbody tr th {\n        vertical-align: top;\n    }\n\n    .dataframe thead th {\n        text-align: right;\n    }\n</style>\n<table border=\"1\" class=\"dataframe\">\n  <thead>\n    <tr style=\"text-align: right;\">\n      <th></th>\n      <th>a</th>\n      <th>b</th>\n      <th>c</th>\n    </tr>\n  </thead>\n  <tbody>\n    <tr>\n      <th>0</th>\n      <td>100</td>\n      <td>30</td>\n      <td>-10</td>\n    </tr>\n    <tr>\n      <th>1</th>\n      <td>300</td>\n      <td>180</td>\n      <td>-200</td>\n    </tr>\n    <tr>\n      <th>2</th>\n      <td>-200</td>\n      <td>160</td>\n      <td>70</td>\n    </tr>\n  </tbody>\n</table>\n</div>"
     },
     "execution_count": 90,
     "metadata": {},
     "output_type": "execute_result"
    }
   ],
   "source": [
    "# Series-DataFrame operation\n",
    "\n",
    "df.mul(s, axis=0)"
   ]
  },
  {
   "cell_type": "code",
   "execution_count": 91,
   "metadata": {
    "colab": {
     "base_uri": "https://localhost:8080/",
     "height": 142
    },
    "id": "ZrR-vRCIOsKi",
    "outputId": "c154f592-33a7-4253-84d0-5a55ee9c99d2",
    "pycharm": {
     "name": "#%%\n"
    }
   },
   "outputs": [
    {
     "data": {
      "text/plain": "     a    b    c\n0  100    9    1\n1  225   81  100\n2  400  256   49",
      "text/html": "<div>\n<style scoped>\n    .dataframe tbody tr th:only-of-type {\n        vertical-align: middle;\n    }\n\n    .dataframe tbody tr th {\n        vertical-align: top;\n    }\n\n    .dataframe thead th {\n        text-align: right;\n    }\n</style>\n<table border=\"1\" class=\"dataframe\">\n  <thead>\n    <tr style=\"text-align: right;\">\n      <th></th>\n      <th>a</th>\n      <th>b</th>\n      <th>c</th>\n    </tr>\n  </thead>\n  <tbody>\n    <tr>\n      <th>0</th>\n      <td>100</td>\n      <td>9</td>\n      <td>1</td>\n    </tr>\n    <tr>\n      <th>1</th>\n      <td>225</td>\n      <td>81</td>\n      <td>100</td>\n    </tr>\n    <tr>\n      <th>2</th>\n      <td>400</td>\n      <td>256</td>\n      <td>49</td>\n    </tr>\n  </tbody>\n</table>\n</div>"
     },
     "execution_count": 91,
     "metadata": {},
     "output_type": "execute_result"
    }
   ],
   "source": [
    "# DataFrame-DataFrame operation\n",
    "\n",
    "df.mul(df)"
   ]
  },
  {
   "cell_type": "markdown",
   "metadata": {
    "id": "qZLOHnJ92qXQ",
    "pycharm": {
     "name": "#%% md\n"
    }
   },
   "source": [
    "## Merge Dataframes"
   ]
  },
  {
   "cell_type": "markdown",
   "metadata": {
    "id": "z304UNDH2w_z",
    "pycharm": {
     "name": "#%% md\n"
    }
   },
   "source": [
    "### Concat\n",
    "\n",
    "pandas provides various facilities for easily combining together Series, DataFrame, and Panel objects with various kinds of set logic for the indexes and relational algebra functionality in the case of join / merge-type operations.\n",
    "\n",
    "https://pandas.pydata.org/pandas-docs/stable/reference/api/pandas.concat.html\n",
    "\n",
    "**pandas.concat(objs, axis=0, join='outer', ignore_index=False, keys=None, levels=None, names=None, verify_integrity=False, sort=False, copy=True)**"
   ]
  },
  {
   "cell_type": "markdown",
   "metadata": {
    "id": "CDRk-8Qz21l1",
    "pycharm": {
     "name": "#%% md\n"
    }
   },
   "source": [
    "Concatenating pandas objects together with concat():"
   ]
  },
  {
   "cell_type": "code",
   "execution_count": 92,
   "metadata": {
    "colab": {
     "base_uri": "https://localhost:8080/"
    },
    "id": "-Dv-HN_w2zCs",
    "outputId": "f7cc3410-9264-4387-c0ef-5fdf431d8767",
    "pycharm": {
     "name": "#%%\n"
    }
   },
   "outputs": [
    {
     "name": "stdout",
     "output_type": "stream",
     "text": [
      "    name  grade\n",
      "0   Yair    100\n",
      "1  Moshe    100\n",
      "   name  grade\n",
      "0   Ben     85\n",
      "1  Shir     94\n"
     ]
    }
   ],
   "source": [
    "data_1 = {\n",
    "    'name': ['Yair', 'Moshe'],\n",
    "    'grade': [100, 100]\n",
    "}\n",
    "\n",
    "data_2 = {\n",
    "    'name': ['Ben', 'Shir'],\n",
    "    'grade': [85, 94]\n",
    "}\n",
    "\n",
    "df_1 = pd.DataFrame(data_1)\n",
    "df_2 = pd.DataFrame(data_2)\n",
    "\n",
    "print(df_1)\n",
    "print(df_2)"
   ]
  },
  {
   "cell_type": "code",
   "execution_count": 93,
   "metadata": {
    "colab": {
     "base_uri": "https://localhost:8080/",
     "height": 173
    },
    "id": "HezGNQkg3KKV",
    "outputId": "44fcc2aa-602b-462a-882c-2b884f9bb9ab",
    "pycharm": {
     "name": "#%%\n"
    }
   },
   "outputs": [
    {
     "data": {
      "text/plain": "    name  grade\n0   Yair    100\n1  Moshe    100\n0    Ben     85\n1   Shir     94",
      "text/html": "<div>\n<style scoped>\n    .dataframe tbody tr th:only-of-type {\n        vertical-align: middle;\n    }\n\n    .dataframe tbody tr th {\n        vertical-align: top;\n    }\n\n    .dataframe thead th {\n        text-align: right;\n    }\n</style>\n<table border=\"1\" class=\"dataframe\">\n  <thead>\n    <tr style=\"text-align: right;\">\n      <th></th>\n      <th>name</th>\n      <th>grade</th>\n    </tr>\n  </thead>\n  <tbody>\n    <tr>\n      <th>0</th>\n      <td>Yair</td>\n      <td>100</td>\n    </tr>\n    <tr>\n      <th>1</th>\n      <td>Moshe</td>\n      <td>100</td>\n    </tr>\n    <tr>\n      <th>0</th>\n      <td>Ben</td>\n      <td>85</td>\n    </tr>\n    <tr>\n      <th>1</th>\n      <td>Shir</td>\n      <td>94</td>\n    </tr>\n  </tbody>\n</table>\n</div>"
     },
     "execution_count": 93,
     "metadata": {},
     "output_type": "execute_result"
    }
   ],
   "source": [
    "# Combine 2 DataFrames\n",
    "\n",
    "pd.concat([df_1, df_2])"
   ]
  },
  {
   "cell_type": "code",
   "execution_count": 94,
   "metadata": {
    "colab": {
     "base_uri": "https://localhost:8080/",
     "height": 173
    },
    "id": "IAHxNCxT4OmY",
    "outputId": "ccfe2e60-2771-4d7f-9b0f-5627730b5d0f",
    "pycharm": {
     "name": "#%%\n"
    }
   },
   "outputs": [
    {
     "data": {
      "text/plain": "    name  grade\n0   Yair    100\n1  Moshe    100\n2    Ben     85\n3   Shir     94",
      "text/html": "<div>\n<style scoped>\n    .dataframe tbody tr th:only-of-type {\n        vertical-align: middle;\n    }\n\n    .dataframe tbody tr th {\n        vertical-align: top;\n    }\n\n    .dataframe thead th {\n        text-align: right;\n    }\n</style>\n<table border=\"1\" class=\"dataframe\">\n  <thead>\n    <tr style=\"text-align: right;\">\n      <th></th>\n      <th>name</th>\n      <th>grade</th>\n    </tr>\n  </thead>\n  <tbody>\n    <tr>\n      <th>0</th>\n      <td>Yair</td>\n      <td>100</td>\n    </tr>\n    <tr>\n      <th>1</th>\n      <td>Moshe</td>\n      <td>100</td>\n    </tr>\n    <tr>\n      <th>2</th>\n      <td>Ben</td>\n      <td>85</td>\n    </tr>\n    <tr>\n      <th>3</th>\n      <td>Shir</td>\n      <td>94</td>\n    </tr>\n  </tbody>\n</table>\n</div>"
     },
     "execution_count": 94,
     "metadata": {},
     "output_type": "execute_result"
    }
   ],
   "source": [
    "# Clear the existing index and reset it in the result by setting the ignore_index option to True.\n",
    "\n",
    "pd.concat([df_1, df_2], ignore_index=True)"
   ]
  },
  {
   "cell_type": "markdown",
   "metadata": {
    "id": "agAuxJ453YrO",
    "pycharm": {
     "name": "#%% md\n"
    }
   },
   "source": [
    "### Merge\n",
    "SQL style merges. See the [Database style joining](http://pandas.pydata.org/pandas-docs/stable/merging.html#merging-join)\n",
    "\n",
    "https://pandas.pydata.org/pandas-docs/stable/reference/api/pandas.DataFrame.merge.html\n",
    "\n",
    "**DataFrame.merge(right, how='inner', on=None, left_on=None, right_on=None, left_index=False, right_index=False, sort=False, suffixes=('_x', '_y'), copy=True, indicator=False, validate=None)**"
   ]
  },
  {
   "cell_type": "code",
   "execution_count": 95,
   "metadata": {
    "colab": {
     "base_uri": "https://localhost:8080/"
    },
    "id": "7RW2Hn-63PoP",
    "outputId": "ffbb8c24-a1e1-4a44-9e8d-e01ab6f1f36d",
    "pycharm": {
     "name": "#%%\n"
    }
   },
   "outputs": [
    {
     "name": "stdout",
     "output_type": "stream",
     "text": [
      "  lkey  value\n",
      "0  foo      1\n",
      "1  bar      2\n",
      "2  baz      3\n",
      "3  foo      5\n",
      "\n",
      "  rkey  value\n",
      "0  foo      5\n",
      "1  bar      6\n",
      "2  baz      7\n",
      "3  foo      8\n"
     ]
    }
   ],
   "source": [
    "df1 = pd.DataFrame({'lkey': ['foo', 'bar', 'baz', 'foo'],\n",
    "                    'value': [1, 2, 3, 5]})\n",
    "df2 = pd.DataFrame({'rkey': ['foo', 'bar', 'baz', 'foo'],\n",
    "                    'value': [5, 6, 7, 8]})\n",
    "\n",
    "print(df1)\n",
    "print()\n",
    "print(df2)"
   ]
  },
  {
   "cell_type": "markdown",
   "metadata": {
    "id": "YangjHl-4p7z",
    "pycharm": {
     "name": "#%% md\n"
    }
   },
   "source": [
    "Merge df1 and df2 on the lkey and rkey columns. The value columns have the default suffixes, _x and _y, appended."
   ]
  },
  {
   "cell_type": "code",
   "execution_count": 96,
   "metadata": {
    "colab": {
     "base_uri": "https://localhost:8080/",
     "height": 235
    },
    "id": "6byB21074lg0",
    "outputId": "582c40bb-87eb-4c93-ba95-4a2f615b360a",
    "pycharm": {
     "name": "#%%\n"
    }
   },
   "outputs": [
    {
     "data": {
      "text/plain": "  lkey  value_x rkey  value_y\n0  foo        1  foo        5\n1  foo        1  foo        8\n2  foo        5  foo        5\n3  foo        5  foo        8\n4  bar        2  bar        6\n5  baz        3  baz        7",
      "text/html": "<div>\n<style scoped>\n    .dataframe tbody tr th:only-of-type {\n        vertical-align: middle;\n    }\n\n    .dataframe tbody tr th {\n        vertical-align: top;\n    }\n\n    .dataframe thead th {\n        text-align: right;\n    }\n</style>\n<table border=\"1\" class=\"dataframe\">\n  <thead>\n    <tr style=\"text-align: right;\">\n      <th></th>\n      <th>lkey</th>\n      <th>value_x</th>\n      <th>rkey</th>\n      <th>value_y</th>\n    </tr>\n  </thead>\n  <tbody>\n    <tr>\n      <th>0</th>\n      <td>foo</td>\n      <td>1</td>\n      <td>foo</td>\n      <td>5</td>\n    </tr>\n    <tr>\n      <th>1</th>\n      <td>foo</td>\n      <td>1</td>\n      <td>foo</td>\n      <td>8</td>\n    </tr>\n    <tr>\n      <th>2</th>\n      <td>foo</td>\n      <td>5</td>\n      <td>foo</td>\n      <td>5</td>\n    </tr>\n    <tr>\n      <th>3</th>\n      <td>foo</td>\n      <td>5</td>\n      <td>foo</td>\n      <td>8</td>\n    </tr>\n    <tr>\n      <th>4</th>\n      <td>bar</td>\n      <td>2</td>\n      <td>bar</td>\n      <td>6</td>\n    </tr>\n    <tr>\n      <th>5</th>\n      <td>baz</td>\n      <td>3</td>\n      <td>baz</td>\n      <td>7</td>\n    </tr>\n  </tbody>\n</table>\n</div>"
     },
     "execution_count": 96,
     "metadata": {},
     "output_type": "execute_result"
    }
   ],
   "source": [
    "df1.merge(df2, left_on='lkey', right_on='rkey')\n"
   ]
  },
  {
   "cell_type": "markdown",
   "metadata": {
    "id": "809DDWht5UT-",
    "pycharm": {
     "name": "#%% md\n"
    }
   },
   "source": [
    "Merge DataFrames df1 and df2 with specified left and right suffixes appended to any overlapping columns.\n",
    "\n"
   ]
  },
  {
   "cell_type": "code",
   "execution_count": 97,
   "metadata": {
    "colab": {
     "base_uri": "https://localhost:8080/",
     "height": 235
    },
    "id": "KgauukH35ZEN",
    "outputId": "26863868-be66-4ad4-f270-a018c036183a",
    "pycharm": {
     "name": "#%%\n"
    }
   },
   "outputs": [
    {
     "data": {
      "text/plain": "  lkey  value_left rkey  value_right\n0  foo           1  foo            5\n1  foo           1  foo            8\n2  foo           5  foo            5\n3  foo           5  foo            8\n4  bar           2  bar            6\n5  baz           3  baz            7",
      "text/html": "<div>\n<style scoped>\n    .dataframe tbody tr th:only-of-type {\n        vertical-align: middle;\n    }\n\n    .dataframe tbody tr th {\n        vertical-align: top;\n    }\n\n    .dataframe thead th {\n        text-align: right;\n    }\n</style>\n<table border=\"1\" class=\"dataframe\">\n  <thead>\n    <tr style=\"text-align: right;\">\n      <th></th>\n      <th>lkey</th>\n      <th>value_left</th>\n      <th>rkey</th>\n      <th>value_right</th>\n    </tr>\n  </thead>\n  <tbody>\n    <tr>\n      <th>0</th>\n      <td>foo</td>\n      <td>1</td>\n      <td>foo</td>\n      <td>5</td>\n    </tr>\n    <tr>\n      <th>1</th>\n      <td>foo</td>\n      <td>1</td>\n      <td>foo</td>\n      <td>8</td>\n    </tr>\n    <tr>\n      <th>2</th>\n      <td>foo</td>\n      <td>5</td>\n      <td>foo</td>\n      <td>5</td>\n    </tr>\n    <tr>\n      <th>3</th>\n      <td>foo</td>\n      <td>5</td>\n      <td>foo</td>\n      <td>8</td>\n    </tr>\n    <tr>\n      <th>4</th>\n      <td>bar</td>\n      <td>2</td>\n      <td>bar</td>\n      <td>6</td>\n    </tr>\n    <tr>\n      <th>5</th>\n      <td>baz</td>\n      <td>3</td>\n      <td>baz</td>\n      <td>7</td>\n    </tr>\n  </tbody>\n</table>\n</div>"
     },
     "execution_count": 97,
     "metadata": {},
     "output_type": "execute_result"
    }
   ],
   "source": [
    "df1.merge(df2, left_on='lkey', right_on='rkey',\n",
    "          suffixes=('_left', '_right'))"
   ]
  },
  {
   "cell_type": "markdown",
   "metadata": {
    "id": "Qsg5IqsO5feS",
    "pycharm": {
     "name": "#%% md\n"
    }
   },
   "source": [
    "### Append\n",
    "\n",
    "Append rows to a dataframe.\n",
    "\n",
    "http://pandas.pydata.org/pandas-docs/stable/merging.html#merging-concatenation\n",
    "\n",
    "**DataFrame.append(other, ignore_index=False, verify_integrity=False, sort=False)**"
   ]
  },
  {
   "cell_type": "code",
   "execution_count": 98,
   "metadata": {
    "colab": {
     "base_uri": "https://localhost:8080/",
     "height": 297
    },
    "id": "34iKmrrU5blV",
    "outputId": "001fb5b3-11e0-4223-dc6a-c5b93520b025",
    "pycharm": {
     "name": "#%%\n"
    }
   },
   "outputs": [
    {
     "data": {
      "text/plain": "          A         B         C         D\n0 -1.221954  0.310123  0.474508 -0.259488\n1 -0.973505  0.870196 -1.405098  1.343840\n2 -1.509555  0.375862  0.721538 -0.977737\n3 -1.523562 -0.802582  0.060863  1.351020\n4 -1.462458  0.538927  1.632286  0.946544\n5 -0.211631 -1.213286  1.079478  0.394429\n6 -0.608691  1.326229  0.526437 -1.139497\n7  1.771969  1.528414  0.932571  0.248426",
      "text/html": "<div>\n<style scoped>\n    .dataframe tbody tr th:only-of-type {\n        vertical-align: middle;\n    }\n\n    .dataframe tbody tr th {\n        vertical-align: top;\n    }\n\n    .dataframe thead th {\n        text-align: right;\n    }\n</style>\n<table border=\"1\" class=\"dataframe\">\n  <thead>\n    <tr style=\"text-align: right;\">\n      <th></th>\n      <th>A</th>\n      <th>B</th>\n      <th>C</th>\n      <th>D</th>\n    </tr>\n  </thead>\n  <tbody>\n    <tr>\n      <th>0</th>\n      <td>-1.221954</td>\n      <td>0.310123</td>\n      <td>0.474508</td>\n      <td>-0.259488</td>\n    </tr>\n    <tr>\n      <th>1</th>\n      <td>-0.973505</td>\n      <td>0.870196</td>\n      <td>-1.405098</td>\n      <td>1.343840</td>\n    </tr>\n    <tr>\n      <th>2</th>\n      <td>-1.509555</td>\n      <td>0.375862</td>\n      <td>0.721538</td>\n      <td>-0.977737</td>\n    </tr>\n    <tr>\n      <th>3</th>\n      <td>-1.523562</td>\n      <td>-0.802582</td>\n      <td>0.060863</td>\n      <td>1.351020</td>\n    </tr>\n    <tr>\n      <th>4</th>\n      <td>-1.462458</td>\n      <td>0.538927</td>\n      <td>1.632286</td>\n      <td>0.946544</td>\n    </tr>\n    <tr>\n      <th>5</th>\n      <td>-0.211631</td>\n      <td>-1.213286</td>\n      <td>1.079478</td>\n      <td>0.394429</td>\n    </tr>\n    <tr>\n      <th>6</th>\n      <td>-0.608691</td>\n      <td>1.326229</td>\n      <td>0.526437</td>\n      <td>-1.139497</td>\n    </tr>\n    <tr>\n      <th>7</th>\n      <td>1.771969</td>\n      <td>1.528414</td>\n      <td>0.932571</td>\n      <td>0.248426</td>\n    </tr>\n  </tbody>\n</table>\n</div>"
     },
     "execution_count": 98,
     "metadata": {},
     "output_type": "execute_result"
    }
   ],
   "source": [
    "df = pd.DataFrame(np.random.randn(8, 4), columns=['A','B','C','D'])\n",
    "df"
   ]
  },
  {
   "cell_type": "code",
   "execution_count": 99,
   "metadata": {
    "colab": {
     "base_uri": "https://localhost:8080/"
    },
    "id": "LpWVPe_15zim",
    "outputId": "30b6dac4-5eaf-497b-8a7a-e48dc1b27a47",
    "pycharm": {
     "name": "#%%\n"
    }
   },
   "outputs": [
    {
     "data": {
      "text/plain": "A   -1.523562\nB   -0.802582\nC    0.060863\nD    1.351020\nName: 3, dtype: float64"
     },
     "execution_count": 99,
     "metadata": {},
     "output_type": "execute_result"
    }
   ],
   "source": [
    "s = df.iloc[3]\n",
    "s"
   ]
  },
  {
   "cell_type": "code",
   "execution_count": 100,
   "metadata": {
    "colab": {
     "base_uri": "https://localhost:8080/",
     "height": 328
    },
    "id": "edttN9HY54ad",
    "outputId": "4d395b58-aa92-477b-f02b-02bcd90078ec",
    "pycharm": {
     "name": "#%%\n"
    }
   },
   "outputs": [
    {
     "data": {
      "text/plain": "          A         B         C         D\n0 -1.221954  0.310123  0.474508 -0.259488\n1 -0.973505  0.870196 -1.405098  1.343840\n2 -1.509555  0.375862  0.721538 -0.977737\n3 -1.523562 -0.802582  0.060863  1.351020\n4 -1.462458  0.538927  1.632286  0.946544\n5 -0.211631 -1.213286  1.079478  0.394429\n6 -0.608691  1.326229  0.526437 -1.139497\n7  1.771969  1.528414  0.932571  0.248426\n8 -1.523562 -0.802582  0.060863  1.351020",
      "text/html": "<div>\n<style scoped>\n    .dataframe tbody tr th:only-of-type {\n        vertical-align: middle;\n    }\n\n    .dataframe tbody tr th {\n        vertical-align: top;\n    }\n\n    .dataframe thead th {\n        text-align: right;\n    }\n</style>\n<table border=\"1\" class=\"dataframe\">\n  <thead>\n    <tr style=\"text-align: right;\">\n      <th></th>\n      <th>A</th>\n      <th>B</th>\n      <th>C</th>\n      <th>D</th>\n    </tr>\n  </thead>\n  <tbody>\n    <tr>\n      <th>0</th>\n      <td>-1.221954</td>\n      <td>0.310123</td>\n      <td>0.474508</td>\n      <td>-0.259488</td>\n    </tr>\n    <tr>\n      <th>1</th>\n      <td>-0.973505</td>\n      <td>0.870196</td>\n      <td>-1.405098</td>\n      <td>1.343840</td>\n    </tr>\n    <tr>\n      <th>2</th>\n      <td>-1.509555</td>\n      <td>0.375862</td>\n      <td>0.721538</td>\n      <td>-0.977737</td>\n    </tr>\n    <tr>\n      <th>3</th>\n      <td>-1.523562</td>\n      <td>-0.802582</td>\n      <td>0.060863</td>\n      <td>1.351020</td>\n    </tr>\n    <tr>\n      <th>4</th>\n      <td>-1.462458</td>\n      <td>0.538927</td>\n      <td>1.632286</td>\n      <td>0.946544</td>\n    </tr>\n    <tr>\n      <th>5</th>\n      <td>-0.211631</td>\n      <td>-1.213286</td>\n      <td>1.079478</td>\n      <td>0.394429</td>\n    </tr>\n    <tr>\n      <th>6</th>\n      <td>-0.608691</td>\n      <td>1.326229</td>\n      <td>0.526437</td>\n      <td>-1.139497</td>\n    </tr>\n    <tr>\n      <th>7</th>\n      <td>1.771969</td>\n      <td>1.528414</td>\n      <td>0.932571</td>\n      <td>0.248426</td>\n    </tr>\n    <tr>\n      <th>8</th>\n      <td>-1.523562</td>\n      <td>-0.802582</td>\n      <td>0.060863</td>\n      <td>1.351020</td>\n    </tr>\n  </tbody>\n</table>\n</div>"
     },
     "execution_count": 100,
     "metadata": {},
     "output_type": "execute_result"
    }
   ],
   "source": [
    "df.append(s, ignore_index=True)"
   ]
  },
  {
   "cell_type": "markdown",
   "metadata": {
    "id": "gVlpvVAX6Syy",
    "pycharm": {
     "name": "#%% md\n"
    }
   },
   "source": [
    "General note: **Append** function will add rows of second data frame to first dataframe **iteratively** one by one. **Concat** function will do a **single** operation to finish the job, which makes it **faster** than append()\n",
    "\n",
    "* **Concat** gives the flexibility to join based on the axis( all rows or all columns)\n",
    "* **Append** is the specific case(axis=0, join='outer') of concat"
   ]
  },
  {
   "cell_type": "markdown",
   "metadata": {
    "id": "0mg8lG3a6lW3",
    "pycharm": {
     "name": "#%% md\n"
    }
   },
   "source": [
    "### Statstics on the data\n",
    "\n",
    "https://pandas.pydata.org/docs/getting_started/intro_tutorials/06_calculate_statistics.html"
   ]
  },
  {
   "cell_type": "code",
   "execution_count": 101,
   "metadata": {
    "colab": {
     "base_uri": "https://localhost:8080/",
     "height": 419
    },
    "id": "GO69j5hs6rMp",
    "outputId": "2a51cd75-aff4-4154-a874-7c2268b084f4",
    "pycharm": {
     "name": "#%%\n"
    }
   },
   "outputs": [
    {
     "data": {
      "text/plain": "              Name            Team  Number Position   Age Height  Weight  \\\n0    Avery Bradley  Boston Celtics     0.0       PG  25.0    6-2   180.0   \n1      Jae Crowder  Boston Celtics    99.0       SF  25.0    6-6   235.0   \n2     John Holland  Boston Celtics    30.0       SG  27.0    6-5   205.0   \n3      R.J. Hunter  Boston Celtics    28.0       SG  22.0    6-5   185.0   \n4    Jonas Jerebko  Boston Celtics     8.0       PF  29.0   6-10   231.0   \n..             ...             ...     ...      ...   ...    ...     ...   \n453   Shelvin Mack       Utah Jazz     8.0       PG  26.0    6-3   203.0   \n454      Raul Neto       Utah Jazz    25.0       PG  24.0    6-1   179.0   \n455   Tibor Pleiss       Utah Jazz    21.0        C  26.0    7-3   256.0   \n456    Jeff Withey       Utah Jazz    24.0        C  26.0    7-0   231.0   \n457            NaN             NaN     NaN      NaN   NaN    NaN     NaN   \n\n               College     Salary  \n0                Texas  7730337.0  \n1            Marquette  6796117.0  \n2    Boston University        NaN  \n3        Georgia State  1148640.0  \n4                  NaN  5000000.0  \n..                 ...        ...  \n453             Butler  2433333.0  \n454                NaN   900000.0  \n455                NaN  2900000.0  \n456             Kansas   947276.0  \n457                NaN        NaN  \n\n[458 rows x 9 columns]",
      "text/html": "<div>\n<style scoped>\n    .dataframe tbody tr th:only-of-type {\n        vertical-align: middle;\n    }\n\n    .dataframe tbody tr th {\n        vertical-align: top;\n    }\n\n    .dataframe thead th {\n        text-align: right;\n    }\n</style>\n<table border=\"1\" class=\"dataframe\">\n  <thead>\n    <tr style=\"text-align: right;\">\n      <th></th>\n      <th>Name</th>\n      <th>Team</th>\n      <th>Number</th>\n      <th>Position</th>\n      <th>Age</th>\n      <th>Height</th>\n      <th>Weight</th>\n      <th>College</th>\n      <th>Salary</th>\n    </tr>\n  </thead>\n  <tbody>\n    <tr>\n      <th>0</th>\n      <td>Avery Bradley</td>\n      <td>Boston Celtics</td>\n      <td>0.0</td>\n      <td>PG</td>\n      <td>25.0</td>\n      <td>6-2</td>\n      <td>180.0</td>\n      <td>Texas</td>\n      <td>7730337.0</td>\n    </tr>\n    <tr>\n      <th>1</th>\n      <td>Jae Crowder</td>\n      <td>Boston Celtics</td>\n      <td>99.0</td>\n      <td>SF</td>\n      <td>25.0</td>\n      <td>6-6</td>\n      <td>235.0</td>\n      <td>Marquette</td>\n      <td>6796117.0</td>\n    </tr>\n    <tr>\n      <th>2</th>\n      <td>John Holland</td>\n      <td>Boston Celtics</td>\n      <td>30.0</td>\n      <td>SG</td>\n      <td>27.0</td>\n      <td>6-5</td>\n      <td>205.0</td>\n      <td>Boston University</td>\n      <td>NaN</td>\n    </tr>\n    <tr>\n      <th>3</th>\n      <td>R.J. Hunter</td>\n      <td>Boston Celtics</td>\n      <td>28.0</td>\n      <td>SG</td>\n      <td>22.0</td>\n      <td>6-5</td>\n      <td>185.0</td>\n      <td>Georgia State</td>\n      <td>1148640.0</td>\n    </tr>\n    <tr>\n      <th>4</th>\n      <td>Jonas Jerebko</td>\n      <td>Boston Celtics</td>\n      <td>8.0</td>\n      <td>PF</td>\n      <td>29.0</td>\n      <td>6-10</td>\n      <td>231.0</td>\n      <td>NaN</td>\n      <td>5000000.0</td>\n    </tr>\n    <tr>\n      <th>...</th>\n      <td>...</td>\n      <td>...</td>\n      <td>...</td>\n      <td>...</td>\n      <td>...</td>\n      <td>...</td>\n      <td>...</td>\n      <td>...</td>\n      <td>...</td>\n    </tr>\n    <tr>\n      <th>453</th>\n      <td>Shelvin Mack</td>\n      <td>Utah Jazz</td>\n      <td>8.0</td>\n      <td>PG</td>\n      <td>26.0</td>\n      <td>6-3</td>\n      <td>203.0</td>\n      <td>Butler</td>\n      <td>2433333.0</td>\n    </tr>\n    <tr>\n      <th>454</th>\n      <td>Raul Neto</td>\n      <td>Utah Jazz</td>\n      <td>25.0</td>\n      <td>PG</td>\n      <td>24.0</td>\n      <td>6-1</td>\n      <td>179.0</td>\n      <td>NaN</td>\n      <td>900000.0</td>\n    </tr>\n    <tr>\n      <th>455</th>\n      <td>Tibor Pleiss</td>\n      <td>Utah Jazz</td>\n      <td>21.0</td>\n      <td>C</td>\n      <td>26.0</td>\n      <td>7-3</td>\n      <td>256.0</td>\n      <td>NaN</td>\n      <td>2900000.0</td>\n    </tr>\n    <tr>\n      <th>456</th>\n      <td>Jeff Withey</td>\n      <td>Utah Jazz</td>\n      <td>24.0</td>\n      <td>C</td>\n      <td>26.0</td>\n      <td>7-0</td>\n      <td>231.0</td>\n      <td>Kansas</td>\n      <td>947276.0</td>\n    </tr>\n    <tr>\n      <th>457</th>\n      <td>NaN</td>\n      <td>NaN</td>\n      <td>NaN</td>\n      <td>NaN</td>\n      <td>NaN</td>\n      <td>NaN</td>\n      <td>NaN</td>\n      <td>NaN</td>\n      <td>NaN</td>\n    </tr>\n  </tbody>\n</table>\n<p>458 rows × 9 columns</p>\n</div>"
     },
     "execution_count": 101,
     "metadata": {},
     "output_type": "execute_result"
    }
   ],
   "source": [
    "df = pd.read_csv(\"https://media.geeksforgeeks.org/wp-content/uploads/nba.csv\")\n",
    "df"
   ]
  },
  {
   "cell_type": "markdown",
   "metadata": {
    "id": "1BkjRgIA6lz9",
    "pycharm": {
     "name": "#%% md\n"
    }
   },
   "source": [
    "Describe shows a quick statistic summary of your data"
   ]
  },
  {
   "cell_type": "code",
   "execution_count": 102,
   "metadata": {
    "colab": {
     "base_uri": "https://localhost:8080/",
     "height": 297
    },
    "id": "139hZo6N6oDw",
    "outputId": "d508d556-67ab-4dee-82ee-f1ee2ca15d17",
    "pycharm": {
     "name": "#%%\n"
    }
   },
   "outputs": [
    {
     "data": {
      "text/plain": "           Number         Age      Weight        Salary\ncount  457.000000  457.000000  457.000000  4.460000e+02\nmean    17.678337   26.938731  221.522976  4.842684e+06\nstd     15.966090    4.404016   26.368343  5.229238e+06\nmin      0.000000   19.000000  161.000000  3.088800e+04\n25%      5.000000   24.000000  200.000000  1.044792e+06\n50%     13.000000   26.000000  220.000000  2.839073e+06\n75%     25.000000   30.000000  240.000000  6.500000e+06\nmax     99.000000   40.000000  307.000000  2.500000e+07",
      "text/html": "<div>\n<style scoped>\n    .dataframe tbody tr th:only-of-type {\n        vertical-align: middle;\n    }\n\n    .dataframe tbody tr th {\n        vertical-align: top;\n    }\n\n    .dataframe thead th {\n        text-align: right;\n    }\n</style>\n<table border=\"1\" class=\"dataframe\">\n  <thead>\n    <tr style=\"text-align: right;\">\n      <th></th>\n      <th>Number</th>\n      <th>Age</th>\n      <th>Weight</th>\n      <th>Salary</th>\n    </tr>\n  </thead>\n  <tbody>\n    <tr>\n      <th>count</th>\n      <td>457.000000</td>\n      <td>457.000000</td>\n      <td>457.000000</td>\n      <td>4.460000e+02</td>\n    </tr>\n    <tr>\n      <th>mean</th>\n      <td>17.678337</td>\n      <td>26.938731</td>\n      <td>221.522976</td>\n      <td>4.842684e+06</td>\n    </tr>\n    <tr>\n      <th>std</th>\n      <td>15.966090</td>\n      <td>4.404016</td>\n      <td>26.368343</td>\n      <td>5.229238e+06</td>\n    </tr>\n    <tr>\n      <th>min</th>\n      <td>0.000000</td>\n      <td>19.000000</td>\n      <td>161.000000</td>\n      <td>3.088800e+04</td>\n    </tr>\n    <tr>\n      <th>25%</th>\n      <td>5.000000</td>\n      <td>24.000000</td>\n      <td>200.000000</td>\n      <td>1.044792e+06</td>\n    </tr>\n    <tr>\n      <th>50%</th>\n      <td>13.000000</td>\n      <td>26.000000</td>\n      <td>220.000000</td>\n      <td>2.839073e+06</td>\n    </tr>\n    <tr>\n      <th>75%</th>\n      <td>25.000000</td>\n      <td>30.000000</td>\n      <td>240.000000</td>\n      <td>6.500000e+06</td>\n    </tr>\n    <tr>\n      <th>max</th>\n      <td>99.000000</td>\n      <td>40.000000</td>\n      <td>307.000000</td>\n      <td>2.500000e+07</td>\n    </tr>\n  </tbody>\n</table>\n</div>"
     },
     "execution_count": 102,
     "metadata": {},
     "output_type": "execute_result"
    }
   ],
   "source": [
    "df.describe()"
   ]
  },
  {
   "cell_type": "markdown",
   "metadata": {
    "id": "es75ecxs6ywM",
    "pycharm": {
     "name": "#%% md\n"
    }
   },
   "source": [
    "Performing a descriptive statistic"
   ]
  },
  {
   "cell_type": "code",
   "execution_count": 103,
   "metadata": {
    "colab": {
     "base_uri": "https://localhost:8080/"
    },
    "id": "ITgqtUrA58W5",
    "outputId": "dce32f68-5d7c-4da6-ce51-d48fd28478f2",
    "pycharm": {
     "name": "#%%\n"
    }
   },
   "outputs": [
    {
     "name": "stderr",
     "output_type": "stream",
     "text": [
      "C:\\Users\\orian\\PycharmProjects\\hit_machine_learning\\venv\\lib\\site-packages\\ipykernel_launcher.py:1: FutureWarning: Dropping of nuisance columns in DataFrame reductions (with 'numeric_only=None') is deprecated; in a future version this will raise TypeError.  Select only valid columns before calling the reduction.\n",
      "  \"\"\"Entry point for launching an IPython kernel.\n"
     ]
    },
    {
     "data": {
      "text/plain": "Number    1.767834e+01\nAge       2.693873e+01\nWeight    2.215230e+02\nSalary    4.842684e+06\ndtype: float64"
     },
     "execution_count": 103,
     "metadata": {},
     "output_type": "execute_result"
    }
   ],
   "source": [
    "df.mean()"
   ]
  },
  {
   "cell_type": "markdown",
   "metadata": {
    "id": "cfPf2CjP66NQ",
    "pycharm": {
     "name": "#%% md\n"
    }
   },
   "source": [
    "Same operation on the rows axis"
   ]
  },
  {
   "cell_type": "code",
   "execution_count": 104,
   "metadata": {
    "colab": {
     "base_uri": "https://localhost:8080/"
    },
    "id": "2fHLqW5C61tw",
    "outputId": "e62e3e8c-24a7-4fe8-da4b-ffe277ee9e2f",
    "pycharm": {
     "name": "#%%\n"
    }
   },
   "outputs": [
    {
     "name": "stderr",
     "output_type": "stream",
     "text": [
      "C:\\Users\\orian\\PycharmProjects\\hit_machine_learning\\venv\\lib\\site-packages\\ipykernel_launcher.py:1: FutureWarning: Dropping of nuisance columns in DataFrame reductions (with 'numeric_only=None') is deprecated; in a future version this will raise TypeError.  Select only valid columns before calling the reduction.\n",
      "  \"\"\"Entry point for launching an IPython kernel.\n"
     ]
    },
    {
     "data": {
      "text/plain": "0      1.932636e+06\n1      1.699119e+06\n2      8.733333e+01\n3      2.872188e+05\n4      1.250067e+06\n           ...     \n453    6.083925e+05\n454    2.250570e+05\n455    7.250758e+05\n456    2.368892e+05\n457             NaN\nLength: 458, dtype: float64"
     },
     "execution_count": 104,
     "metadata": {},
     "output_type": "execute_result"
    }
   ],
   "source": [
    "df.mean(axis=1)"
   ]
  }
 ],
 "metadata": {
  "colab": {
   "collapsed_sections": [],
   "name": "Pandas_Tutorial_Part_2_Student_Ver.ipynb",
   "provenance": []
  },
  "kernelspec": {
   "display_name": "Python 3 (ipykernel)",
   "language": "python",
   "name": "python3"
  },
  "language_info": {
   "codemirror_mode": {
    "name": "ipython",
    "version": 3
   },
   "file_extension": ".py",
   "mimetype": "text/x-python",
   "name": "python",
   "nbconvert_exporter": "python",
   "pygments_lexer": "ipython3",
   "version": "3.7.12"
  }
 },
 "nbformat": 4,
 "nbformat_minor": 1
}