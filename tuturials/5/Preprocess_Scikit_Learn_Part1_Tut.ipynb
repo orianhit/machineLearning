{
 "cells": [
  {
   "cell_type": "markdown",
   "metadata": {
    "pycharm": {
     "name": "#%% md\n"
    }
   },
   "source": [
    "# Preprocessing  & Scikit Learn - Part 1 "
   ]
  },
  {
   "cell_type": "markdown",
   "metadata": {
    "pycharm": {
     "name": "#%% md\n"
    }
   },
   "source": [
    "## Import python modules"
   ]
  },
  {
   "cell_type": "code",
   "execution_count": 2,
   "metadata": {
    "ExecuteTime": {
     "end_time": "2022-03-23T12:22:32.820226Z",
     "start_time": "2022-03-23T12:22:30.659782Z"
    },
    "pycharm": {
     "name": "#%%\n"
    }
   },
   "outputs": [],
   "source": [
    "# import scikit learn\n",
    "import sklearn\n",
    "\n",
    "from sklearn import datasets\n",
    "# --------------------------------------\n",
    "from sklearn import preprocessing\n",
    "# --------------------------------------\n",
    "from sklearn.model_selection import train_test_split\n",
    "# --------------------------------------\n",
    "from sklearn.preprocessing import LabelEncoder\n",
    "# --------------------------------------\n",
    "from sklearn.decomposition import PCA\n",
    "# --------------------------------------\n",
    "from sklearn.metrics import accuracy_score, confusion_matrix\n",
    "# --------------------------------------\n",
    "import warnings\n",
    "\n",
    "import numpy as np\n",
    "import pandas as pd\n",
    "# --------------------------------------\n",
    "import seaborn as sns\n",
    "import matplotlib.pyplot as plt\n",
    "from matplotlib.colors import ListedColormap\n",
    "# --------------------------------------\n",
    "# show several outputs in one cell. \n",
    "from IPython.core.interactiveshell import InteractiveShell\n",
    "InteractiveShell.ast_node_interactivity = \"all\"\n",
    "# --------------------------------------\n",
    "warnings.simplefilter(\"ignore\")\n",
    "%matplotlib inline\n",
    "# --------------------------------------"
   ]
  },
  {
   "cell_type": "markdown",
   "metadata": {
    "pycharm": {
     "name": "#%% md\n"
    }
   },
   "source": [
    "## The bicycle rental dataset"
   ]
  },
  {
   "cell_type": "markdown",
   "metadata": {
    "pycharm": {
     "name": "#%% md\n"
    }
   },
   "source": [
    "Dataset description:\n",
    "* **outstanding_branch** - outstanding branch name, with highest number of rentals  \n",
    "* **popular_color** - the most popular  color of rented bicycle for the day\n",
    "* **month_number** - number of month (between 1 to 12)\n",
    "* **day_of_week** - days of week ('Sun', 'Mon', ...)\n",
    "* **working_day** - is this a working day or not\n",
    "* **temperature** - normalized temperature\n",
    "* **humidity** - normalized humidity\n",
    "* **wind_speed** - normalized wind speed\n",
    "* **number_registered** - number of registered bicycles\n",
    "* **count_rentals** - number of rented bicycles "
   ]
  },
  {
   "cell_type": "markdown",
   "metadata": {
    "pycharm": {
     "name": "#%% md\n"
    }
   },
   "source": [
    "## Loading dataset"
   ]
  },
  {
   "cell_type": "markdown",
   "metadata": {
    "pycharm": {
     "name": "#%% md\n"
    }
   },
   "source": [
    "### Read the dataset from csv\n",
    "Let's read the dataset and display some information"
   ]
  },
  {
   "cell_type": "code",
   "execution_count": 3,
   "metadata": {
    "ExecuteTime": {
     "end_time": "2022-03-23T07:22:30.050180Z",
     "start_time": "2022-03-23T07:22:30.006149Z"
    },
    "pycharm": {
     "name": "#%%\n"
    }
   },
   "outputs": [
    {
     "data": {
      "text/plain": "  outstanding_branch popular_color  month_number day_of_week working_day  \\\n0              Holon          gray             1         Sat          NO   \n1         Beer Sheva          gray             1         Sun          NO   \n2              Holon          blue             1         Mon         YES   \n\n   temperature  humidity  wind_speed  number_registered  count_rentals  \n0     0.344167  0.805833    0.160446                654            985  \n1     0.363478  0.696087    0.248539                670            801  \n2     0.196364  0.437273    0.248309               1229           1349  ",
      "text/html": "<div>\n<style scoped>\n    .dataframe tbody tr th:only-of-type {\n        vertical-align: middle;\n    }\n\n    .dataframe tbody tr th {\n        vertical-align: top;\n    }\n\n    .dataframe thead th {\n        text-align: right;\n    }\n</style>\n<table border=\"1\" class=\"dataframe\">\n  <thead>\n    <tr style=\"text-align: right;\">\n      <th></th>\n      <th>outstanding_branch</th>\n      <th>popular_color</th>\n      <th>month_number</th>\n      <th>day_of_week</th>\n      <th>working_day</th>\n      <th>temperature</th>\n      <th>humidity</th>\n      <th>wind_speed</th>\n      <th>number_registered</th>\n      <th>count_rentals</th>\n    </tr>\n  </thead>\n  <tbody>\n    <tr>\n      <th>0</th>\n      <td>Holon</td>\n      <td>gray</td>\n      <td>1</td>\n      <td>Sat</td>\n      <td>NO</td>\n      <td>0.344167</td>\n      <td>0.805833</td>\n      <td>0.160446</td>\n      <td>654</td>\n      <td>985</td>\n    </tr>\n    <tr>\n      <th>1</th>\n      <td>Beer Sheva</td>\n      <td>gray</td>\n      <td>1</td>\n      <td>Sun</td>\n      <td>NO</td>\n      <td>0.363478</td>\n      <td>0.696087</td>\n      <td>0.248539</td>\n      <td>670</td>\n      <td>801</td>\n    </tr>\n    <tr>\n      <th>2</th>\n      <td>Holon</td>\n      <td>blue</td>\n      <td>1</td>\n      <td>Mon</td>\n      <td>YES</td>\n      <td>0.196364</td>\n      <td>0.437273</td>\n      <td>0.248309</td>\n      <td>1229</td>\n      <td>1349</td>\n    </tr>\n  </tbody>\n</table>\n</div>"
     },
     "execution_count": 3,
     "metadata": {},
     "output_type": "execute_result"
    }
   ],
   "source": [
    "df = pd.read_csv('./data/bicycle_rental.csv', header=0, sep=',') \n",
    "df.head(3)"
   ]
  },
  {
   "cell_type": "markdown",
   "metadata": {
    "pycharm": {
     "name": "#%% md\n"
    }
   },
   "source": [
    "### Split to X and y"
   ]
  },
  {
   "cell_type": "markdown",
   "metadata": {
    "pycharm": {
     "name": "#%% md\n"
    }
   },
   "source": [
    "Assume that the **'popular_color' column** functions as the target value.<br/>\n",
    "Is it a classification problem or a regression problem?<br/>\n",
    "\n",
    "We need to split the data to feature vectors and a target value:"
   ]
  },
  {
   "cell_type": "code",
   "execution_count": 4,
   "metadata": {
    "ExecuteTime": {
     "end_time": "2022-03-23T07:22:32.691343Z",
     "start_time": "2022-03-23T07:22:32.667311Z"
    },
    "pycharm": {
     "name": "#%%\n"
    }
   },
   "outputs": [
    {
     "data": {
      "text/plain": "  outstanding_branch  month_number day_of_week working_day  temperature  \\\n0              Holon             1         Sat          NO     0.344167   \n1         Beer Sheva             1         Sun          NO     0.363478   \n2              Holon             1         Mon         YES     0.196364   \n\n   humidity  wind_speed  number_registered  count_rentals  \n0  0.805833    0.160446                654            985  \n1  0.696087    0.248539                670            801  \n2  0.437273    0.248309               1229           1349  ",
      "text/html": "<div>\n<style scoped>\n    .dataframe tbody tr th:only-of-type {\n        vertical-align: middle;\n    }\n\n    .dataframe tbody tr th {\n        vertical-align: top;\n    }\n\n    .dataframe thead th {\n        text-align: right;\n    }\n</style>\n<table border=\"1\" class=\"dataframe\">\n  <thead>\n    <tr style=\"text-align: right;\">\n      <th></th>\n      <th>outstanding_branch</th>\n      <th>month_number</th>\n      <th>day_of_week</th>\n      <th>working_day</th>\n      <th>temperature</th>\n      <th>humidity</th>\n      <th>wind_speed</th>\n      <th>number_registered</th>\n      <th>count_rentals</th>\n    </tr>\n  </thead>\n  <tbody>\n    <tr>\n      <th>0</th>\n      <td>Holon</td>\n      <td>1</td>\n      <td>Sat</td>\n      <td>NO</td>\n      <td>0.344167</td>\n      <td>0.805833</td>\n      <td>0.160446</td>\n      <td>654</td>\n      <td>985</td>\n    </tr>\n    <tr>\n      <th>1</th>\n      <td>Beer Sheva</td>\n      <td>1</td>\n      <td>Sun</td>\n      <td>NO</td>\n      <td>0.363478</td>\n      <td>0.696087</td>\n      <td>0.248539</td>\n      <td>670</td>\n      <td>801</td>\n    </tr>\n    <tr>\n      <th>2</th>\n      <td>Holon</td>\n      <td>1</td>\n      <td>Mon</td>\n      <td>YES</td>\n      <td>0.196364</td>\n      <td>0.437273</td>\n      <td>0.248309</td>\n      <td>1229</td>\n      <td>1349</td>\n    </tr>\n  </tbody>\n</table>\n</div>"
     },
     "execution_count": 4,
     "metadata": {},
     "output_type": "execute_result"
    },
    {
     "data": {
      "text/plain": "0    gray\n1    gray\n2    blue\nName: popular_color, dtype: object"
     },
     "execution_count": 4,
     "metadata": {},
     "output_type": "execute_result"
    }
   ],
   "source": [
    "target_column = 'popular_color'\n",
    "y = df[target_column]\n",
    "X = df.drop([target_column],axis=1)\n",
    "X.head(3)\n",
    "y.head(3)"
   ]
  },
  {
   "cell_type": "markdown",
   "metadata": {
    "pycharm": {
     "name": "#%% md\n"
    }
   },
   "source": [
    "### Some Data Cleansing \n",
    "#### Remove rows or columns"
   ]
  },
  {
   "cell_type": "markdown",
   "metadata": {
    "pycharm": {
     "name": "#%% md\n"
    }
   },
   "source": [
    "We might want to use _boolean indexing_, and remove the data passing the condition.<br/>\n",
    "In this case we want to find all the non-working days and filter them<br/>\n",
    "\n",
    "Note that non working days includes rows which the value of \"working_day\" is 'NO'"
   ]
  },
  {
   "cell_type": "code",
   "execution_count": 5,
   "metadata": {
    "ExecuteTime": {
     "end_time": "2022-03-23T07:22:35.290339Z",
     "start_time": "2022-03-23T07:22:35.275348Z"
    },
    "pycharm": {
     "name": "#%%\n"
    }
   },
   "outputs": [
    {
     "data": {
      "text/plain": "'rows passing condition:'"
     },
     "execution_count": 5,
     "metadata": {},
     "output_type": "execute_result"
    },
    {
     "data": {
      "text/plain": "   outstanding_branch  month_number day_of_week working_day  temperature  \\\n0               Holon             1         Sat          NO     0.344167   \n1          Beer Sheva             1         Sun          NO     0.363478   \n7            Tel Aviv             1         Sat          NO     0.165000   \n8               Haifa             1         Sun          NO     0.138333   \n14              Haifa             1         Sat          NO     0.233333   \n\n    humidity  wind_speed  number_registered  count_rentals  \n0   0.805833    0.160446                654            985  \n1   0.696087    0.248539                670            801  \n7   0.535833    0.266804                891            959  \n8   0.434167    0.361950                768            822  \n14  0.498750    0.157963               1026           1248  ",
      "text/html": "<div>\n<style scoped>\n    .dataframe tbody tr th:only-of-type {\n        vertical-align: middle;\n    }\n\n    .dataframe tbody tr th {\n        vertical-align: top;\n    }\n\n    .dataframe thead th {\n        text-align: right;\n    }\n</style>\n<table border=\"1\" class=\"dataframe\">\n  <thead>\n    <tr style=\"text-align: right;\">\n      <th></th>\n      <th>outstanding_branch</th>\n      <th>month_number</th>\n      <th>day_of_week</th>\n      <th>working_day</th>\n      <th>temperature</th>\n      <th>humidity</th>\n      <th>wind_speed</th>\n      <th>number_registered</th>\n      <th>count_rentals</th>\n    </tr>\n  </thead>\n  <tbody>\n    <tr>\n      <th>0</th>\n      <td>Holon</td>\n      <td>1</td>\n      <td>Sat</td>\n      <td>NO</td>\n      <td>0.344167</td>\n      <td>0.805833</td>\n      <td>0.160446</td>\n      <td>654</td>\n      <td>985</td>\n    </tr>\n    <tr>\n      <th>1</th>\n      <td>Beer Sheva</td>\n      <td>1</td>\n      <td>Sun</td>\n      <td>NO</td>\n      <td>0.363478</td>\n      <td>0.696087</td>\n      <td>0.248539</td>\n      <td>670</td>\n      <td>801</td>\n    </tr>\n    <tr>\n      <th>7</th>\n      <td>Tel Aviv</td>\n      <td>1</td>\n      <td>Sat</td>\n      <td>NO</td>\n      <td>0.165000</td>\n      <td>0.535833</td>\n      <td>0.266804</td>\n      <td>891</td>\n      <td>959</td>\n    </tr>\n    <tr>\n      <th>8</th>\n      <td>Haifa</td>\n      <td>1</td>\n      <td>Sun</td>\n      <td>NO</td>\n      <td>0.138333</td>\n      <td>0.434167</td>\n      <td>0.361950</td>\n      <td>768</td>\n      <td>822</td>\n    </tr>\n    <tr>\n      <th>14</th>\n      <td>Haifa</td>\n      <td>1</td>\n      <td>Sat</td>\n      <td>NO</td>\n      <td>0.233333</td>\n      <td>0.498750</td>\n      <td>0.157963</td>\n      <td>1026</td>\n      <td>1248</td>\n    </tr>\n  </tbody>\n</table>\n</div>"
     },
     "execution_count": 5,
     "metadata": {},
     "output_type": "execute_result"
    }
   ],
   "source": [
    "non_work_days=X[(X[\"working_day\"]=='NO')]\n",
    "'rows passing condition:'\n",
    "non_work_days.head()"
   ]
  },
  {
   "cell_type": "markdown",
   "metadata": {
    "pycharm": {
     "name": "#%% md\n"
    }
   },
   "source": [
    "**The `drop` method** removes rows or columns (by default it removes rows).<br/>\n",
    "\n",
    "For more information goto the [pandas dataframe drop documentation](https://pandas.pydata.org/docs/reference/api/pandas.DataFrame.drop.html)"
   ]
  },
  {
   "cell_type": "code",
   "execution_count": 6,
   "metadata": {
    "ExecuteTime": {
     "end_time": "2022-03-23T07:22:38.755257Z",
     "start_time": "2022-03-23T07:22:38.746258Z"
    },
    "pycharm": {
     "name": "#%%\n"
    }
   },
   "outputs": [
    {
     "data": {
      "text/plain": "'original #rows  : 731'"
     },
     "execution_count": 6,
     "metadata": {},
     "output_type": "execute_result"
    },
    {
     "data": {
      "text/plain": "'after-drop #rows: 500'"
     },
     "execution_count": 6,
     "metadata": {},
     "output_type": "execute_result"
    }
   ],
   "source": [
    "X_work_days=X.drop(non_work_days.index)\n",
    "y_work_days=y.drop(non_work_days.index)\n",
    "'original #rows  : %d' %X.shape[0]\n",
    "'after-drop #rows: %d' %X_work_days.shape[0]"
   ]
  },
  {
   "cell_type": "markdown",
   "metadata": {
    "pycharm": {
     "name": "#%% md\n"
    }
   },
   "source": [
    "Lets check how many values do the 'string' columns contain.<br/>\n",
    "\n",
    "First We find the string columns.\n",
    "Here we'll use the select_dtypes method (check the [select_dtypes documentation](https://pandas.pydata.org/docs/reference/api/pandas.DataFrame.select_dtypes.html)):\n"
   ]
  },
  {
   "cell_type": "code",
   "execution_count": 7,
   "metadata": {
    "ExecuteTime": {
     "end_time": "2022-03-23T07:22:41.274443Z",
     "start_time": "2022-03-23T07:22:41.255444Z"
    },
    "pycharm": {
     "name": "#%%\n"
    }
   },
   "outputs": [
    {
     "data": {
      "text/plain": "  outstanding_branch day_of_week working_day\n2              Holon         Mon         YES\n3         Beer Sheva         Tue         YES\n4              Holon         Wed         YES\n5         Beer Sheva         Thu         YES\n6              Holon         Fri         YES",
      "text/html": "<div>\n<style scoped>\n    .dataframe tbody tr th:only-of-type {\n        vertical-align: middle;\n    }\n\n    .dataframe tbody tr th {\n        vertical-align: top;\n    }\n\n    .dataframe thead th {\n        text-align: right;\n    }\n</style>\n<table border=\"1\" class=\"dataframe\">\n  <thead>\n    <tr style=\"text-align: right;\">\n      <th></th>\n      <th>outstanding_branch</th>\n      <th>day_of_week</th>\n      <th>working_day</th>\n    </tr>\n  </thead>\n  <tbody>\n    <tr>\n      <th>2</th>\n      <td>Holon</td>\n      <td>Mon</td>\n      <td>YES</td>\n    </tr>\n    <tr>\n      <th>3</th>\n      <td>Beer Sheva</td>\n      <td>Tue</td>\n      <td>YES</td>\n    </tr>\n    <tr>\n      <th>4</th>\n      <td>Holon</td>\n      <td>Wed</td>\n      <td>YES</td>\n    </tr>\n    <tr>\n      <th>5</th>\n      <td>Beer Sheva</td>\n      <td>Thu</td>\n      <td>YES</td>\n    </tr>\n    <tr>\n      <th>6</th>\n      <td>Holon</td>\n      <td>Fri</td>\n      <td>YES</td>\n    </tr>\n  </tbody>\n</table>\n</div>"
     },
     "execution_count": 7,
     "metadata": {},
     "output_type": "execute_result"
    }
   ],
   "source": [
    "X_work_days_obj_clmns = X_work_days.select_dtypes(include='object')\n",
    "X_work_days_obj_clmns.head()"
   ]
  },
  {
   "cell_type": "markdown",
   "metadata": {
    "pycharm": {
     "name": "#%% md\n"
    }
   },
   "source": [
    "Lets validate the number of values after filtering and display the values of the 'working_day' column.\n",
    "(check documentation for: [nunique](https://pandas.pydata.org/docs/reference/api/pandas.DataFrame.nunique.html) and [unique](https://pandas.pydata.org/docs/reference/api/pandas.Series.unique.html))"
   ]
  },
  {
   "cell_type": "code",
   "execution_count": 8,
   "metadata": {
    "ExecuteTime": {
     "end_time": "2022-03-23T07:22:45.876092Z",
     "start_time": "2022-03-23T07:22:45.856057Z"
    },
    "pycharm": {
     "name": "#%%\n"
    }
   },
   "outputs": [
    {
     "data": {
      "text/plain": "outstanding_branch    4\nday_of_week           5\nworking_day           1\ndtype: int64"
     },
     "execution_count": 8,
     "metadata": {},
     "output_type": "execute_result"
    },
    {
     "data": {
      "text/plain": "array(['YES'], dtype=object)"
     },
     "execution_count": 8,
     "metadata": {},
     "output_type": "execute_result"
    }
   ],
   "source": [
    "X_work_days_obj_clmns.nunique()\n",
    "X_work_days_obj_clmns['working_day'].unique()"
   ]
  },
  {
   "cell_type": "markdown",
   "metadata": {
    "pycharm": {
     "name": "#%% md\n"
    }
   },
   "source": [
    "So the values (of non-working days) were removed successfully.\n",
    "\n",
    "It seems that the 'working_day' column doesn't provide (it contains only one value, let's remove it).<br/>\n",
    "Note that setting the `axis` parameter to 1 (`axis=1`), will indicate that we are dropping columns"
   ]
  },
  {
   "cell_type": "code",
   "execution_count": 9,
   "metadata": {
    "ExecuteTime": {
     "end_time": "2022-03-23T07:22:48.508358Z",
     "start_time": "2022-03-23T07:22:48.484357Z"
    },
    "pycharm": {
     "name": "#%%\n"
    }
   },
   "outputs": [
    {
     "data": {
      "text/plain": "'original #columns  : 9'"
     },
     "execution_count": 9,
     "metadata": {},
     "output_type": "execute_result"
    },
    {
     "data": {
      "text/plain": "'after-drop #columns: 8'"
     },
     "execution_count": 9,
     "metadata": {},
     "output_type": "execute_result"
    },
    {
     "data": {
      "text/plain": "  outstanding_branch  month_number day_of_week  temperature  humidity  \\\n2              Holon             1         Mon     0.196364  0.437273   \n3         Beer Sheva             1         Tue     0.200000  0.590435   \n4              Holon             1         Wed     0.226957  0.436957   \n\n   wind_speed  number_registered  count_rentals  \n2    0.248309               1229           1349  \n3    0.160296               1454           1562  \n4    0.186900               1518           1600  ",
      "text/html": "<div>\n<style scoped>\n    .dataframe tbody tr th:only-of-type {\n        vertical-align: middle;\n    }\n\n    .dataframe tbody tr th {\n        vertical-align: top;\n    }\n\n    .dataframe thead th {\n        text-align: right;\n    }\n</style>\n<table border=\"1\" class=\"dataframe\">\n  <thead>\n    <tr style=\"text-align: right;\">\n      <th></th>\n      <th>outstanding_branch</th>\n      <th>month_number</th>\n      <th>day_of_week</th>\n      <th>temperature</th>\n      <th>humidity</th>\n      <th>wind_speed</th>\n      <th>number_registered</th>\n      <th>count_rentals</th>\n    </tr>\n  </thead>\n  <tbody>\n    <tr>\n      <th>2</th>\n      <td>Holon</td>\n      <td>1</td>\n      <td>Mon</td>\n      <td>0.196364</td>\n      <td>0.437273</td>\n      <td>0.248309</td>\n      <td>1229</td>\n      <td>1349</td>\n    </tr>\n    <tr>\n      <th>3</th>\n      <td>Beer Sheva</td>\n      <td>1</td>\n      <td>Tue</td>\n      <td>0.200000</td>\n      <td>0.590435</td>\n      <td>0.160296</td>\n      <td>1454</td>\n      <td>1562</td>\n    </tr>\n    <tr>\n      <th>4</th>\n      <td>Holon</td>\n      <td>1</td>\n      <td>Wed</td>\n      <td>0.226957</td>\n      <td>0.436957</td>\n      <td>0.186900</td>\n      <td>1518</td>\n      <td>1600</td>\n    </tr>\n  </tbody>\n</table>\n</div>"
     },
     "execution_count": 9,
     "metadata": {},
     "output_type": "execute_result"
    },
    {
     "data": {
      "text/plain": "2    blue\n3    blue\n4     red\nName: popular_color, dtype: object"
     },
     "execution_count": 9,
     "metadata": {},
     "output_type": "execute_result"
    }
   ],
   "source": [
    "'original #columns  : %d' %X.shape[1]\n",
    "X_work_days=X_work_days.drop('working_day',axis=1)\n",
    "'after-drop #columns: %d' %X_work_days.shape[1]\n",
    "X_work_days.head(3)\n",
    "y_work_days.head(3)"
   ]
  },
  {
   "cell_type": "markdown",
   "metadata": {
    "pycharm": {
     "name": "#%% md\n"
    }
   },
   "source": [
    "### Split to train and test"
   ]
  },
  {
   "cell_type": "markdown",
   "metadata": {
    "pycharm": {
     "name": "#%% md\n"
    }
   },
   "source": [
    "Assume the dataset is for a learning problem and it is not splitted to train and test.<br/>\n",
    "We need to split the data to train and test and we could use the `sklearn.model_selection` module called `train_test_split` (for more information read the \n",
    "[train_test_split documentation](https://scikit-learn.org/stable/modules/generated/sklearn.model_selection.train_test_split.html))<br/>\n",
    "In order to set a reproducible result, we set a predifined random state (the `random_state` parameter).\n",
    "\n",
    "The following is an example of the usage:"
   ]
  },
  {
   "cell_type": "code",
   "execution_count": 10,
   "metadata": {
    "ExecuteTime": {
     "end_time": "2022-03-23T07:22:50.725859Z",
     "start_time": "2022-03-23T07:22:50.706861Z"
    },
    "pycharm": {
     "name": "#%%\n"
    }
   },
   "outputs": [
    {
     "data": {
      "text/plain": "    outstanding_branch  month_number day_of_week  temperature  humidity  \\\n445           Tel Aviv             3         Wed     0.531667  0.821250   \n394         Beer Sheva             1         Mon     0.269167  0.400833   \n101           Tel Aviv             4         Tue     0.502500  0.739167   \n\n     wind_speed  number_registered  count_rentals  \n445    0.089558               5108           6230  \n394    0.215792               3498           3624  \n101    0.274879               1777           2034  ",
      "text/html": "<div>\n<style scoped>\n    .dataframe tbody tr th:only-of-type {\n        vertical-align: middle;\n    }\n\n    .dataframe tbody tr th {\n        vertical-align: top;\n    }\n\n    .dataframe thead th {\n        text-align: right;\n    }\n</style>\n<table border=\"1\" class=\"dataframe\">\n  <thead>\n    <tr style=\"text-align: right;\">\n      <th></th>\n      <th>outstanding_branch</th>\n      <th>month_number</th>\n      <th>day_of_week</th>\n      <th>temperature</th>\n      <th>humidity</th>\n      <th>wind_speed</th>\n      <th>number_registered</th>\n      <th>count_rentals</th>\n    </tr>\n  </thead>\n  <tbody>\n    <tr>\n      <th>445</th>\n      <td>Tel Aviv</td>\n      <td>3</td>\n      <td>Wed</td>\n      <td>0.531667</td>\n      <td>0.821250</td>\n      <td>0.089558</td>\n      <td>5108</td>\n      <td>6230</td>\n    </tr>\n    <tr>\n      <th>394</th>\n      <td>Beer Sheva</td>\n      <td>1</td>\n      <td>Mon</td>\n      <td>0.269167</td>\n      <td>0.400833</td>\n      <td>0.215792</td>\n      <td>3498</td>\n      <td>3624</td>\n    </tr>\n    <tr>\n      <th>101</th>\n      <td>Tel Aviv</td>\n      <td>4</td>\n      <td>Tue</td>\n      <td>0.502500</td>\n      <td>0.739167</td>\n      <td>0.274879</td>\n      <td>1777</td>\n      <td>2034</td>\n    </tr>\n  </tbody>\n</table>\n</div>"
     },
     "execution_count": 10,
     "metadata": {},
     "output_type": "execute_result"
    },
    {
     "data": {
      "text/plain": "445     red\n394     red\n101    blue\nName: popular_color, dtype: object"
     },
     "execution_count": 10,
     "metadata": {},
     "output_type": "execute_result"
    }
   ],
   "source": [
    "X_train, X_test, y_train, y_test = train_test_split(X_work_days, y_work_days, test_size=0.15, random_state=42, shuffle=True)\n",
    "X_train.head(3)\n",
    "y_train.head(3)"
   ]
  },
  {
   "cell_type": "markdown",
   "metadata": {
    "pycharm": {
     "name": "#%% md\n"
    }
   },
   "source": [
    "## Some Feature Engineering:"
   ]
  },
  {
   "cell_type": "markdown",
   "metadata": {
    "pycharm": {
     "name": "#%% md\n"
    }
   },
   "source": [
    "### Transform string values to numeric  - case 1\n",
    "Case 1 - values have an intuitive value "
   ]
  },
  {
   "cell_type": "markdown",
   "metadata": {
    "pycharm": {
     "name": "#%% md\n"
    }
   },
   "source": [
    "Let's go back to the original dataset and display the values of our two 'string' features: \n",
    "* 'day_of_week'\n",
    "* 'outstanding_branch'"
   ]
  },
  {
   "cell_type": "code",
   "execution_count": 11,
   "metadata": {
    "ExecuteTime": {
     "end_time": "2022-03-23T07:22:57.877091Z",
     "start_time": "2022-03-23T07:22:57.857131Z"
    },
    "pycharm": {
     "name": "#%%\n"
    }
   },
   "outputs": [
    {
     "data": {
      "text/plain": "array(['Sat', 'Sun', 'Mon', 'Tue', 'Wed', 'Thu', 'Fri'], dtype=object)"
     },
     "execution_count": 11,
     "metadata": {},
     "output_type": "execute_result"
    },
    {
     "data": {
      "text/plain": "array(['Holon', 'Beer Sheva', 'Tel Aviv', 'Haifa'], dtype=object)"
     },
     "execution_count": 11,
     "metadata": {},
     "output_type": "execute_result"
    }
   ],
   "source": [
    "# assume we are loading the train set:\n",
    "trainset = pd.read_csv('./data/bicycle_rental.csv', header=0, sep=',') \n",
    "\n",
    "trainset['day_of_week'].unique()\n",
    "trainset['outstanding_branch'].unique()"
   ]
  },
  {
   "cell_type": "code",
   "execution_count": 12,
   "metadata": {
    "ExecuteTime": {
     "end_time": "2022-03-23T07:25:00.978512Z",
     "start_time": "2022-03-23T07:25:00.962470Z"
    },
    "pycharm": {
     "name": "#%%\n"
    }
   },
   "outputs": [
    {
     "data": {
      "text/plain": "  outstanding_branch popular_color  month_number day_of_week working_day  \\\n0              Holon          gray             1         Sat          NO   \n1         Beer Sheva          gray             1         Sun          NO   \n2              Holon          blue             1         Mon         YES   \n3         Beer Sheva          blue             1         Tue         YES   \n4              Holon           red             1         Wed         YES   \n\n   temperature  humidity  wind_speed  number_registered  count_rentals  \n0     0.344167  0.805833    0.160446                654            985  \n1     0.363478  0.696087    0.248539                670            801  \n2     0.196364  0.437273    0.248309               1229           1349  \n3     0.200000  0.590435    0.160296               1454           1562  \n4     0.226957  0.436957    0.186900               1518           1600  ",
      "text/html": "<div>\n<style scoped>\n    .dataframe tbody tr th:only-of-type {\n        vertical-align: middle;\n    }\n\n    .dataframe tbody tr th {\n        vertical-align: top;\n    }\n\n    .dataframe thead th {\n        text-align: right;\n    }\n</style>\n<table border=\"1\" class=\"dataframe\">\n  <thead>\n    <tr style=\"text-align: right;\">\n      <th></th>\n      <th>outstanding_branch</th>\n      <th>popular_color</th>\n      <th>month_number</th>\n      <th>day_of_week</th>\n      <th>working_day</th>\n      <th>temperature</th>\n      <th>humidity</th>\n      <th>wind_speed</th>\n      <th>number_registered</th>\n      <th>count_rentals</th>\n    </tr>\n  </thead>\n  <tbody>\n    <tr>\n      <th>0</th>\n      <td>Holon</td>\n      <td>gray</td>\n      <td>1</td>\n      <td>Sat</td>\n      <td>NO</td>\n      <td>0.344167</td>\n      <td>0.805833</td>\n      <td>0.160446</td>\n      <td>654</td>\n      <td>985</td>\n    </tr>\n    <tr>\n      <th>1</th>\n      <td>Beer Sheva</td>\n      <td>gray</td>\n      <td>1</td>\n      <td>Sun</td>\n      <td>NO</td>\n      <td>0.363478</td>\n      <td>0.696087</td>\n      <td>0.248539</td>\n      <td>670</td>\n      <td>801</td>\n    </tr>\n    <tr>\n      <th>2</th>\n      <td>Holon</td>\n      <td>blue</td>\n      <td>1</td>\n      <td>Mon</td>\n      <td>YES</td>\n      <td>0.196364</td>\n      <td>0.437273</td>\n      <td>0.248309</td>\n      <td>1229</td>\n      <td>1349</td>\n    </tr>\n    <tr>\n      <th>3</th>\n      <td>Beer Sheva</td>\n      <td>blue</td>\n      <td>1</td>\n      <td>Tue</td>\n      <td>YES</td>\n      <td>0.200000</td>\n      <td>0.590435</td>\n      <td>0.160296</td>\n      <td>1454</td>\n      <td>1562</td>\n    </tr>\n    <tr>\n      <th>4</th>\n      <td>Holon</td>\n      <td>red</td>\n      <td>1</td>\n      <td>Wed</td>\n      <td>YES</td>\n      <td>0.226957</td>\n      <td>0.436957</td>\n      <td>0.186900</td>\n      <td>1518</td>\n      <td>1600</td>\n    </tr>\n  </tbody>\n</table>\n</div>"
     },
     "execution_count": 12,
     "metadata": {},
     "output_type": "execute_result"
    }
   ],
   "source": [
    "trainset.head()"
   ]
  },
  {
   "cell_type": "markdown",
   "metadata": {
    "pycharm": {
     "name": "#%% md\n"
    }
   },
   "source": [
    "The **'day_of_week' column** could be transfered to an <u>ordinal order</u> which make sense.<br/>\n",
    "The **'outstanding_branch' column** doesn't have such an order.<br/>\n",
    "\n",
    "We could transfer 'day_of_week' values to there ordinal order in the week.<br/>\n",
    "(For more information visit the [pandas dataframe replace documentation](https://pandas.pydata.org/docs/reference/api/pandas.DataFrame.replace.html))<br/>\n",
    "\n",
    "**'is_work_day'** - We will use the Israeli week order as a new feature and remove the original one:"
   ]
  },
  {
   "cell_type": "code",
   "execution_count": 13,
   "metadata": {
    "ExecuteTime": {
     "end_time": "2022-03-23T07:25:02.171033Z",
     "start_time": "2022-03-23T07:25:02.139071Z"
    },
    "pycharm": {
     "name": "#%%\n"
    }
   },
   "outputs": [
    {
     "data": {
      "text/plain": "  outstanding_branch popular_color  month_number working_day  temperature  \\\n0              Holon          gray             1          NO     0.344167   \n1         Beer Sheva          gray             1          NO     0.363478   \n2              Holon          blue             1         YES     0.196364   \n3         Beer Sheva          blue             1         YES     0.200000   \n4              Holon           red             1         YES     0.226957   \n\n   humidity  wind_speed  number_registered  count_rentals  il_day_indx  \n0  0.805833    0.160446                654            985            7  \n1  0.696087    0.248539                670            801            1  \n2  0.437273    0.248309               1229           1349            2  \n3  0.590435    0.160296               1454           1562            3  \n4  0.436957    0.186900               1518           1600            4  ",
      "text/html": "<div>\n<style scoped>\n    .dataframe tbody tr th:only-of-type {\n        vertical-align: middle;\n    }\n\n    .dataframe tbody tr th {\n        vertical-align: top;\n    }\n\n    .dataframe thead th {\n        text-align: right;\n    }\n</style>\n<table border=\"1\" class=\"dataframe\">\n  <thead>\n    <tr style=\"text-align: right;\">\n      <th></th>\n      <th>outstanding_branch</th>\n      <th>popular_color</th>\n      <th>month_number</th>\n      <th>working_day</th>\n      <th>temperature</th>\n      <th>humidity</th>\n      <th>wind_speed</th>\n      <th>number_registered</th>\n      <th>count_rentals</th>\n      <th>il_day_indx</th>\n    </tr>\n  </thead>\n  <tbody>\n    <tr>\n      <th>0</th>\n      <td>Holon</td>\n      <td>gray</td>\n      <td>1</td>\n      <td>NO</td>\n      <td>0.344167</td>\n      <td>0.805833</td>\n      <td>0.160446</td>\n      <td>654</td>\n      <td>985</td>\n      <td>7</td>\n    </tr>\n    <tr>\n      <th>1</th>\n      <td>Beer Sheva</td>\n      <td>gray</td>\n      <td>1</td>\n      <td>NO</td>\n      <td>0.363478</td>\n      <td>0.696087</td>\n      <td>0.248539</td>\n      <td>670</td>\n      <td>801</td>\n      <td>1</td>\n    </tr>\n    <tr>\n      <th>2</th>\n      <td>Holon</td>\n      <td>blue</td>\n      <td>1</td>\n      <td>YES</td>\n      <td>0.196364</td>\n      <td>0.437273</td>\n      <td>0.248309</td>\n      <td>1229</td>\n      <td>1349</td>\n      <td>2</td>\n    </tr>\n    <tr>\n      <th>3</th>\n      <td>Beer Sheva</td>\n      <td>blue</td>\n      <td>1</td>\n      <td>YES</td>\n      <td>0.200000</td>\n      <td>0.590435</td>\n      <td>0.160296</td>\n      <td>1454</td>\n      <td>1562</td>\n      <td>3</td>\n    </tr>\n    <tr>\n      <th>4</th>\n      <td>Holon</td>\n      <td>red</td>\n      <td>1</td>\n      <td>YES</td>\n      <td>0.226957</td>\n      <td>0.436957</td>\n      <td>0.186900</td>\n      <td>1518</td>\n      <td>1600</td>\n      <td>4</td>\n    </tr>\n  </tbody>\n</table>\n</div>"
     },
     "execution_count": 13,
     "metadata": {},
     "output_type": "execute_result"
    }
   ],
   "source": [
    "trainset['il_day_indx'] = trainset['day_of_week'].replace({'Sun':1, 'Mon':2, 'Tue':3, 'Wed':4, 'Thu':5, 'Fri':6, 'Sat':7})\n",
    "# remove the original columns day_of_week':\n",
    "trainset = trainset.drop(['day_of_week'],axis=1)\n",
    "trainset.head()"
   ]
  },
  {
   "cell_type": "markdown",
   "metadata": {
    "pycharm": {
     "name": "#%% md\n"
    }
   },
   "source": [
    "Great, but what about 'outstanding_branch'?<br/>\n",
    "We will need to find another solution for 'outstanding_branch' ..."
   ]
  },
  {
   "cell_type": "markdown",
   "metadata": {
    "pycharm": {
     "name": "#%% md\n"
    }
   },
   "source": [
    "### Transform string values to numeric  - case 2\n",
    "Case 2 - values don't have an intuitive value "
   ]
  },
  {
   "cell_type": "markdown",
   "metadata": {
    "pycharm": {
     "name": "#%% md\n"
    }
   },
   "source": [
    "Let's check the frequency of the **'outstanding_branch' column** using the pandas series `value_counts` function.<br/>\n",
    "(For more information check the [pandas series value_counts documentation](https://pandas.pydata.org/docs/reference/api/pandas.Series.value_counts.html))\n",
    "\n",
    "We call this a **histogram**: "
   ]
  },
  {
   "cell_type": "code",
   "execution_count": 14,
   "metadata": {
    "ExecuteTime": {
     "end_time": "2022-03-23T07:25:26.103102Z",
     "start_time": "2022-03-23T07:25:26.096102Z"
    },
    "pycharm": {
     "name": "#%%\n"
    }
   },
   "outputs": [
    {
     "data": {
      "text/plain": "Beer Sheva    195\nTel Aviv      185\nHaifa         184\nHolon         167\nName: outstanding_branch, dtype: int64"
     },
     "execution_count": 14,
     "metadata": {},
     "output_type": "execute_result"
    }
   ],
   "source": [
    "trainset['outstanding_branch'].value_counts()"
   ]
  },
  {
   "cell_type": "markdown",
   "metadata": {
    "pycharm": {
     "name": "#%% md\n"
    }
   },
   "source": [
    "There are several ways to visualize histograms.<br/>\n",
    "For instance, we could also visualize this using a `matplotlib` `bar` method, a series `hist` method from or an `sns` `countof` method  "
   ]
  },
  {
   "cell_type": "code",
   "execution_count": 15,
   "metadata": {
    "ExecuteTime": {
     "end_time": "2022-03-23T07:25:48.036420Z",
     "start_time": "2022-03-23T07:25:47.889288Z"
    },
    "pycharm": {
     "name": "#%%\n"
    }
   },
   "outputs": [
    {
     "data": {
      "text/plain": "<AxesSubplot:>"
     },
     "execution_count": 15,
     "metadata": {},
     "output_type": "execute_result"
    },
    {
     "data": {
      "text/plain": "<Figure size 432x288 with 1 Axes>",
      "image/png": "[encoded data removed]"
     },
     "metadata": {
      "needs_background": "light"
     },
     "output_type": "display_data"
    }
   ],
   "source": [
    "trainset['outstanding_branch'].hist()"
   ]
  },
  {
   "cell_type": "markdown",
   "metadata": {
    "pycharm": {
     "name": "#%% md\n"
    }
   },
   "source": [
    "In case we don't have an order in a categorical (string here) value, we could check for existence of the value.<br/>\n",
    "The **pandas `get_dummies` method** does just that, by transferring each possible string value to a binary feature.<br/>\n",
    "(For more information check the [pandas get_dummies documentation](https://pandas.pydata.org/docs/reference/api/pandas.get_dummies.html))\n",
    "\n",
    "Let's apply this for the 'outstanding_branch' column:"
   ]
  },
  {
   "cell_type": "code",
   "execution_count": 16,
   "metadata": {
    "ExecuteTime": {
     "end_time": "2022-03-23T07:26:08.113691Z",
     "start_time": "2022-03-23T07:26:08.090694Z"
    },
    "pycharm": {
     "name": "#%%\n"
    }
   },
   "outputs": [
    {
     "data": {
      "text/plain": "  popular_color  month_number working_day  temperature  humidity  wind_speed  \\\n0          gray             1          NO     0.344167  0.805833    0.160446   \n1          gray             1          NO     0.363478  0.696087    0.248539   \n2          blue             1         YES     0.196364  0.437273    0.248309   \n3          blue             1         YES     0.200000  0.590435    0.160296   \n4           red             1         YES     0.226957  0.436957    0.186900   \n\n   number_registered  count_rentals  il_day_indx  branch__Beer Sheva  \\\n0                654            985            7                   0   \n1                670            801            1                   1   \n2               1229           1349            2                   0   \n3               1454           1562            3                   1   \n4               1518           1600            4                   0   \n\n   branch__Haifa  branch__Holon  branch__Tel Aviv  \n0              0              1                 0  \n1              0              0                 0  \n2              0              1                 0  \n3              0              0                 0  \n4              0              1                 0  ",
      "text/html": "<div>\n<style scoped>\n    .dataframe tbody tr th:only-of-type {\n        vertical-align: middle;\n    }\n\n    .dataframe tbody tr th {\n        vertical-align: top;\n    }\n\n    .dataframe thead th {\n        text-align: right;\n    }\n</style>\n<table border=\"1\" class=\"dataframe\">\n  <thead>\n    <tr style=\"text-align: right;\">\n      <th></th>\n      <th>popular_color</th>\n      <th>month_number</th>\n      <th>working_day</th>\n      <th>temperature</th>\n      <th>humidity</th>\n      <th>wind_speed</th>\n      <th>number_registered</th>\n      <th>count_rentals</th>\n      <th>il_day_indx</th>\n      <th>branch__Beer Sheva</th>\n      <th>branch__Haifa</th>\n      <th>branch__Holon</th>\n      <th>branch__Tel Aviv</th>\n    </tr>\n  </thead>\n  <tbody>\n    <tr>\n      <th>0</th>\n      <td>gray</td>\n      <td>1</td>\n      <td>NO</td>\n      <td>0.344167</td>\n      <td>0.805833</td>\n      <td>0.160446</td>\n      <td>654</td>\n      <td>985</td>\n      <td>7</td>\n      <td>0</td>\n      <td>0</td>\n      <td>1</td>\n      <td>0</td>\n    </tr>\n    <tr>\n      <th>1</th>\n      <td>gray</td>\n      <td>1</td>\n      <td>NO</td>\n      <td>0.363478</td>\n      <td>0.696087</td>\n      <td>0.248539</td>\n      <td>670</td>\n      <td>801</td>\n      <td>1</td>\n      <td>1</td>\n      <td>0</td>\n      <td>0</td>\n      <td>0</td>\n    </tr>\n    <tr>\n      <th>2</th>\n      <td>blue</td>\n      <td>1</td>\n      <td>YES</td>\n      <td>0.196364</td>\n      <td>0.437273</td>\n      <td>0.248309</td>\n      <td>1229</td>\n      <td>1349</td>\n      <td>2</td>\n      <td>0</td>\n      <td>0</td>\n      <td>1</td>\n      <td>0</td>\n    </tr>\n    <tr>\n      <th>3</th>\n      <td>blue</td>\n      <td>1</td>\n      <td>YES</td>\n      <td>0.200000</td>\n      <td>0.590435</td>\n      <td>0.160296</td>\n      <td>1454</td>\n      <td>1562</td>\n      <td>3</td>\n      <td>1</td>\n      <td>0</td>\n      <td>0</td>\n      <td>0</td>\n    </tr>\n    <tr>\n      <th>4</th>\n      <td>red</td>\n      <td>1</td>\n      <td>YES</td>\n      <td>0.226957</td>\n      <td>0.436957</td>\n      <td>0.186900</td>\n      <td>1518</td>\n      <td>1600</td>\n      <td>4</td>\n      <td>0</td>\n      <td>0</td>\n      <td>1</td>\n      <td>0</td>\n    </tr>\n  </tbody>\n</table>\n</div>"
     },
     "execution_count": 16,
     "metadata": {},
     "output_type": "execute_result"
    }
   ],
   "source": [
    "outstanding_branchs = pd.get_dummies(trainset['outstanding_branch'],prefix='branch_',drop_first=False)\n",
    "df_binary = pd.concat([trainset,outstanding_branchs],axis=1).drop('outstanding_branch',axis=1)\n",
    "df_binary.head()"
   ]
  },
  {
   "cell_type": "markdown",
   "metadata": {
    "pycharm": {
     "name": "#%% md\n"
    }
   },
   "source": [
    "### Transfer continues numeric values to discrete"
   ]
  },
  {
   "cell_type": "markdown",
   "metadata": {
    "pycharm": {
     "name": "#%% md\n"
    }
   },
   "source": [
    "We have a couple of options to turn continues values to discrete ones.<br/>\n",
    "Actually the feature values don't have to be continues.<br/>\n",
    "\n",
    "We might want to divide int values to groups.<br/>\n",
    "The **pandas `qcut` method**, does this by dividing the values into quantiles (For more information check the [pandas qcut documentation](https://pandas.pydata.org/docs/reference/api/pandas.qcut.html)).\n",
    "\n",
    "Let's do this for the 'count_rentals' feature (number of rented bicycles)."
   ]
  },
  {
   "cell_type": "code",
   "execution_count": 17,
   "metadata": {
    "ExecuteTime": {
     "end_time": "2022-03-23T07:29:38.961882Z",
     "start_time": "2022-03-23T07:29:38.786126Z"
    },
    "pycharm": {
     "name": "#%%\n"
    }
   },
   "outputs": [
    {
     "data": {
      "text/plain": "<AxesSubplot:>"
     },
     "execution_count": 17,
     "metadata": {},
     "output_type": "execute_result"
    },
    {
     "data": {
      "text/plain": "<Figure size 432x288 with 1 Axes>",
      "image/png": "[encoded data removed]"
     },
     "metadata": {
      "needs_background": "light"
     },
     "output_type": "display_data"
    }
   ],
   "source": [
    "df_binary['count_rentals'].hist(bins=30)"
   ]
  },
  {
   "cell_type": "code",
   "execution_count": 18,
   "metadata": {
    "ExecuteTime": {
     "end_time": "2022-03-23T07:30:03.692679Z",
     "start_time": "2022-03-23T07:30:03.533644Z"
    },
    "pycharm": {
     "name": "#%%\n"
    }
   },
   "outputs": [
    {
     "data": {
      "text/plain": "<AxesSubplot:>"
     },
     "execution_count": 18,
     "metadata": {},
     "output_type": "execute_result"
    },
    {
     "data": {
      "text/plain": "<Figure size 432x288 with 1 Axes>",
      "image/png": "[encoded data removed]"
     },
     "metadata": {
      "needs_background": "light"
     },
     "output_type": "display_data"
    }
   ],
   "source": [
    "df_binary['count_rentals'].hist(bins=20)"
   ]
  },
  {
   "cell_type": "code",
   "execution_count": 19,
   "metadata": {
    "ExecuteTime": {
     "end_time": "2022-03-23T07:30:07.663074Z",
     "start_time": "2022-03-23T07:30:07.524557Z"
    },
    "pycharm": {
     "name": "#%%\n"
    }
   },
   "outputs": [
    {
     "data": {
      "text/plain": "<AxesSubplot:>"
     },
     "execution_count": 19,
     "metadata": {},
     "output_type": "execute_result"
    },
    {
     "data": {
      "text/plain": "<Figure size 432x288 with 1 Axes>",
      "image/png": "[encoded data removed]"
     },
     "metadata": {
      "needs_background": "light"
     },
     "output_type": "display_data"
    }
   ],
   "source": [
    "df_binary['count_rentals'].hist(bins=10)"
   ]
  },
  {
   "cell_type": "code",
   "execution_count": 20,
   "metadata": {
    "ExecuteTime": {
     "end_time": "2022-03-23T07:30:15.297422Z",
     "start_time": "2022-03-23T07:30:15.106422Z"
    },
    "pycharm": {
     "name": "#%%\n"
    }
   },
   "outputs": [
    {
     "data": {
      "text/plain": "<AxesSubplot:>"
     },
     "execution_count": 20,
     "metadata": {},
     "output_type": "execute_result"
    },
    {
     "data": {
      "text/plain": "<Figure size 432x288 with 1 Axes>",
      "image/png": "[encoded data removed]"
     },
     "metadata": {
      "needs_background": "light"
     },
     "output_type": "display_data"
    }
   ],
   "source": [
    "df_binary['count_rentals'].hist(bins=5)"
   ]
  },
  {
   "cell_type": "code",
   "execution_count": 21,
   "metadata": {
    "ExecuteTime": {
     "end_time": "2022-03-23T07:31:57.767183Z",
     "start_time": "2022-03-23T07:31:57.745184Z"
    },
    "pycharm": {
     "name": "#%%\n"
    }
   },
   "outputs": [
    {
     "data": {
      "text/plain": "  popular_color  month_number working_day  temperature  humidity  wind_speed  \\\n0          gray             1          NO     0.344167  0.805833    0.160446   \n1          gray             1          NO     0.363478  0.696087    0.248539   \n2          blue             1         YES     0.196364  0.437273    0.248309   \n3          blue             1         YES     0.200000  0.590435    0.160296   \n4           red             1         YES     0.226957  0.436957    0.186900   \n\n   number_registered  il_day_indx  branch__Beer Sheva  branch__Haifa  \\\n0                654            7                   0              0   \n1                670            1                   1              0   \n2               1229            2                   0              0   \n3               1454            3                   1              0   \n4               1518            4                   0              0   \n\n   branch__Holon  branch__Tel Aviv cnt_descrete  \n0              1                 0            0  \n1              0                 0            0  \n2              1                 0            0  \n3              0                 0            0  \n4              1                 0            0  ",
      "text/html": "<div>\n<style scoped>\n    .dataframe tbody tr th:only-of-type {\n        vertical-align: middle;\n    }\n\n    .dataframe tbody tr th {\n        vertical-align: top;\n    }\n\n    .dataframe thead th {\n        text-align: right;\n    }\n</style>\n<table border=\"1\" class=\"dataframe\">\n  <thead>\n    <tr style=\"text-align: right;\">\n      <th></th>\n      <th>popular_color</th>\n      <th>month_number</th>\n      <th>working_day</th>\n      <th>temperature</th>\n      <th>humidity</th>\n      <th>wind_speed</th>\n      <th>number_registered</th>\n      <th>il_day_indx</th>\n      <th>branch__Beer Sheva</th>\n      <th>branch__Haifa</th>\n      <th>branch__Holon</th>\n      <th>branch__Tel Aviv</th>\n      <th>cnt_descrete</th>\n    </tr>\n  </thead>\n  <tbody>\n    <tr>\n      <th>0</th>\n      <td>gray</td>\n      <td>1</td>\n      <td>NO</td>\n      <td>0.344167</td>\n      <td>0.805833</td>\n      <td>0.160446</td>\n      <td>654</td>\n      <td>7</td>\n      <td>0</td>\n      <td>0</td>\n      <td>1</td>\n      <td>0</td>\n      <td>0</td>\n    </tr>\n    <tr>\n      <th>1</th>\n      <td>gray</td>\n      <td>1</td>\n      <td>NO</td>\n      <td>0.363478</td>\n      <td>0.696087</td>\n      <td>0.248539</td>\n      <td>670</td>\n      <td>1</td>\n      <td>1</td>\n      <td>0</td>\n      <td>0</td>\n      <td>0</td>\n      <td>0</td>\n    </tr>\n    <tr>\n      <th>2</th>\n      <td>blue</td>\n      <td>1</td>\n      <td>YES</td>\n      <td>0.196364</td>\n      <td>0.437273</td>\n      <td>0.248309</td>\n      <td>1229</td>\n      <td>2</td>\n      <td>0</td>\n      <td>0</td>\n      <td>1</td>\n      <td>0</td>\n      <td>0</td>\n    </tr>\n    <tr>\n      <th>3</th>\n      <td>blue</td>\n      <td>1</td>\n      <td>YES</td>\n      <td>0.200000</td>\n      <td>0.590435</td>\n      <td>0.160296</td>\n      <td>1454</td>\n      <td>3</td>\n      <td>1</td>\n      <td>0</td>\n      <td>0</td>\n      <td>0</td>\n      <td>0</td>\n    </tr>\n    <tr>\n      <th>4</th>\n      <td>red</td>\n      <td>1</td>\n      <td>YES</td>\n      <td>0.226957</td>\n      <td>0.436957</td>\n      <td>0.186900</td>\n      <td>1518</td>\n      <td>4</td>\n      <td>0</td>\n      <td>0</td>\n      <td>1</td>\n      <td>0</td>\n      <td>0</td>\n    </tr>\n  </tbody>\n</table>\n</div>"
     },
     "execution_count": 21,
     "metadata": {},
     "output_type": "execute_result"
    }
   ],
   "source": [
    "cnt_descrete=pd.qcut(df_binary['count_rentals'], q=4,labels=[0,1,2,3])\n",
    "cnt_descrete.name='cnt_descrete'\n",
    "df_descrete = pd.concat([df_binary,cnt_descrete],axis=1).drop('count_rentals',axis=1)\n",
    "df_descrete.head()"
   ]
  },
  {
   "cell_type": "markdown",
   "metadata": {
    "pycharm": {
     "name": "#%% md\n"
    }
   },
   "source": [
    "### Exercise 1 - Feature Engineering"
   ]
  },
  {
   "cell_type": "markdown",
   "metadata": {
    "pycharm": {
     "name": "#%% md\n"
    }
   },
   "source": [
    "In this exercise start with the original dataframe df.<br/>\n",
    "1. Create a new feature (column) called 'is_work_time', which could contain 2 values:\n",
    "  * 0 (for non-working time)\n",
    "  * 1: for working time \n",
    "  * We consider Non working time, as one of the following (or more):  \n",
    "    * a value of 'NO' for the 'working_day' column\n",
    "    * Month number 7 or 8 (Summer month - July or August) for the 'month_number' column \n",
    "  * After creating this new column, remove the 'working_day' and the 'month_number' columns.\n",
    "2. Create a 'work_day_order' column, containing the work day order as following:\n",
    "  * 1 - beginning of week, including 'Sun' and 'Mon'\n",
    "  * 2 - middle of the week, including 'Tue', 'Wed', 'Thu'\n",
    "  * 3 - End of week, including 'Fri' and 'Sat'\n",
    "  * Remove the original 'day_of_week' column.\n",
    "3. Discretize 'popular_color' on existence bases of the colors (exists = 1, doesn't exist = 0).\n",
    "   * Use 'is_color' as a prefix\n",
    "4. Discretize 'wind_speed' into 5 parts, using the pandas qcut command \n",
    "   * The new column should be called 'wind_discrete'\n",
    "   * remove the 'wind_speed' column"
   ]
  },
  {
   "cell_type": "code",
   "execution_count": 22,
   "metadata": {
    "pycharm": {
     "name": "#%%\n"
    }
   },
   "outputs": [
    {
     "data": {
      "text/plain": "  outstanding_branch popular_color  month_number day_of_week working_day  \\\n0              Holon          gray             1         Sat          NO   \n1         Beer Sheva          gray             1         Sun          NO   \n2              Holon          blue             1         Mon         YES   \n\n   temperature  humidity  wind_speed  number_registered  count_rentals  \n0     0.344167  0.805833    0.160446                654            985  \n1     0.363478  0.696087    0.248539                670            801  \n2     0.196364  0.437273    0.248309               1229           1349  ",
      "text/html": "<div>\n<style scoped>\n    .dataframe tbody tr th:only-of-type {\n        vertical-align: middle;\n    }\n\n    .dataframe tbody tr th {\n        vertical-align: top;\n    }\n\n    .dataframe thead th {\n        text-align: right;\n    }\n</style>\n<table border=\"1\" class=\"dataframe\">\n  <thead>\n    <tr style=\"text-align: right;\">\n      <th></th>\n      <th>outstanding_branch</th>\n      <th>popular_color</th>\n      <th>month_number</th>\n      <th>day_of_week</th>\n      <th>working_day</th>\n      <th>temperature</th>\n      <th>humidity</th>\n      <th>wind_speed</th>\n      <th>number_registered</th>\n      <th>count_rentals</th>\n    </tr>\n  </thead>\n  <tbody>\n    <tr>\n      <th>0</th>\n      <td>Holon</td>\n      <td>gray</td>\n      <td>1</td>\n      <td>Sat</td>\n      <td>NO</td>\n      <td>0.344167</td>\n      <td>0.805833</td>\n      <td>0.160446</td>\n      <td>654</td>\n      <td>985</td>\n    </tr>\n    <tr>\n      <th>1</th>\n      <td>Beer Sheva</td>\n      <td>gray</td>\n      <td>1</td>\n      <td>Sun</td>\n      <td>NO</td>\n      <td>0.363478</td>\n      <td>0.696087</td>\n      <td>0.248539</td>\n      <td>670</td>\n      <td>801</td>\n    </tr>\n    <tr>\n      <th>2</th>\n      <td>Holon</td>\n      <td>blue</td>\n      <td>1</td>\n      <td>Mon</td>\n      <td>YES</td>\n      <td>0.196364</td>\n      <td>0.437273</td>\n      <td>0.248309</td>\n      <td>1229</td>\n      <td>1349</td>\n    </tr>\n  </tbody>\n</table>\n</div>"
     },
     "execution_count": 22,
     "metadata": {},
     "output_type": "execute_result"
    }
   ],
   "source": [
    "# assume we are loading the train set:\n",
    "trainset = pd.read_csv('./data/bicycle_rental.csv', header=0, sep=',') \n",
    "trainset.head(3)"
   ]
  },
  {
   "cell_type": "code",
   "execution_count": 23,
   "metadata": {
    "pycharm": {
     "name": "#%%\n"
    }
   },
   "outputs": [],
   "source": [
    "# Exercise 1 - part 1 your solution:\n"
   ]
  },
  {
   "cell_type": "code",
   "execution_count": null,
   "metadata": {
    "pycharm": {
     "name": "#%%\n",
     "is_executing": true
    }
   },
   "outputs": [],
   "source": [
    "trainset['is_work_time'] = trainset.apply(lambda row: row['working_day'] == 'YES' and row['month_number'] not in [7,8], axis=1).replace({True: 1, False: 0})\n",
    "\n",
    "trainset.drop(['month_number', 'working_day'], axis=1)"
   ]
  },
  {
   "cell_type": "code",
   "execution_count": null,
   "metadata": {
    "pycharm": {
     "name": "#%%\n"
    }
   },
   "outputs": [],
   "source": [
    "# Exercise 1 - part 2 your solution:\n"
   ]
  },
  {
   "cell_type": "code",
   "execution_count": null,
   "metadata": {
    "pycharm": {
     "name": "#%%\n",
     "is_executing": true
    }
   },
   "outputs": [],
   "source": [
    "trainset['work_day_order'] = trainset['day_of_week'].replace({'Sun': 1,'Mon': 1, 'Tue': 2,'Wed': 2,'Thu': 2,'Fri': 3,'Sat': 3})\n",
    "trainset.drop(['day_of_week'], axis=1)"
   ]
  },
  {
   "cell_type": "code",
   "execution_count": null,
   "metadata": {
    "pycharm": {
     "name": "#%%\n"
    }
   },
   "outputs": [],
   "source": [
    "# Exercise 1 - part 3 your solution:\n"
   ]
  },
  {
   "cell_type": "code",
   "execution_count": null,
   "metadata": {
    "pycharm": {
     "name": "#%%\n",
     "is_executing": true
    }
   },
   "outputs": [],
   "source": [
    "popular_color = pd.get_dummies(trainset['popular_color'],prefix='is_color',drop_first=False)\n",
    "trainset = pd.concat([trainset,popular_color],axis=1).drop('popular_color',axis=1)\n",
    "trainset.head()"
   ]
  },
  {
   "cell_type": "code",
   "execution_count": null,
   "metadata": {
    "pycharm": {
     "name": "#%%\n"
    }
   },
   "outputs": [],
   "source": [
    "# Exercise 1 - part 4 your solution:\n"
   ]
  },
  {
   "cell_type": "code",
   "execution_count": 40,
   "metadata": {
    "pycharm": {
     "name": "#%%\n"
    }
   },
   "outputs": [
    {
     "data": {
      "text/plain": "  outstanding_branch  month_number day_of_week working_day  temperature  \\\n0              Holon             1         Sat          NO     0.344167   \n1         Beer Sheva             1         Sun          NO     0.363478   \n2              Holon             1         Mon         YES     0.196364   \n3         Beer Sheva             1         Tue         YES     0.200000   \n4              Holon             1         Wed         YES     0.226957   \n\n   humidity  number_registered  count_rentals  is_work_time  work_day_order  \\\n0  0.805833                654            985             0               3   \n1  0.696087                670            801             0               1   \n2  0.437273               1229           1349             1               1   \n3  0.590435               1454           1562             1               2   \n4  0.436957               1518           1600             1               2   \n\n   is_color_blue  is_color_gray  is_color_red cnt_descrete  \n0              0              1             0            0  \n1              0              1             0            0  \n2              1              0             0            0  \n3              1              0             0            0  \n4              0              0             1            0  ",
      "text/html": "<div>\n<style scoped>\n    .dataframe tbody tr th:only-of-type {\n        vertical-align: middle;\n    }\n\n    .dataframe tbody tr th {\n        vertical-align: top;\n    }\n\n    .dataframe thead th {\n        text-align: right;\n    }\n</style>\n<table border=\"1\" class=\"dataframe\">\n  <thead>\n    <tr style=\"text-align: right;\">\n      <th></th>\n      <th>outstanding_branch</th>\n      <th>month_number</th>\n      <th>day_of_week</th>\n      <th>working_day</th>\n      <th>temperature</th>\n      <th>humidity</th>\n      <th>number_registered</th>\n      <th>count_rentals</th>\n      <th>is_work_time</th>\n      <th>work_day_order</th>\n      <th>is_color_blue</th>\n      <th>is_color_gray</th>\n      <th>is_color_red</th>\n      <th>cnt_descrete</th>\n    </tr>\n  </thead>\n  <tbody>\n    <tr>\n      <th>0</th>\n      <td>Holon</td>\n      <td>1</td>\n      <td>Sat</td>\n      <td>NO</td>\n      <td>0.344167</td>\n      <td>0.805833</td>\n      <td>654</td>\n      <td>985</td>\n      <td>0</td>\n      <td>3</td>\n      <td>0</td>\n      <td>1</td>\n      <td>0</td>\n      <td>0</td>\n    </tr>\n    <tr>\n      <th>1</th>\n      <td>Beer Sheva</td>\n      <td>1</td>\n      <td>Sun</td>\n      <td>NO</td>\n      <td>0.363478</td>\n      <td>0.696087</td>\n      <td>670</td>\n      <td>801</td>\n      <td>0</td>\n      <td>1</td>\n      <td>0</td>\n      <td>1</td>\n      <td>0</td>\n      <td>0</td>\n    </tr>\n    <tr>\n      <th>2</th>\n      <td>Holon</td>\n      <td>1</td>\n      <td>Mon</td>\n      <td>YES</td>\n      <td>0.196364</td>\n      <td>0.437273</td>\n      <td>1229</td>\n      <td>1349</td>\n      <td>1</td>\n      <td>1</td>\n      <td>1</td>\n      <td>0</td>\n      <td>0</td>\n      <td>0</td>\n    </tr>\n    <tr>\n      <th>3</th>\n      <td>Beer Sheva</td>\n      <td>1</td>\n      <td>Tue</td>\n      <td>YES</td>\n      <td>0.200000</td>\n      <td>0.590435</td>\n      <td>1454</td>\n      <td>1562</td>\n      <td>1</td>\n      <td>2</td>\n      <td>1</td>\n      <td>0</td>\n      <td>0</td>\n      <td>0</td>\n    </tr>\n    <tr>\n      <th>4</th>\n      <td>Holon</td>\n      <td>1</td>\n      <td>Wed</td>\n      <td>YES</td>\n      <td>0.226957</td>\n      <td>0.436957</td>\n      <td>1518</td>\n      <td>1600</td>\n      <td>1</td>\n      <td>2</td>\n      <td>0</td>\n      <td>0</td>\n      <td>1</td>\n      <td>0</td>\n    </tr>\n  </tbody>\n</table>\n</div>"
     },
     "execution_count": 40,
     "metadata": {},
     "output_type": "execute_result"
    }
   ],
   "source": [
    "wind_discrete=pd.qcut(df_binary['wind_speed'], q=4,labels=[0,1,2,3])\n",
    "wind_discrete.name='wind_discrete'\n",
    "trainset = pd.concat([trainset,cnt_descrete],axis=1).drop('wind_speed',axis=1)\n",
    "trainset.head()"
   ]
  },
  {
   "cell_type": "markdown",
   "metadata": {
    "pycharm": {
     "name": "#%% md\n"
    }
   },
   "source": [
    "## Feature Engineering - part 2"
   ]
  },
  {
   "cell_type": "markdown",
   "metadata": {
    "pycharm": {
     "name": "#%% md\n"
    }
   },
   "source": [
    "### Scaling with Scikit Learn"
   ]
  },
  {
   "cell_type": "markdown",
   "metadata": {
    "pycharm": {
     "name": "#%% md\n"
    }
   },
   "source": [
    "We perform standardization with the `sklearn.preprocessing` module's `StandardScaler` (For more information visit:  [StandardScaler documentation](https://scikit-learn.org/stable/modules/generated/sklearn.preprocessing.StandardScaler.html)).\n",
    "\n",
    "The following cells demonstreate a usage example for `StandardScaler`, on our dataset.\n",
    "\n",
    "Let's first reload the information and select some numeric columns: "
   ]
  },
  {
   "cell_type": "code",
   "execution_count": 41,
   "metadata": {
    "ExecuteTime": {
     "end_time": "2022-03-23T12:22:46.531147Z",
     "start_time": "2022-03-23T12:22:46.498146Z"
    },
    "pycharm": {
     "name": "#%%\n"
    }
   },
   "outputs": [
    {
     "data": {
      "text/plain": "     temperature  humidity  wind_speed\n220     0.775000  0.570417    0.151121\n650     0.437500  0.539167    0.235092\n275     0.384167  0.760833    0.083346",
      "text/html": "<div>\n<style scoped>\n    .dataframe tbody tr th:only-of-type {\n        vertical-align: middle;\n    }\n\n    .dataframe tbody tr th {\n        vertical-align: top;\n    }\n\n    .dataframe thead th {\n        text-align: right;\n    }\n</style>\n<table border=\"1\" class=\"dataframe\">\n  <thead>\n    <tr style=\"text-align: right;\">\n      <th></th>\n      <th>temperature</th>\n      <th>humidity</th>\n      <th>wind_speed</th>\n    </tr>\n  </thead>\n  <tbody>\n    <tr>\n      <th>220</th>\n      <td>0.775000</td>\n      <td>0.570417</td>\n      <td>0.151121</td>\n    </tr>\n    <tr>\n      <th>650</th>\n      <td>0.437500</td>\n      <td>0.539167</td>\n      <td>0.235092</td>\n    </tr>\n    <tr>\n      <th>275</th>\n      <td>0.384167</td>\n      <td>0.760833</td>\n      <td>0.083346</td>\n    </tr>\n  </tbody>\n</table>\n</div>"
     },
     "execution_count": 41,
     "metadata": {},
     "output_type": "execute_result"
    }
   ],
   "source": [
    "df = pd.read_csv('./data/bicycle_rental.csv') \n",
    "target_column = 'popular_color'\n",
    "y = df[target_column]\n",
    "X = df[['temperature', 'humidity', 'wind_speed']]\n",
    "\n",
    "X_train, X_test, y_train, y_test = train_test_split(X, y, test_size=0.15, random_state=42, shuffle=True)\n",
    "X_train.head(3)"
   ]
  },
  {
   "cell_type": "code",
   "execution_count": 42,
   "metadata": {
    "ExecuteTime": {
     "end_time": "2022-03-23T12:22:48.807936Z",
     "start_time": "2022-03-23T12:22:48.794937Z"
    },
    "pycharm": {
     "name": "#%%\n"
    }
   },
   "outputs": [
    {
     "data": {
      "text/plain": "     temperature  humidity  wind_speed\n220     1.533369 -0.422406   -0.508436\n650    -0.337099 -0.643327    0.580513\n275    -0.632677  0.923734   -1.387356",
      "text/html": "<div>\n<style scoped>\n    .dataframe tbody tr th:only-of-type {\n        vertical-align: middle;\n    }\n\n    .dataframe tbody tr th {\n        vertical-align: top;\n    }\n\n    .dataframe thead th {\n        text-align: right;\n    }\n</style>\n<table border=\"1\" class=\"dataframe\">\n  <thead>\n    <tr style=\"text-align: right;\">\n      <th></th>\n      <th>temperature</th>\n      <th>humidity</th>\n      <th>wind_speed</th>\n    </tr>\n  </thead>\n  <tbody>\n    <tr>\n      <th>220</th>\n      <td>1.533369</td>\n      <td>-0.422406</td>\n      <td>-0.508436</td>\n    </tr>\n    <tr>\n      <th>650</th>\n      <td>-0.337099</td>\n      <td>-0.643327</td>\n      <td>0.580513</td>\n    </tr>\n    <tr>\n      <th>275</th>\n      <td>-0.632677</td>\n      <td>0.923734</td>\n      <td>-1.387356</td>\n    </tr>\n  </tbody>\n</table>\n</div>"
     },
     "execution_count": 42,
     "metadata": {},
     "output_type": "execute_result"
    }
   ],
   "source": [
    "scaler = preprocessing.StandardScaler()\n",
    "X_train_scaled = scaler.fit_transform(X_train)\n",
    "X_train_scaled = pd.DataFrame(X_train_scaled, columns=X_train.columns, index=X_train.index)\n",
    "X_test_scaled = pd.DataFrame(scaler.transform(X_test), columns=X_test.columns, index=X_test.index)\n",
    "X_train_scaled.head(3)"
   ]
  },
  {
   "cell_type": "markdown",
   "metadata": {
    "pycharm": {
     "name": "#%% md\n"
    }
   },
   "source": [
    "We could visualize the pdf (probability density function change) with `sns.kdeplot`:"
   ]
  },
  {
   "cell_type": "code",
   "execution_count": 43,
   "metadata": {
    "ExecuteTime": {
     "end_time": "2022-03-23T12:22:51.108231Z",
     "start_time": "2022-03-23T12:22:50.762456Z"
    },
    "pycharm": {
     "name": "#%%\n"
    }
   },
   "outputs": [
    {
     "data": {
      "text/plain": "Text(0.5, 1.0, 'Before Scaling')"
     },
     "execution_count": 43,
     "metadata": {},
     "output_type": "execute_result"
    },
    {
     "data": {
      "text/plain": "Text(0.5, 0, 'features')"
     },
     "execution_count": 43,
     "metadata": {},
     "output_type": "execute_result"
    },
    {
     "data": {
      "text/plain": "<AxesSubplot:title={'center':'Before Scaling'}, xlabel='features', ylabel='Density'>"
     },
     "execution_count": 43,
     "metadata": {},
     "output_type": "execute_result"
    },
    {
     "data": {
      "text/plain": "<AxesSubplot:title={'center':'Before Scaling'}, xlabel='features', ylabel='Density'>"
     },
     "execution_count": 43,
     "metadata": {},
     "output_type": "execute_result"
    },
    {
     "data": {
      "text/plain": "<AxesSubplot:title={'center':'Before Scaling'}, xlabel='features', ylabel='Density'>"
     },
     "execution_count": 43,
     "metadata": {},
     "output_type": "execute_result"
    },
    {
     "data": {
      "text/plain": "Text(0.5, 1.0, 'After Standard Scaler')"
     },
     "execution_count": 43,
     "metadata": {},
     "output_type": "execute_result"
    },
    {
     "data": {
      "text/plain": "Text(0.5, 0, 'features')"
     },
     "execution_count": 43,
     "metadata": {},
     "output_type": "execute_result"
    },
    {
     "data": {
      "text/plain": "<AxesSubplot:title={'center':'After Standard Scaler'}, xlabel='features', ylabel='Density'>"
     },
     "execution_count": 43,
     "metadata": {},
     "output_type": "execute_result"
    },
    {
     "data": {
      "text/plain": "<AxesSubplot:title={'center':'After Standard Scaler'}, xlabel='features', ylabel='Density'>"
     },
     "execution_count": 43,
     "metadata": {},
     "output_type": "execute_result"
    },
    {
     "data": {
      "text/plain": "<AxesSubplot:title={'center':'After Standard Scaler'}, xlabel='features', ylabel='Density'>"
     },
     "execution_count": 43,
     "metadata": {},
     "output_type": "execute_result"
    },
    {
     "data": {
      "text/plain": "<Figure size 720x360 with 2 Axes>",
      "image/png": "[encoded data removed]"
     },
     "metadata": {
      "needs_background": "light"
     },
     "output_type": "display_data"
    }
   ],
   "source": [
    "fig, (ax1, ax2) = plt.subplots(ncols=2, figsize=(10, 5))\n",
    "\n",
    "ax1.set_title('Before Scaling')\n",
    "ax1.set_xlabel('features')\n",
    "sns.kdeplot(X_train.iloc[:,0], ax=ax1)\n",
    "sns.kdeplot(X_train.iloc[:,1], ax=ax1)\n",
    "sns.kdeplot(X_train.iloc[:,2], ax=ax1)\n",
    "\n",
    "ax2.set_title('After Standard Scaler')\n",
    "ax2.set_xlabel('features')\n",
    "sns.kdeplot(X_train_scaled.iloc[:,0], ax=ax2)\n",
    "sns.kdeplot(X_train_scaled.iloc[:,1], ax=ax2)\n",
    "sns.kdeplot(X_train_scaled.iloc[:,2], ax=ax2)\n",
    "plt.show()"
   ]
  },
  {
   "cell_type": "markdown",
   "metadata": {
    "pycharm": {
     "name": "#%% md\n"
    }
   },
   "source": [
    "For minmax normalization we could use the `sklearn.preprocessing` `MinMaxScaler` (For more information visit the [MinMaxScaler documentation](https://scikit-learn.org/stable/modules/generated/sklearn.preprocessing.MinMaxScaler.html))\n",
    "\n",
    "The following is a usage example for `MinMaxScaler`, on our dataset:"
   ]
  },
  {
   "cell_type": "code",
   "execution_count": 44,
   "metadata": {
    "ExecuteTime": {
     "end_time": "2022-03-23T12:22:53.472052Z",
     "start_time": "2022-03-23T12:22:53.442047Z"
    },
    "pycharm": {
     "name": "#%%\n"
    }
   },
   "outputs": [
    {
     "data": {
      "text/plain": "     temperature  humidity  wind_speed\n220     0.784017  0.185282   -0.385791\n650    -0.057066  0.120347    0.014861\n275    -0.189977  0.580952   -0.709169",
      "text/html": "<div>\n<style scoped>\n    .dataframe tbody tr th:only-of-type {\n        vertical-align: middle;\n    }\n\n    .dataframe tbody tr th {\n        vertical-align: top;\n    }\n\n    .dataframe thead th {\n        text-align: right;\n    }\n</style>\n<table border=\"1\" class=\"dataframe\">\n  <thead>\n    <tr style=\"text-align: right;\">\n      <th></th>\n      <th>temperature</th>\n      <th>humidity</th>\n      <th>wind_speed</th>\n    </tr>\n  </thead>\n  <tbody>\n    <tr>\n      <th>220</th>\n      <td>0.784017</td>\n      <td>0.185282</td>\n      <td>-0.385791</td>\n    </tr>\n    <tr>\n      <th>650</th>\n      <td>-0.057066</td>\n      <td>0.120347</td>\n      <td>0.014861</td>\n    </tr>\n    <tr>\n      <th>275</th>\n      <td>-0.189977</td>\n      <td>0.580952</td>\n      <td>-0.709169</td>\n    </tr>\n  </tbody>\n</table>\n</div>"
     },
     "execution_count": 44,
     "metadata": {},
     "output_type": "execute_result"
    }
   ],
   "source": [
    "minmax_scaler = preprocessing.MinMaxScaler(feature_range=(-1, 1))\n",
    "X_train_minmax = pd.DataFrame(minmax_scaler.fit_transform(X_train), columns=X_train.columns, index=X_train.index)\n",
    "X_test_minmax = pd.DataFrame(minmax_scaler.transform(X_test), columns=X_test.columns, index=X_test.index)\n",
    "X_train_minmax.head(3)"
   ]
  },
  {
   "cell_type": "code",
   "execution_count": 45,
   "metadata": {
    "ExecuteTime": {
     "end_time": "2022-03-23T12:22:55.529222Z",
     "start_time": "2022-03-23T12:22:55.181202Z"
    },
    "pycharm": {
     "name": "#%%\n"
    }
   },
   "outputs": [
    {
     "data": {
      "text/plain": "Text(0.5, 1.0, 'Before Scaling')"
     },
     "execution_count": 45,
     "metadata": {},
     "output_type": "execute_result"
    },
    {
     "data": {
      "text/plain": "Text(0.5, 0, 'features')"
     },
     "execution_count": 45,
     "metadata": {},
     "output_type": "execute_result"
    },
    {
     "data": {
      "text/plain": "<AxesSubplot:title={'center':'Before Scaling'}, xlabel='features', ylabel='Density'>"
     },
     "execution_count": 45,
     "metadata": {},
     "output_type": "execute_result"
    },
    {
     "data": {
      "text/plain": "<AxesSubplot:title={'center':'Before Scaling'}, xlabel='features', ylabel='Density'>"
     },
     "execution_count": 45,
     "metadata": {},
     "output_type": "execute_result"
    },
    {
     "data": {
      "text/plain": "<AxesSubplot:title={'center':'Before Scaling'}, xlabel='features', ylabel='Density'>"
     },
     "execution_count": 45,
     "metadata": {},
     "output_type": "execute_result"
    },
    {
     "data": {
      "text/plain": "Text(0.5, 1.0, 'After Min-Max[-1,1] Scaler')"
     },
     "execution_count": 45,
     "metadata": {},
     "output_type": "execute_result"
    },
    {
     "data": {
      "text/plain": "Text(0.5, 0, 'features')"
     },
     "execution_count": 45,
     "metadata": {},
     "output_type": "execute_result"
    },
    {
     "data": {
      "text/plain": "<AxesSubplot:title={'center':'After Min-Max[-1,1] Scaler'}, xlabel='features', ylabel='Density'>"
     },
     "execution_count": 45,
     "metadata": {},
     "output_type": "execute_result"
    },
    {
     "data": {
      "text/plain": "<AxesSubplot:title={'center':'After Min-Max[-1,1] Scaler'}, xlabel='features', ylabel='Density'>"
     },
     "execution_count": 45,
     "metadata": {},
     "output_type": "execute_result"
    },
    {
     "data": {
      "text/plain": "<AxesSubplot:title={'center':'After Min-Max[-1,1] Scaler'}, xlabel='features', ylabel='Density'>"
     },
     "execution_count": 45,
     "metadata": {},
     "output_type": "execute_result"
    },
    {
     "data": {
      "text/plain": "<Figure size 576x288 with 2 Axes>",
      "image/png": "[encoded data removed]"
     },
     "metadata": {
      "needs_background": "light"
     },
     "output_type": "display_data"
    }
   ],
   "source": [
    "fig, (ax1, ax2) = plt.subplots(ncols=2, figsize=(8, 4))\n",
    "\n",
    "ax1.set_title('Before Scaling')\n",
    "ax1.set_xlabel('features')\n",
    "sns.kdeplot(X_train.iloc[:,0], ax=ax1)\n",
    "sns.kdeplot(X_train.iloc[:,1], ax=ax1)\n",
    "sns.kdeplot(X_train.iloc[:,2], ax=ax1)\n",
    "\n",
    "ax2.set_title('After Min-Max[-1,1] Scaler')\n",
    "ax2.set_xlabel('features')\n",
    "sns.kdeplot(X_train_minmax.iloc[:,0], ax=ax2)\n",
    "sns.kdeplot(X_train_minmax.iloc[:,1], ax=ax2)\n",
    "sns.kdeplot(X_train_minmax.iloc[:,2], ax=ax2)\n",
    "plt.show()"
   ]
  },
  {
   "cell_type": "markdown",
   "metadata": {
    "pycharm": {
     "name": "#%% md\n"
    }
   },
   "source": [
    "### Detect correlated features"
   ]
  },
  {
   "cell_type": "markdown",
   "metadata": {
    "pycharm": {
     "name": "#%% md\n"
    }
   },
   "source": [
    "The Pearson correlation coefficient is given as a build in 'corr' dataframe (for more information visit the [pandas dataframe corr documentation](https://pandas.pydata.org/docs/reference/api/pandas.DataFrame.corr.html)).<br/>"
   ]
  },
  {
   "cell_type": "code",
   "execution_count": 46,
   "metadata": {
    "ExecuteTime": {
     "end_time": "2022-03-23T07:38:05.376124Z",
     "start_time": "2022-03-23T07:38:05.345131Z"
    },
    "pycharm": {
     "name": "#%%\n"
    }
   },
   "outputs": [
    {
     "data": {
      "text/plain": "                   month_number  temperature  humidity  wind_speed  \\\nmonth_number           1.000000     0.220205  0.222204   -0.207502   \ntemperature            0.220205     1.000000  0.126963   -0.157944   \nhumidity               0.222204     0.126963  1.000000   -0.248489   \nwind_speed            -0.207502    -0.157944 -0.248489    1.000000   \nnumber_registered      0.293488     0.540012 -0.091089   -0.217449   \ncount_rentals          0.279977     0.627494 -0.100659   -0.234545   \n\n                   number_registered  count_rentals  \nmonth_number                0.293488       0.279977  \ntemperature                 0.540012       0.627494  \nhumidity                   -0.091089      -0.100659  \nwind_speed                 -0.217449      -0.234545  \nnumber_registered           1.000000       0.945517  \ncount_rentals               0.945517       1.000000  ",
      "text/html": "<div>\n<style scoped>\n    .dataframe tbody tr th:only-of-type {\n        vertical-align: middle;\n    }\n\n    .dataframe tbody tr th {\n        vertical-align: top;\n    }\n\n    .dataframe thead th {\n        text-align: right;\n    }\n</style>\n<table border=\"1\" class=\"dataframe\">\n  <thead>\n    <tr style=\"text-align: right;\">\n      <th></th>\n      <th>month_number</th>\n      <th>temperature</th>\n      <th>humidity</th>\n      <th>wind_speed</th>\n      <th>number_registered</th>\n      <th>count_rentals</th>\n    </tr>\n  </thead>\n  <tbody>\n    <tr>\n      <th>month_number</th>\n      <td>1.000000</td>\n      <td>0.220205</td>\n      <td>0.222204</td>\n      <td>-0.207502</td>\n      <td>0.293488</td>\n      <td>0.279977</td>\n    </tr>\n    <tr>\n      <th>temperature</th>\n      <td>0.220205</td>\n      <td>1.000000</td>\n      <td>0.126963</td>\n      <td>-0.157944</td>\n      <td>0.540012</td>\n      <td>0.627494</td>\n    </tr>\n    <tr>\n      <th>humidity</th>\n      <td>0.222204</td>\n      <td>0.126963</td>\n      <td>1.000000</td>\n      <td>-0.248489</td>\n      <td>-0.091089</td>\n      <td>-0.100659</td>\n    </tr>\n    <tr>\n      <th>wind_speed</th>\n      <td>-0.207502</td>\n      <td>-0.157944</td>\n      <td>-0.248489</td>\n      <td>1.000000</td>\n      <td>-0.217449</td>\n      <td>-0.234545</td>\n    </tr>\n    <tr>\n      <th>number_registered</th>\n      <td>0.293488</td>\n      <td>0.540012</td>\n      <td>-0.091089</td>\n      <td>-0.217449</td>\n      <td>1.000000</td>\n      <td>0.945517</td>\n    </tr>\n    <tr>\n      <th>count_rentals</th>\n      <td>0.279977</td>\n      <td>0.627494</td>\n      <td>-0.100659</td>\n      <td>-0.234545</td>\n      <td>0.945517</td>\n      <td>1.000000</td>\n    </tr>\n  </tbody>\n</table>\n</div>"
     },
     "execution_count": 46,
     "metadata": {},
     "output_type": "execute_result"
    }
   ],
   "source": [
    "trainset = pd.read_csv('./data/bicycle_rental.csv') \n",
    "df_numeric = trainset.select_dtypes(include=np.number)\n",
    "df_numeric.corr()"
   ]
  },
  {
   "cell_type": "markdown",
   "metadata": {
    "pycharm": {
     "name": "#%% md\n"
    }
   },
   "source": [
    "We could also use a visualization, with **the `sns` `heatmap` function**:"
   ]
  },
  {
   "cell_type": "code",
   "execution_count": 47,
   "metadata": {
    "ExecuteTime": {
     "end_time": "2022-03-23T07:38:07.327763Z",
     "start_time": "2022-03-23T07:38:07.093762Z"
    },
    "pycharm": {
     "name": "#%%\n"
    }
   },
   "outputs": [
    {
     "data": {
      "text/plain": "<Figure size 360x360 with 0 Axes>"
     },
     "execution_count": 47,
     "metadata": {},
     "output_type": "execute_result"
    },
    {
     "data": {
      "text/plain": "<AxesSubplot:>"
     },
     "execution_count": 47,
     "metadata": {},
     "output_type": "execute_result"
    },
    {
     "data": {
      "text/plain": "Text(0.5, 1.0, 'Pearson Correlation')"
     },
     "execution_count": 47,
     "metadata": {},
     "output_type": "execute_result"
    },
    {
     "data": {
      "text/plain": "<Figure size 360x360 with 2 Axes>",
      "image/png": "[encoded data removed]"
     },
     "metadata": {
      "needs_background": "light"
     },
     "output_type": "display_data"
    }
   ],
   "source": [
    "df_numeric = trainset._get_numeric_data()\n",
    "\n",
    "mask = np.zeros_like(df_numeric.corr(),dtype=np.bool)\n",
    "mask[np.triu_indices_from(mask)] = True\n",
    "cmap = sns.diverging_palette(10,150,as_cmap=True)\n",
    "\n",
    "plt.figure(figsize=(5, 5))\n",
    "sns.heatmap(df_numeric.corr(), cmap=cmap, annot=True, mask=mask, square=True, center=0)\n",
    "plt.title('Pearson Correlation',size=20)\n",
    "plt.show()"
   ]
  },
  {
   "cell_type": "markdown",
   "metadata": {
    "pycharm": {
     "name": "#%% md\n"
    }
   },
   "source": [
    "If we decide to remove features with **correlation > 0.8**, we need to **remove either 'number_registered' or 'count_rentals'**"
   ]
  },
  {
   "cell_type": "markdown",
   "metadata": {
    "pycharm": {
     "name": "#%% md\n"
    }
   },
   "source": [
    "### Dimensionality reduction"
   ]
  },
  {
   "cell_type": "markdown",
   "metadata": {
    "pycharm": {
     "name": "#%% md\n"
    }
   },
   "source": [
    "We could perform dimensionality reduction, instead or in addition to feature selection.<br/>\n",
    "\n",
    "We will do this using the `sklearn.decomposition`'s `PCA` method (for more information visit the [sickit learn's PCA documentation](https://scikit-learn.org/stable/modules/generated/sklearn.decomposition.PCA.html)).<br/>\n",
    "\n",
    "We could decide about the number of principal components, using the `n_components` parameter:"
   ]
  },
  {
   "cell_type": "code",
   "execution_count": 48,
   "metadata": {
    "ExecuteTime": {
     "end_time": "2022-03-23T07:39:04.542470Z",
     "start_time": "2022-03-23T07:39:04.523504Z"
    },
    "pycharm": {
     "name": "#%%\n"
    }
   },
   "outputs": [
    {
     "data": {
      "text/plain": "array([6026503.43445468,  160685.777545  ])"
     },
     "execution_count": 48,
     "metadata": {},
     "output_type": "execute_result"
    },
    {
     "data": {
      "text/plain": "array([0.97402756, 0.02597068])"
     },
     "execution_count": 48,
     "metadata": {},
     "output_type": "execute_result"
    }
   ],
   "source": [
    "pca = PCA(n_components=2)\n",
    "reduced_data = pca.fit_transform(df_numeric)\n",
    "\n",
    "pca.explained_variance_\n",
    "pca.explained_variance_ratio_"
   ]
  },
  {
   "cell_type": "markdown",
   "metadata": {
    "pycharm": {
     "name": "#%% md\n"
    }
   },
   "source": [
    "Setting the parameter of the number of components to be less than one, set's the minimum number of components for a >= information of the given value:"
   ]
  },
  {
   "cell_type": "code",
   "execution_count": 49,
   "metadata": {
    "ExecuteTime": {
     "end_time": "2022-03-23T07:40:15.365926Z",
     "start_time": "2022-03-23T07:40:15.330926Z"
    },
    "pycharm": {
     "name": "#%%\n"
    }
   },
   "outputs": [
    {
     "data": {
      "text/plain": "1"
     },
     "execution_count": 49,
     "metadata": {},
     "output_type": "execute_result"
    },
    {
     "data": {
      "text/plain": "            x1\n0  4623.184922\n1  4757.211977\n2  3980.347547",
      "text/html": "<div>\n<style scoped>\n    .dataframe tbody tr th:only-of-type {\n        vertical-align: middle;\n    }\n\n    .dataframe tbody tr th {\n        vertical-align: top;\n    }\n\n    .dataframe thead th {\n        text-align: right;\n    }\n</style>\n<table border=\"1\" class=\"dataframe\">\n  <thead>\n    <tr style=\"text-align: right;\">\n      <th></th>\n      <th>x1</th>\n    </tr>\n  </thead>\n  <tbody>\n    <tr>\n      <th>0</th>\n      <td>4623.184922</td>\n    </tr>\n    <tr>\n      <th>1</th>\n      <td>4757.211977</td>\n    </tr>\n    <tr>\n      <th>2</th>\n      <td>3980.347547</td>\n    </tr>\n  </tbody>\n</table>\n</div>"
     },
     "execution_count": 49,
     "metadata": {},
     "output_type": "execute_result"
    },
    {
     "data": {
      "text/plain": "array([6026503.43445467])"
     },
     "execution_count": 49,
     "metadata": {},
     "output_type": "execute_result"
    },
    {
     "data": {
      "text/plain": "array([0.97402756])"
     },
     "execution_count": 49,
     "metadata": {},
     "output_type": "execute_result"
    },
    {
     "data": {
      "text/plain": "array([[-4.06410714e-04, -4.48271696e-05,  5.69757649e-06,\n         7.28865727e-06, -6.22592181e-01, -7.82546362e-01]])"
     },
     "execution_count": 49,
     "metadata": {},
     "output_type": "execute_result"
    }
   ],
   "source": [
    "pca = PCA(0.9)\n",
    "reduced_data = pd.DataFrame(pca.fit_transform(df_numeric),columns=['x1'],index=df_numeric.index)\n",
    "reduced_data.shape[1]\n",
    "reduced_data.head(3)\n",
    "pca.explained_variance_\n",
    "pca.explained_variance_ratio_\n",
    "pca.components_"
   ]
  },
  {
   "cell_type": "markdown",
   "metadata": {
    "pycharm": {
     "name": "#%% md\n"
    }
   },
   "source": [
    "### Exercise 2 - Feature Engineering (part 2)"
   ]
  },
  {
   "cell_type": "markdown",
   "metadata": {
    "pycharm": {
     "name": "#%% md\n"
    }
   },
   "source": [
    "In this exercise, you will work on the iris dataset.\n",
    "1. fit minmax scaler, between [0,1]  \n",
    "  * fit and apply on train set\n",
    "  * apply on test set\n",
    "2. Detect correlated features on the scaled train set.\n",
    "   * Display the correlation\n",
    "   * assuming correlated values have a correlation of > 0.9, are there any correlations, neede to be filtered?\n",
    "3. Perform dimensionality reduction, using PCA\n",
    "   * Use components covering at least 0.9 of the information\n",
    "   * how many components were used?"
   ]
  },
  {
   "cell_type": "code",
   "execution_count": null,
   "metadata": {
    "pycharm": {
     "name": "#%%\n"
    }
   },
   "outputs": [],
   "source": [
    "# import the iris dataset\n",
    "iris_dataset =datasets.load_iris()\n",
    "X = pd.DataFrame(iris_dataset.data, columns=iris_dataset.feature_names)\n",
    "y = pd.Series(iris_dataset.target)\n",
    "y.name = 'target'\n",
    "X_train, X_test, y_train, y_test = train_test_split(X, y, random_state=42, test_size=0.2)\n",
    "X_train.head(3)\n",
    "y_train.head(3)"
   ]
  },
  {
   "cell_type": "code",
   "execution_count": null,
   "metadata": {
    "pycharm": {
     "name": "#%%\n"
    }
   },
   "outputs": [],
   "source": [
    "# Exercise 2, part 1, your solution:\n"
   ]
  },
  {
   "cell_type": "code",
   "execution_count": 50,
   "metadata": {
    "pycharm": {
     "name": "#%%\n"
    }
   },
   "outputs": [
    {
     "data": {
      "text/plain": "     temperature  humidity  wind_speed\n220     0.892009  0.592641    0.307104\n650     0.471467  0.560174    0.507430\n275     0.405012  0.790476    0.145416",
      "text/html": "<div>\n<style scoped>\n    .dataframe tbody tr th:only-of-type {\n        vertical-align: middle;\n    }\n\n    .dataframe tbody tr th {\n        vertical-align: top;\n    }\n\n    .dataframe thead th {\n        text-align: right;\n    }\n</style>\n<table border=\"1\" class=\"dataframe\">\n  <thead>\n    <tr style=\"text-align: right;\">\n      <th></th>\n      <th>temperature</th>\n      <th>humidity</th>\n      <th>wind_speed</th>\n    </tr>\n  </thead>\n  <tbody>\n    <tr>\n      <th>220</th>\n      <td>0.892009</td>\n      <td>0.592641</td>\n      <td>0.307104</td>\n    </tr>\n    <tr>\n      <th>650</th>\n      <td>0.471467</td>\n      <td>0.560174</td>\n      <td>0.507430</td>\n    </tr>\n    <tr>\n      <th>275</th>\n      <td>0.405012</td>\n      <td>0.790476</td>\n      <td>0.145416</td>\n    </tr>\n  </tbody>\n</table>\n</div>"
     },
     "execution_count": 50,
     "metadata": {},
     "output_type": "execute_result"
    }
   ],
   "source": [
    "minmax_scaler = preprocessing.MinMaxScaler(feature_range=(0, 1))\n",
    "X_train_minmax = pd.DataFrame(minmax_scaler.fit_transform(X_train), columns=X_train.columns, index=X_train.index)\n",
    "X_test_minmax = pd.DataFrame(minmax_scaler.transform(X_test), columns=X_test.columns, index=X_test.index)\n",
    "X_train_minmax.head(3)"
   ]
  },
  {
   "cell_type": "code",
   "execution_count": null,
   "metadata": {
    "pycharm": {
     "name": "#%%\n"
    }
   },
   "outputs": [],
   "source": [
    "# Exercise 2, part 2, your solution:\n"
   ]
  },
  {
   "cell_type": "code",
   "execution_count": 51,
   "metadata": {
    "pycharm": {
     "name": "#%%\n"
    }
   },
   "outputs": [
    {
     "data": {
      "text/plain": "<Figure size 360x360 with 0 Axes>"
     },
     "execution_count": 51,
     "metadata": {},
     "output_type": "execute_result"
    },
    {
     "data": {
      "text/plain": "<AxesSubplot:>"
     },
     "execution_count": 51,
     "metadata": {},
     "output_type": "execute_result"
    },
    {
     "data": {
      "text/plain": "Text(0.5, 1.0, 'Pearson Correlation')"
     },
     "execution_count": 51,
     "metadata": {},
     "output_type": "execute_result"
    },
    {
     "data": {
      "text/plain": "<Figure size 360x360 with 2 Axes>",
      "image/png": "[encoded data removed]"
     },
     "metadata": {
      "needs_background": "light"
     },
     "output_type": "display_data"
    }
   ],
   "source": [
    "df_numeric = trainset._get_numeric_data()\n",
    "\n",
    "mask = np.zeros_like(df_numeric.corr(),dtype=np.bool)\n",
    "mask[np.triu_indices_from(mask)] = True\n",
    "cmap = sns.diverging_palette(10,150,as_cmap=True)\n",
    "\n",
    "plt.figure(figsize=(5, 5))\n",
    "sns.heatmap(df_numeric.corr(), cmap=cmap, annot=True, mask=mask, square=True, center=0)\n",
    "plt.title('Pearson Correlation',size=20)\n",
    "plt.show()"
   ]
  },
  {
   "cell_type": "code",
   "execution_count": null,
   "metadata": {
    "pycharm": {
     "name": "#%%\n"
    }
   },
   "outputs": [],
   "source": [
    "# Exercise 2, part 3, your solution:\n"
   ]
  },
  {
   "cell_type": "code",
   "execution_count": 52,
   "metadata": {
    "pycharm": {
     "name": "#%%\n"
    }
   },
   "outputs": [
    {
     "data": {
      "text/plain": "1"
     },
     "execution_count": 52,
     "metadata": {},
     "output_type": "execute_result"
    },
    {
     "data": {
      "text/plain": "            x1\n0  4623.184922\n1  4757.211977\n2  3980.347547",
      "text/html": "<div>\n<style scoped>\n    .dataframe tbody tr th:only-of-type {\n        vertical-align: middle;\n    }\n\n    .dataframe tbody tr th {\n        vertical-align: top;\n    }\n\n    .dataframe thead th {\n        text-align: right;\n    }\n</style>\n<table border=\"1\" class=\"dataframe\">\n  <thead>\n    <tr style=\"text-align: right;\">\n      <th></th>\n      <th>x1</th>\n    </tr>\n  </thead>\n  <tbody>\n    <tr>\n      <th>0</th>\n      <td>4623.184922</td>\n    </tr>\n    <tr>\n      <th>1</th>\n      <td>4757.211977</td>\n    </tr>\n    <tr>\n      <th>2</th>\n      <td>3980.347547</td>\n    </tr>\n  </tbody>\n</table>\n</div>"
     },
     "execution_count": 52,
     "metadata": {},
     "output_type": "execute_result"
    },
    {
     "data": {
      "text/plain": "array([6026503.43445467])"
     },
     "execution_count": 52,
     "metadata": {},
     "output_type": "execute_result"
    },
    {
     "data": {
      "text/plain": "array([0.97402756])"
     },
     "execution_count": 52,
     "metadata": {},
     "output_type": "execute_result"
    },
    {
     "data": {
      "text/plain": "array([[-4.06410714e-04, -4.48271696e-05,  5.69757649e-06,\n         7.28865727e-06, -6.22592181e-01, -7.82546362e-01]])"
     },
     "execution_count": 52,
     "metadata": {},
     "output_type": "execute_result"
    }
   ],
   "source": [
    "pca = PCA(0.9)\n",
    "reduced_data = pd.DataFrame(pca.fit_transform(df_numeric),columns=['x1'],index=df_numeric.index)\n",
    "reduced_data.shape[1]\n",
    "reduced_data.head(3)\n",
    "pca.explained_variance_\n",
    "pca.explained_variance_ratio_\n",
    "pca.components_"
   ]
  },
  {
   "cell_type": "code",
   "execution_count": 53,
   "metadata": {
    "scrolled": true,
    "pycharm": {
     "name": "#%%\n"
    }
   },
   "outputs": [
    {
     "data": {
      "text/plain": "              x1\n0    4623.184922\n1    4757.211977\n2    3980.347547\n3    3673.581932\n4    3603.999268\n..           ...\n726  2984.481298\n727  1853.209481\n728  4015.865279\n729  3504.158638\n730  2239.858792\n\n[731 rows x 1 columns]",
      "text/html": "<div>\n<style scoped>\n    .dataframe tbody tr th:only-of-type {\n        vertical-align: middle;\n    }\n\n    .dataframe tbody tr th {\n        vertical-align: top;\n    }\n\n    .dataframe thead th {\n        text-align: right;\n    }\n</style>\n<table border=\"1\" class=\"dataframe\">\n  <thead>\n    <tr style=\"text-align: right;\">\n      <th></th>\n      <th>x1</th>\n    </tr>\n  </thead>\n  <tbody>\n    <tr>\n      <th>0</th>\n      <td>4623.184922</td>\n    </tr>\n    <tr>\n      <th>1</th>\n      <td>4757.211977</td>\n    </tr>\n    <tr>\n      <th>2</th>\n      <td>3980.347547</td>\n    </tr>\n    <tr>\n      <th>3</th>\n      <td>3673.581932</td>\n    </tr>\n    <tr>\n      <th>4</th>\n      <td>3603.999268</td>\n    </tr>\n    <tr>\n      <th>...</th>\n      <td>...</td>\n    </tr>\n    <tr>\n      <th>726</th>\n      <td>2984.481298</td>\n    </tr>\n    <tr>\n      <th>727</th>\n      <td>1853.209481</td>\n    </tr>\n    <tr>\n      <th>728</th>\n      <td>4015.865279</td>\n    </tr>\n    <tr>\n      <th>729</th>\n      <td>3504.158638</td>\n    </tr>\n    <tr>\n      <th>730</th>\n      <td>2239.858792</td>\n    </tr>\n  </tbody>\n</table>\n<p>731 rows × 1 columns</p>\n</div>"
     },
     "execution_count": 53,
     "metadata": {},
     "output_type": "execute_result"
    }
   ],
   "source": [
    "reduced_data"
   ]
  }
 ],
 "metadata": {
  "kernelspec": {
   "display_name": "Python 3",
   "language": "python",
   "name": "python3"
  },
  "language_info": {
   "codemirror_mode": {
    "name": "ipython",
    "version": 3
   },
   "file_extension": ".py",
   "mimetype": "text/x-python",
   "name": "python",
   "nbconvert_exporter": "python",
   "pygments_lexer": "ipython3",
   "version": "3.7.3"
  }
 },
 "nbformat": 4,
 "nbformat_minor": 4
}