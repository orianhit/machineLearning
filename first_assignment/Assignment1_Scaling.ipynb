{
 "cells": [
  {
   "cell_type": "markdown",
   "metadata": {
    "deletable": false,
    "editable": false,
    "nbgrader": {
     "cell_type": "markdown",
     "checksum": "97eed6338e9befd5de3298a2ad9f4676",
     "grade": false,
     "grade_id": "cell-101fa27ed6468682",
     "locked": true,
     "schema_version": 3,
     "solution": false,
     "task": false
    },
    "pycharm": {
     "name": "#%% md\n"
    }
   },
   "source": [
    "# Assignment 1 - Scaling\n",
    "\n",
    "Motivation - Iris flowers:\n",
    "![image.png](data:image/jpeg;base64,/9j/4AAQSkZJRgABAQAAAQABAAD/2wCEAAoGBxMUExYUFBQWFxYYGBkZGRkZGBwcHBwgHB0ZHB8fIiEZICoiGRwnHxgcIzQjJysuMTExGSE2OzYwOiowMS4BCwsLDw4PHRERHTUnISgyMDAwODAyMDAwMDgwMDAwMjAwMDAwMDAyMC4wMDAwMDAwMDAwMDMwMDAwMDAwMDAwMP/AABEIAHsBmQMBIgACEQEDEQH/xAAbAAADAQEBAQEAAAAAAAAAAAAEBQYDBwIBAP/EAEMQAAIBAgQDBgIIBAQFBAMAAAECEQADBBIhMQVBUQYTImFxgZGhBxQyQlKxwdEjYnLwM4LC4RVDkrLxFiQ0olNjc//EABoBAAIDAQEAAAAAAAAAAAAAAAMEAQIFAAb/xAAvEQACAgEEAQIFAwMFAAAAAAABAgARAwQSITFBE1EFIjJhcZGhscHh8RRCgdHw/9oADAMBAAIRAxEAPwCX7F8c7q59Wuf4Tkm2T9xjJj+kn4H1q8iK5CW70KR9oHUVd9iePm8ps3D/ABEnKx/5ij/WOflr1pPIp7/WBdD3M+3PAjctm/aWbiqA4/Eg5+q6+o9BUI1lgsKBryMGuxjSoDtnwwYdw6J/CuHSPuHmvlvI8vSuRz1ORz1EHDeFOfEIX9KoMNZZjlJN1iCMqrOkawBr8KSNdbUCQIkee370FmZWzZmBBkMCZB5eYPmKkqXPMsQW7lEcRaBCKCjE5QApOo5HSV969Yuz3S5oLOdAAdNaKwHEhjVNu6wXEovhuiJcDmepH3hzGo50p4Jgb4xBTKykE94DqpAG8nQzpHrVBjZztA59vf8AtKlOeIDxbEOHyRsok76nWhFxB3n2qn4/2bdm7xSqnSdcynp5qfXTzFKhwYqdUYsN9CKOV2AKwoy3CijBuF4t7N0Omo2ZTqCDuD1FUeKQFUvWiQAZXqpG6N6cjzFK14TeIhERP62A+Qn517wdvEYdyL1lns3NHyDMI5MCuzA6z5V2XS5Cu8qRObG1XUaAqw71AAr7gfdcaMP1pTwjEE3Lo5GdPMaflTjCYfu7j2yZt3QGttyPQ+o2IpME7q8RoDmMg7+3lSq+YKe+E4qLr2j1kf36V77U8NFrCqw3u3y0eQQj8yT70OMOTfVV+0zCPf8ATc1QdvrYFq1+FH0/6D+v5UQPREsDRES9msUyv3c+HKB/mG37VQYtQ6TzH9/71EYq41tFgwzeI/pVVw3FlkViIzqDHr+kzVci1zIYeYNgOImwzDdWBEn7pOk01VhbtydgCx9qUcSsayNqExXFyLBtH7cgT1Xl70PZu6lauLsRelyzbkkn1pljwbWDRTvefvI/lAgflSnC2GcwN6N4p3lzKoR2WygUkKSB6xtTIXkAQlc1GvDrzDh5RBL3HKgDcjnHtUzctkbggeYqo7AEPftLEwHB8pgg10PtDwPDnL4VAcMCOWaCfnqfUGtDBoVKg2bazDpiFXIb6NRIveqfk1WbDUUi7N8IGGuXkBlT3bjyH8QR57V5w3bC07Kvd3Y1zOFzKh10Ma6dY5isrUYXGUrXI9oq6ncRBPpLtf8Atgejr+3+qua11L6QirYFyCCAybEH74HKudcCsZ79tTtmBPtRsB24yT4uFQ0sPu4Luxat/eIzt77D4Cs8dal1Qbx+dN3sM91rxEKzEJ6DSfTSsOGWO8xQ/qUUPfxuMoD5nSMPZFuyiD7qgfKp9LIuYhrx1CTbt+v33/0/9VUXEG0IGmnw86VWkGgGw0Ht/cn3rM0vFuYO57VJB5CD8P3NTNotG9UPFMTltsF3gx8N/T++VR+M4mqiF1NaOMEi4fB0YFxq4ZAmaM4XilYQdDSa9cLmTR/BcIjasdaK4AXmFfhY8UgcxX4XwZETWNy0gG9DIVZtGoAi6i5vcRRrpNCYjEQD8Kzv3TmIHKvDW81WxqAbMuoANmZLbnWvjivV26VERQ6ljrTAjAqaWt9a93sRyrPDrrRNnB52gDWuNeZBjLsziVuI9httx6f+aW43ANbdrTzodJ09DT7gHBDbvJcJACyx9gYHximXGMIMSP8A94jIfxbyD68vOr4NIzq2RDx7feQi3bCJcDZjD5V3Ej3YxTlCmGw+Ub5QNvvHU/pQvCsM6ErcQiCDB8p+NC8evl2C8iay8qHftb3swJ7qZ4cEyxM6z7/7Ut4zjijKBvrNOAkLA5Dl5b1PcUUHxGYPMD96Np+WLeOhJxiyTMWxJavuU9D8K94PDkiQI+Z+P7Vt9WNM71HELYi+xkBlXIJ6iR8q3wbvbh7TZmVgVynn1rFEUZgBBUhvTkfUa0bwjFdyxyqA7fZkeE9fert1OAM6RwHiTX7Ku6ZLg0deU/iH8p+W1EcQwKX7TWbg8LDfSQRqrDzB1+PWufYXtfiFurltpM67xHOY5V0DhfELeIti7aPhOhB3U8wf786WKlTcXddpsSKvdlig7t2MjSR0JnTyr5a4Eh3k+p39etWPHsG123NskOvSPEOY16bj3qUxHCsQZ7vEI3qMpGvUiDVseHNlvbzUkBm6n6xgVtEMuVSDM0xu3iyd+glCShgSQQAQD65jHp51K8Ww+Kw4HfmQ0hSGBUkbiRsR0NNOwnHhbuNaueK1eGVgT4QwBKn0J02O4PKmdIrYM4bIL8frL47R7MKGODAg7ECvOMuZgWhgpOUEzl01yjlOkkVW2Oz+GZGa1YDmV0zGR1EAwDt15jzPzDYdMQipdVQLBcJbiAZOpmQJ016mDoAZ9CcyfVt67vuOF17qQ9zn8h7014Wz7zC6wSY+HMisu0VvD4bKVzXGeSq6FQARJLDV55QAOeulL++a94Uu/wAUDW2SBPMZCOcfdOtD1PxDCi12ZGTUIBQj7HY6wSLLsA3UfcJ2P8s9KR9peHyVu7OhCP8A6W9D19KT2M2cljqN+s+dUnCMYt1DbuHxBSA34lHI+YOory+VgchdRVzOY82Jh2fszeN8icqhR/UdD8B+dE9sHVxZsz4s5dvQAj8zReCw4RQo2WSfM0ju4rO926SIA8PWBp+Zn3pdHLPY8Sv3k/i7DX8T3dsSSQg8gNz6VfcX4YLeHt5d7Kqpj8Pn7ig/o64HlRsVcHieck8gefvVng7dm5ZvhgZ7y0jabgS3wnSmHO9tg8CEHzNt9pAFwyz/AHNT/FbUGaNs4o5yjAqTqFM+2/Iiv3ErOZM1SoIMqBRjjs1wu2lgXn1JBaPLl8qRLxS5bIuWnZJJ+yxGzEgaHoa8YbiziwbOaADp6Hl6VnZCm2y/fUhx6Hwt8PCab0S1mN+YXF9VGX/AcAj3LeJsItsv4byggo5/EF0NlhqTEqYO01vx/El7GdXJXNmQ/wBLFZHqNal+x2Nb/C1/iGJmIkNy+H9mq3GYPNgLBUf8s8uYJB+YrawMFfYD943jPzbZpj7Rt2cLftDxXnSywOoJIZlOuoGj+0bUathbarbyroIgryMgmNh6AUR2aAuYC0x3tXM3/wBXTTz8c164qp0n7S5gfbb1kzVMKKcrMRyTOVAWM5h9IKd1cuqj/wAO8EcKv2QJXQjbMHDe3rU1wi93bF+eUgep0qq+lC2FNlZBItGY/rA/NWqTwVuYHUgVnawDewi+SrIlpmlLf8tpR+p/Oh+xdnNiA38xPwmtroy2j6R+lFdhrPjLHYKTWS/GJgPaLeJR8RczHXU+n9/lQly6EWT/AHPL1/KvuKxSrmuuYABJJ2AH6D51PYPiLX810yFJIQdFHM/zMdT7DlQMGGx9hIri4diPGGnmp9oH5VBINNd66Fg7Mq0/hI+RJqAaya0EPiGweZ5WvOcqdK0W1FfrtuiXGLuey5I1Jrbh6nU8qHQaUzwVvwihvwIPIaWDXVIaa2sXDOg0rDiZhhTXhFpSs1RjSXK2NtmeblsEba0FesRvTpgBQy4N8TeSxbgM06nZQoLEmPIHSq4mLNtEjG/NRPmVNaI4fxJUcNy5174/wK7hWUXCGtvIS4NjG4IOqsOnSlGIsEartTLJ/taGPPBnQbN1XtuyHMMnLU7g8vSv1vA318UjMuSFkZiGAcEddxpvrSDsHdcO8MR4QNPMzPlt86oL6sjKOTamtX4cCmHaPcmXxKVWhHNi7JIYZbitBnQhh+ojek/aHg+U98v2G3H4W3I8lPKnK4K9fttiERpUhX5hiAPF5QBqB5edYYO73iOjfZZTI9iQdfOKjV6ZNRjJHDD9pD4wymu5HXrzE5ROmrQYMdNOtaDDKyAZRHQCK94e7ZZ2AzKUbxMmqOwEHQ6hQZA1rZ7gAlGnXXQj86wNu0bRA2VFCCvhwggVh8KKvrJrx3IoAvzBE8wleC4dmbJodVbK2b2g6ihz2YKrFtw2oIDSDp60PxGwsd5/+VYLDk36EE0RZx961cySSphvH4lGYDQTsBNFAcLYb9ftLDcBwYNewF214e5IzsMzDXQ7jyprw4vh37y1qIGe3ycDb0YTIPttRHC+0GZsrIVEwGVgyn/K1Ngtq5tlJ8vC3wNEDMPqEo7N0YeMYht96hlcpI5eUHoQdDU1hrvjy9TH5fsPjTJcELS3CpcBisryBEiec9D6ClmItkQ0zB0I5x+vKDrtW/8ADMYGLd7mOaYDZcYYHENzI2nX3BPpoaR9oeAXhdBsAZLhGVFhcrGJBgaiTPvFNuH3hOaNyv8A3Ex+XtT/AAALY3D2WBnurt4k+qqJ85M+UVfXICvXkScvU0wmHe2PtEAiTBIBIEE/GlmMC2ULO2VNi0ZgCTppBnWNIO1U/EiO9W2PL8yf0pL9I3Dy9mxZQHNcvptyCq5zHyEg1VshVOO6lS1CQPGbl3iN/LhyzC3bVSzwsaksxk6ZmJ03PyGi9isRAJNtnEaG5B6jULHzqwweGt4e0Etgb+IkeJiEmT6zEcq96k+YEe8ZflBPwqqaRXFv3OGIHuS7cExFxW72zlcCBdlWDRyfKdf6vjNK8BhHW9FwFcmpB5k7eo510NjG5iBHIk+Xr58qRcduF2VRBKjUfe15RzECaz9bo1xYiymAyYgq2DAOKXmFhyuukE9Adz6Un4Jw9r1w2RGUKuY+WaT+1e7PFWTEm2ywIywRy8/WmvAlTDXb95m/hG2Cp5zmEp6g1mYkKLz33A1UrZCqFUQqjb0FY9krjIL/AHo1xDKQoH2YP55T8qH4Pi3e0b10Zc0kA8l5fKlY7UK2Ks2LKm4zXApy+e8dSKom+22/+qTj4YQX6Q+ChrSX7evdjK3mnI+361JcNxdxj3ZGYGTJMZYBJJPQAGut2cMptm0w08SsPKSCPaudcGs2sLjbmHxJAtsO7zMYEFlYSTsrKMpPmaZ0TDIdjS6ckgycZxmlTpvWuAxmW8GiROUjqpEH5H5Vc9q+yFq6wu2Atr8QA8LZmnNEwIWdB5VMW+H4db0W3u3CJGqBJOoJAJMD1M1qDS5Ua1HI6htjA8Q21YOGxCZTmQ+O23IrzHqCIrrmCwQuYG1lg5XdT6F2I+TCuQXLrCwLVxGJWSjAiVJOukaqRoRPQ8qfcC7WOlju0Zoz5mXMRE/+Kb9PI2ZWHHEPsO4MJYdlD3eHvKfuYhEPobij9aMxltSFObWD8Yymf8wYz61zniXaW4rgIxVXuKXE6NBU69TOs+VMOKdvkULatIbraZzMDNOi+cHeNzXOWxua5J5EnkEkRH9KOHYX+9J8FxVC6QFyRI+ebXmxpN2WwwuXRqIQFjr/AHzrq/DMDeuojYhLJYANlNkPlJ/rnWOdPbTZVgsgEa5URRHmMu1JnR5XX5mFn25gDhYjk8zmuIwrMgWNWUlepjQR1liBp1rcuMCy4e7Ga6fGwP2QpgLB5ZgdecdBJ8dueJvbxa3LTDwp4W31ObXXYjXaI3G9Z9jeGXMXdNwKue2hhmTvCWO2VSyKsDUbgHUyYqDp8KkY35Pcj0lXgwTtjZe8gW28AeIowgv+HXkI1AIG89KXYXilu0i2iCCANdx1+FH9oc1q8UOfcSWCgk8zAYkyZ1ZjNCYTBJiCbbDVdQ3MAz05SDRtZo8aYwycATs2JQoI6lFwrH2rlshHUsVIjnqNaiQdq+cU4Zcw75Wn+Vhz/wB/Ks1VgKylWrNweJRzU2uEAUMzTW1vDlt6LtYDYmiQ44mXD8PpJopMWu3Sv10qBE1vgeHBtTVHKgcwb1XMV4hC7ZqIwmMyELTO5hgNKyODHShHKpFHqDLrVTe7dkSK37GGMWjk7h1/6lP6gD3pc9lgPKicCkQVOo1moxPsYMPeQp2mxKXjVlb9t7TayMw8mXb9R/mqPucLgSNqr3xIIW7+IjMOhBE+xE0F2e4X9ZxIw+yAk3I3CKdR5E6D3rR14JKuvmGyEiiIf2O7NNaw64h9O+IZVI+4NFP+bf0IrfHILlwkDwAhQR0Gh/Kn/a7iQzLZt6QoAA5dPgo+dL+MWVs4RmJgnKq7cyJEHfSmhk9LD96hgaXmEP2jtW7Atm2lwbpbXVcvKS6wus6jUxPPSL7ScUd0Kqi28xOidN4nnRGIujKWBmdvMnb50KF8RB1yiPKefzrDXVZACCeB+/5iwyGyYl4fbyrE+pFGPiNMo2r7jXAUwN6AVWO1DGQvzAsSxuGpiJhYk8tfzovuLn4RSbCXAjyW1p3/AMRT8Q+NQ131L3FOCVkQoWzKNp13JJBn1Hwr7eteFXUkqFI9pkT6aj2Fe8FbLu0aZjpO0DcxyjaKoU4bhUQArqQQZdpM6nYwNeQ9p2p7T6TJnBKy2PGz3UmuFAhokEBffpTYHWisN2cUgthyzE/caDsJOVtM2msHz1odUIJBBBBIIIgiOoO1Tlw5MbbWEHkVlbmMcBis3gcyp2k7H9ByrW/gWAJ1M6FQsj3I299aU91cLhUBJPIAmn2AwuOC+Gzn00Vzp6TmEU7pNU2IbGU1C4chUVXERd41m4FJEEyD0O2s+UfDzqw4JczcRzZ1YDCCNfFrcOvntr5iluO4VibqZbmAKmZDW7ttyDG8PGnkD+1Lez2JuYXEsMQrIVssqlwRmUMraHnEn401qMy5AKjJIccSsw+I73HNzCiPyH71lxvF95fuMrSLam0q8syTcuN6zC+gNI+xnFlzYjEOdFXN+bfmQKCs8TuXJyg6hyxHVyS56CdRrrFQQGyqPAkMlsPtGmeTMjLC6naQqifPVdPSdq9i+BCp/wBZ5nyG8D06UDhsG8g3AdpC+XXrHmBG9GriYEKo16T+YJJrRIHiEnq9dCjfXeT8f7J+FRfFLj3e8KMudjIBaCRMaTzp9x3HhbTZzq4gCdY0kwRoPfeo7ECXJ3DLtzXp7VifEsm5lx+Byfz7RbKbYLCxcLqbd9YuhYtXXkH+gn7w6dKJ4ZdQspvzkXxlf51GUD5z7Uis4hwpR5dM2gYzA6g7inVi8rh9Zbb4bT5jaeelZeS1FxdxzGf0h8QK4e2inL3jSY08IG1JPo6wr/XbNwIWVWPlqQRvR3aC4t+5aZ9ltL4f5jvR1m/3aKlvwtEnLuAdJHQnUT5Gp0+Fsy+inbXZ9pfGpJCiVlq4BedAHbxMQVUsu+skaDWRPI07XhNhibos2c5BEz/Ej7urpmG2hBIIJ3qW4GHLBVzo8eAIqoSN9O7UtJiJkCDuDrV5ZsPGmkgCWdnaNyWdmMgdF031M0/qdJj0GGl5Ndnsxo4lQ0O5IcXwt62zaKU3G88hB0HTko1PsIrE4LLee7kBGcsFzGJOsFsvU9K6rj7Ctoc2UnWSdgMxZjyGUDw/zAdYgvpBf6thwsgXbjZYESoGrjyOg1ggh9KS0es1TLtP0jzJYgCTXEOOXgD/AO1se+Z/yI+NLMLxMM2bILbTHhnL6EEyPWaWfXLgOrE+/wC1GcMxOZspJBO0nnuJ6jr606M+RTuJlVfmEcQ1I16Gf19YiqCzgO4wtm9aZLL3JY3rh+wn3cg/GwIOgnfUb1LLYa4cnSQfIfsB+VdFw/CbdpPrGKIYooyofsWlUQAF2LaDXrtQtXqyzCjIy5AtRJe48+HRGIxVwvmyviL9wZsuWSLatoviG8zpTzAcZa/h0vPGbOVhZEDpqST6H5b1IY/iJx13NedbaorlB0mNPMnKKZdlMRNo2tIVyfiKUZ3FFSQQeeTF2yt44lRgeB4V3JdCWIZvtkkAEZX/AP5mQNZgqwgxBbXML4DbtW0VgToEULcyiSpXZbmUEhhE5SJ6yl/HNauM67hGHTcSPg4Vv8tKrHa1rV8mSVEqpn7LAQrxudAD6xTmPAuWswJvz55hQ5ZbmHaXwuTKFWEhhG0wAZAYNoQQ2vh3NfuwQL37p5BAPn+wNLeL4lsViHFhQe8YOIEBSygvv9lcxPw61cdleCDD28o1dtWbqf2GvzpvXaoDD6Z7kZcnybZvxrCJcssrqCILeh1iuYriiQK6hxm6Ajk6CD8hFc7wWBygE1lYfpg8HmfcFbbdifStMViuQPqa8X2Y6DQVnbwjO620Es7BR78/QbnyFHAuMT5h8O9x1VVZiToqgkn2FV2HwgtqBcZEPQGT7xoPjWmEwLWrZt2QQDo9zUF/MmNFnZRp61hh+Fs7qg1LNEwWGvM5PEB7VoJ8OVxuyTvTVuTGCcFd1D2xmBMAbNzIMHkQDB2MEbigcVa7sw4KnoR/ciugf+n3tYeMoLqo1tLcQNDBtUIIJJUGRlM8qT4/E2GXLclW0glQ0bkSG0Zddj1pF/h6ZLOI9eIP0Fbqc74pjtDArLg9xutX/Dhwi0QbltbrAf8AMWUnYnIPD8qok7R8LdcncWIOkd2oH/bUroXVaqW9IgUBOecNvEi5bbpnX/LqR6/7087A3VS7i73LMFBP4QodvmflTDiuA4c4zWC2HfkRJTbmCTA9IqPTGnD4e/bJGYuRpqCGygEEbggVc7gFRh1CKpIoyi4NeOIvvdPNjH9+kVn2nY4m6LVsytoRJPhzH7TEjkNB10MUHwfGCzg7l0NDZTkP8zaL66mieHkJayghR952iGYTEfiAk/LnNXIGd9pNAfwJDrZ+0+8N4VaRYK96xM5n2LdFXZVHTU+Zmt+0tmxat28qhLhkkCB4Y3IHnz9aXY/tLbsiLP8AEfQAsAFHtuaTcV4g91O8dszNv+3kPKh658OzYgFn9pTJQWhMz4mM8hpQuFxAMg1klz51tdtERzrNRQBUAKCwXG4JdTS36v60zu3jOU+1fvqz9KMG28SQTG/DjAZ2AksFEbHdjt6L8aIa6CNCvuZB33nl7/vQYf8AhIT+Nxp1i2fyPOtmvkDT5Ej58vavT/DcYXAPxf6x/TikEp+y1zKMy28oLBwwzuDoQVJCyG0JkjQESWywT8RiUutDIhYSyF+q6kGNV2B1iZET4oF7M2LhtjwQLcln0UAkH/EJXOIB2OoHQEU04hiM0E+OJymWOuxylixOh+5I5mKU1edEy/MOPPn8QL0zmY8MtICWYGSZMf700ucaVNEWT0mfypLKlM5cwDDSQMhiYMaDQ0bg+NYZYW2wuvMEIdoEkltoA6TVndDR7vqVJA7n7E8Rxlz/AA0j4D85qU7Vdnsfdts9wyFBaCdtPLQaVc4vjDZT3eW15lQx9phQfWaj+0j96mRrl24W3Nw7xrAUBVTY7DWN9Khg5WlUS6sfAk52UwXdhTibTPaeDlJIB6HwnX0NdI4dwLDOA+Gd7Y5oIZfdbgJ+BFYdkrU2u5vFbiRCmQSsaZTGjA7gzI1Boy9wk2GzW5jpzHp1HlQwqkbTw0hiG46MT9ojcwwLXbAu2kEl7TQQNNWR9pMHMp5GdzUjiu1ggLatZTlBlzO+2g+O9dJv44Msbt1H6zt6VAcf7Nl7ki4lqyoOVQskE8/OTy5DSq5DnrbjP5gzvrgyY4hji8sxLHmT16eVBMxKggkMPyqpw/Y9AIvOzOcxGQhVVQftsW0C8pJidNYJrPE9l1JAs3dejgZTvHiXaehE86V/0mUjcBfmV2HbxJcicp8/FHnzo3s2w712I5fGhMdhrlpoYQDIB3Bjodj1ors3h3uXGRFOZlAIPITvSuZDsYHiUqxUJwKteva7A/IVScKsAhnJiTz+CiBqdBQ3DMDkQmNToPamXDrYypzaI8hy25Vp/BApZm9qEY0lbiYx4UT3gBci3lZmElVYaDxkNOWR9kSTEczXRygZQNcjZZ/pALHkIkAT/Ua5nfsSpExOnmZqltcbYIpZiZ70EzGUEWgNPKdK0dfpvVIjOZCSCI14pjO6R3bUhBcAGklLjMV1jcQsncA1yTtVZGK4jke6RYsWwWeNQgJgQdrjSqa/e11qp4xxfvXzwQptMrTylrp0PMAXNK5jf4yWu4i4IPeoyCRMQylSJ2Ph0PImks+nXBjAPBJgMqbVF9xbiCrOxVYWdBOqg7a8/foaywaHvAAJM7fKs03+M097J4EvftPyN5QPY5j+VIZCFWAc0LhPDyGBCyLrsqacwxA/OKpvpI4iEsrYnxOQx/pU/qf1pfwLCoeJNl+yr3WHtO3udK0+lLBnNZujYgofUGR8p+FZvByqP+YJmsi5FhwJBEyNPI1T9iR4XP8ANUq2rVZdkMOVUqd8wJpjKQFkPwI9w3DfrF/u82XQknfQAzpzJ2965q+HZrndjV8xT1IJWuo8HxHd4kNr94aTzU9NTrUMgFviTyNO9bflmn96d0TBNOzff+kJiNITKzgHBksIEX7R+03Nj+w6VQ4YQCeg0/KhbFvWjohPX9Kycrl2s+YsSSbMjvpDx2SwEG7sB7DU1PteBknanfa+2M/fXPs2xltjq55+gqdcjamcZG2hGsHU8m8WML6Vfdgey3dq+IvqyufDbDA/Z3Zo6n7PsetSPZnjzYS8LqKrcmVgJI8juh8xXRMJ2iXEpntNH4lZpZfUD5cq0NIis1k8w9DzPnFLyLoEn5E+xOleeyfFgtwhLVkPubjvOUa6BREn/MANyQKWY7EM8osgTqSPyA8RJ8zWWG4I7eHXX0I0122NbLKrYypMJQIqdAxitdVs152EAwDlEE75VymCdpOsaBqgu2eIw9hst26O8Bjux/EcAaSxiBtz35TXjiXGO6FxbDZrmzXSc2ogSp/Fyk7RAqS4dwM3GL3JMmSTqSTzPU15/Jlx4XJRueiYv6gToxvwrtHgzpds3J/EoBB9pkGqvA8Y4KxC96FMfes3V+eWJqO+pouwpPxoQRl0NATWM7VKjKWNCddTC4C9bzWXMawwS4oMaGM4Ewa5z2x4BcTE2rNuSLzDL566+4BmjeH9srPdW17h5sooIzDJ4RAM7wTrEe9J7/bHFG8l9CE7t5UAZhJ3DZtwRvtT2QoFFEk/tDBq8y1/9HC2La3w5RTMK0T76imPHOwCYi2L2DuvnVdLVxyVP9JP+G2h8uWlb8I+lDDYlRav22tPlGYyGQHqNc2X2r3icS+HfNaYMpOwO+m6nb9OvWpxomYUODO+sTj1/MC2YZWBIKxqpUwVPnIorhxDWzJ51bdq+E2cbd7zN3d2P4oCmWgaHU5AY0zfHapvi+DeSWTuwYVV5BVAVRI0Oi70lqMW0EE+fHME/XMytYcRMVqqA6GhlutbXTXyrXD44McpEHn+00gcb3fiAKEcwfHYePENW5Hp6fvS+bnn8TT65azNHWvf/DKMuShUur0OoDYxWexoT4bx0jXxqI/7I+NEXlgajpsdtfLny/sUv7OfxEvRoBk1O8htB6QSSfIVTXMMIkHlp/fvXrfh7VhH6R/Cflh+E42ly0qXnVVEqmHQRa33YGe9bQyzGM1xY2prcxXeMqm6niy95Bgr3mbul3ADSQ8coB3NRfcENAO3w1EdOU0z7hs5YakQVzfyo6jntmB58xXZtLjPMjJjHYjTtWoWFTRHGYgbHYfPJPuOlTXZHEZMSV0EyvudNvhTjjWKNx9oygIB0iZ38yfhUwWyYjoTBn10/MV5ps1ZiRyAf4mcX+cmXV0HNuBrAAmZ+QoG/hM11RO2/r+u1E4HErcAuGQRIb18vXU1rZQAz6/t+YMetekxZQyh16Ij6sCLEx4fiSmgnUjUNp7gg6abgj0rfF9pzaFw3XXulOVSdXJMeFTzG/t0rK2gLfZJMmeR8iI5EHnUVx3M+IuhiSFdlUcgAaR+IMEUN5gcxrmW1ni4ZC6Zo2MgTI3GhIb1BI6ULfvFirISF0zEgwc2g1WSq6HUROgBoLgyh8OgJ8KuUadozKFGu0s4XTXU9KecNyI2S5cIygEuYiGjxRsyH/mLqNQ2gY0ln1WUIoxjgjn3kowKwHi7EWpurlAKnVGNpishfDCBoG/eQqgAKnOo+5xd2YwWI84MDoAohR5bbVWdpy+GL23JU+GFBbu8hnVSCpKxIjOcp0yxBMM13OxbfXcktt5mCfcVtaMlsdwmK47wZW7bNt4KncCAw6EdCOtEfR7w97eKvi7BFu0crDY67+4Pzpfw6Z/21H7VQcLcrdxR0j6qnrObb4RSPxjGvolh3K6haFifAwzgclRmPwoXsljxdkE6qYMfL2NKeN8S7tHAOrAL7c69fRZZ73E3E2mwWn8JBBn9Pesv4bqP9Nbt15/7i+BirXLk2+fsPyP5/nWdjD95mViURCWZt9AEga7mV0HU+euuBcHX8MiOU6gecc59K/cXxaYew5Oya3PNoBVPM+IE+ZHSvQZ9ZyuNDyeb9h7zQbKOJF9tOJm1b7q3PeXZEbkJJ6fe2EjoahLRgwfT3qp7IB8Zjjdu65QWjkOgFJu1OGFvFXVG2afjWVqNT62Uj26ib5N71Ayvxqw4LetoLRT/AJVm7dPqFKj5tUlYMidKoOzFj+FjHOwsgD1JJ/0ik8osc+P8QT8iOfo8sFr9y4dkSPdmH6Kar+M4BL1p7biQRv0O4I6EUk+j7DZcNnjxXHYn0Byj8j8TTnjeJyWLz/htsfkazWN5qH4gTyZzrsJw5L2IJfVUUt5GJj2pjwnjFpTcZ3A/iMY5xOlafRtgyLOIuZTJTKum+h2mh+H9grzENddEG+UeI+/KjFlOVtx4FAf1lytkzY8dZ7k2bbGGkMdBpU1x28xxNxgDmL5o3jY8q6ja4LaQAuVVRGrkKPhzoDGdoOHYa5lCd5dOpyKoX/Mx8VExalgCiAkQiKevEO7P95ctq7LuAYAPzpnitNOgigOC9urblbRNu1ceYCHNMa/b6npvQnaziwsWHf7zSEHmedKtv3UwonqBdQDQkX254r3t7Ip8NvT1POl+FBO9LXeTJ3J1pzh9FrRVNqgRnGNog+IABmssNxG5bcPbYqR05+RGxHlXzG3ZNBGijiX7lphPpFZVhsLZdvxZnUf9In5EUNxDtxicQChKoh3W0pWfIkksR71NYXCs58Iqx4DwRFWWALVGbUsFotBZMlcQPBPI1FEWseVOXlTHiGHRBtU7xGQ0is7Gu8waLumuPxsHelN93c6AmdBROBwjXG1+FP04VlAgQTsY2plQqGhCL8poRAuCYsti2QDu7HYevpRmOw9u0oRDmEiSeZHPyojKtsnKNAdZ3J86XOGYnzaf76VV2LHviVZt0JuXbakELLwo9Iqt7OXzct5hOr5NmgPA5gQAQJ35Go61hyzvLKpHMsNB5eZq4+jXFWtbQKtK54IJCwPFpIzTlCxPOiYVYEFTz/aEx2sYYXh4LLdYbMM43UE/ZbxAwp+60EcjqJrXj7paVCWteIN4bwAZv5s+gcECMqiNNNKa4cZO6dFmFUXEA+0lxSWXzK3FJX+uOdK+3d5LdvL4glwZlZQGt3IIPiX7twA6sIJEHXYMaHDkTJTm7hC1mTd0Ya+sMiK2vjSFIPxg+4pDf4T3J8d1FUyVczr7CYOuonnRGEfKRlmZ+P5j5CjOL2u/w11I8ar3iHzXUj3WR8K0tXpUZdwFGcyDuAYXEoFJt57rRo2UKnzMkVn/AMSxPRflS7g2LyiDTLOvnWEwF9CBYcyf4Pj8uZST4mEBRz1/cVf4DErdXKNGAAKzJ5AkT1+U1L4Dgtu2Z+03U8vTpRjELtuPlTOHWnE9r0e5UZtrWJR4LhRZzI57dY/esuI8csYZzbB7y6Tlyicq7/abbTOTlGug2qbxfGsQ8obrZIggQJHmRqaUFfGI5a05m+JHIKWXyZy3UrWYnWZJMz60i7Q+F7dwdcvx1qpv8Jdby2Awcv3eRgIDC4AQY6a/KkvarhzZLoWbi2WMuqnLCkgnyG+9YqA7+YqAbjHgGKhwvJtPcaj9vej+M8R+r285Bbko5uddPLrNSvDGdlVlVtBmkAwMsSZ6Dn60RiUv4m7b79mVXOVXZDlAMSVCjxcpitHT6z0cZSufHtD48mxSISva++QQEtq3UScs9J0Jqex2NymNSzGSeZJ3PrTDAYXvLj27Ya5kkeBWM6kTETGk0Xf4eWU5bbMV1ICkxHWBpQGfJlO7IbEruJNtGHZu4LODUtrJZupku/i9VUMR5jyFBr2lVUDAQwkHnoUsIgB1GVTh0PtWl7hwbAveDle7e2oUCQ2fOBrygyfep04B8oYo4RtAxUhT6GIPtW/p8SMgP4/iOY0DLcZYjtXduWO4YkqhZrJP2k5KoZY8IG06biNoVYK1r50RZ4U5GbKwAiTlMa6jU9YNMMHwkaEz6bUdmTCpPQlmrGLM3wFoASTAAknkKy7OYg3buJuAEC4oXXYBW8I055RRN6xb2K5z0JJHvyr5dvmzbZlbKY0iAP8AasPX6v112gcRTJm3mop412ZxNwsy5WnYTB/+0An3rfsVefCXMTIKt3IWCNdT/tQeF7e4u2QpZLq6aOgnXzWP1q24Jxi3izcR8OFNsr4w5IkwdoBHprWZmLpj2kcf4nUKq6jC262LDX3GburYLD8baQvuxA9J6VJdp0vj6tYusSW729c87jZmJPpJAHIVeXwoUKwEGJnmdx8KQdo8KLuOwdosF7wXEDESAzLAn1MD3oWnzvdeT/AHAlN/G0SP+izGhL9xD95ZHtvSDtTie8xV1uWcj4aUf2V4Xd+sXvELf1a3duXSQTAt6FYH3i0KPM17/wDSdy7iWtWrguDwu1wI6hc4DahwDMmB1jStHaFcsfaXqjcRYQ6N7frVd2VV2w96ytpybpHjiEAEbk++1U3COx+HsiRaLssZnYE6+my0diuKWLSMWfKyuLfdhWLEkTpAjyjelsmXfYUSDzPfAsObNhLZAlRr0mSf1oq6oIIaCvOdvea+2/8ACF0hgpXMJEcpj18qjvpSuz9WspLlxnhQ0mYhcsSTJPwpTHjOR6lRVymu8WsqoKnPLZFCdek7RSniHG7rXSqXEs2xoXEFyecToK17Ddn8+HPepcV7OXKniVs10mSREjKon3oPtX2OtIwufxVsoltbrZde8PMiZBIKmaImGibltjEWJOcTjvgy3XxFySQGlojn5D060rwvZrE3gzKmoOssASSdhr/t51c9lMDYw+IuqplxZmT0JnT2C/GvmAttnvPbRmYlCuUR9mdCSR1OlMYdQA5Tqh2eJKFR3IPsziFtYq1caGVTmPwPzH5gUz7YcfGJuDLItqNAevWjcFcOGwt8XrKrc7zKmZQG8Qk7bgevUVJuaLSvk311wJH1Nc/A6imWJv8AIUFhrMsB86YC2N6LcIvMByMeVEYbBNuRTfA2FIo9LIpd89GpRsm01MOGOiLEeKi8Ji2UzrSfiAyOCaI+s5hCCSaWyKXII8wbDceI3xF8XNzWJwPNzlHnv8KU2sStk795c+S097TYTD4Zzbu3r74pVV4CoLJzAGBrngA/a2MUZcJruFGPaOZ6QJbQsIRfxHc+gpPc7QNcZbVskLm35n9qLbAYh7BxNyzca2FkNByhevmPPasG7I4qwtjEvbbJdDN9kjuyWKqGPMsNRHI0XGKBnXwZ54ndygDnSvF3yTC8xTbtDwjEWVD3bNxEOgYrpPQn7unIxXg8AxFm2jvZdRdKqpK/aLCVUDeTy61TbXJEoBtHMDwCIMhyz1nrVAnF7eHKvEL97Lvl5x5jcelANwnEWI76y9sGQuYbxvqNJ8t6G41ZBQmrLYcN5EmjuBMsDxTEWoCOTKgq2aRAyOhA/wAvvsaSY7i99kWzdbNbRyySNVPi0EctdumlDdi+LLcRcLePiU/wGJ3BOtv15r8KdYzhREgry95HP5T716TC2PIu4DmOUCLinDAkTp6cv786d8MVuYOXXXcDQ6Gdvl70tFko2vnr6Gi0IUsTtG+s66Qfeq532oSZV+pM4TBzcKxTP/hDefwNYti0S9Ipl/xgf3/4rzBLXFyIC1z2FYkT6V9O9en50KKxfeAmvtm3oTz2rzfojC/4Z96MktLzgWKU4S1iiR3mGtXLABOpYkC0fOA7f9NFYC4RZwrWbV+4EWXFq6FXvMxzi6uQkyI1bTLG1c+7OuTa3+83500fQaaTv51zNTGSWoxrjr5t4CzaszbR7+IJQHWCwIQxuniiNjApniA9zEYW/c76yxxSK2HvPKaAS9kHZBoDpGu9QvFWhPelfEB/DttrIA1k1yMSbP2kqfMvMNhrwwzLg85uHF4g4gWjFzVz3ROQ5igWfKZoi8MWbWHXCm5mD3e/yNDLdz/auwZy5ebaaGoG2xWwHBIYgy0mTr1pdZxDm4rZmkuqzJ2nb0pgGxzLnnmdax9zDsMXMNYOKwxYLsd+8IjcFgx061tibNwXcU952OFa3cAkk22BH8MWxOUsDljLqIM71F2tqIT7Hv8A36UVdUyLQnLmYcRx2hvEW8LazHIMPabKDAJ8WpH3iAABO1JWfkNK8CtFoT6hsncG+Qv3PiW4FK+0ki3I2poaXcf/AMBv761Q9Sg7kTh0L3FCiWZgABzJIAFdn4RhLeFsEtAjx3D1YxPtyHkK519GllTjNROW07DyOgn11q47TrmWyh+y9zxDaYHOOVL602wTxGG7i/B9oLmKxaEI31e2WMxoTGhJ6zyoztjibYC32bI9r/CE6s0g7e1MBaVMqqAo6DSoDvDfxF43SXyq+WdhAMQBoKqiBm44qDA5ld2xKthLuItvbtpj+6uHUDLbVO8uLA3uNeaPMKaZcX7QjDtxG5a1a3hsGdCBLNlWQd5AO9cRzk7md6+d4ep+NaWweYep1zD4/H3zwy9hbp+r+D6xlcKq3e8/i96CeYOmaZBEUxt8Iz/WJaMnGUvDzGg9t68fRn2Vwb4bDYlrIN0G42aWiUd8pKzlJEDccqb9mbCtfxOZQZUsZG5mZ9aU1Wf0lFDucDyINxzipS5xBWusUGHuXFQtIUpcCjIPu6NGlKOJYh7l28LDAYxuG4T6vDAXIPivC2eVwp013iovt7/867/UB7ZQY+NTlz7U9Iii4OVDeSJUTqfYrDYtreNGI+td/bt4dktG89u64/i6E6sFJAG2nlvR/bG1cxLCw9xlQ27FxgHnM2RZlho+q7iNRXL+yeKcYu3DHxmGnXMI2M710Hg/+PeHIXAoHIAAaDoKHqG2Lx+ZZjtWxB/q4z4jEk+IlkX0WF+ZWmHZ3wrc9EP5igcT/wDF9z/3GvV26Vw2Jgx4Lf8AqrKF5GNnzAVcju23GO/vEA+BPCv6mkSivx3r5c2NbaIFUAQqihU8NckgDqKd8SwbjVaQWtx6j86uMRrVMzlCKnMxXqJOCX2mDNUdqllu2AdqYWtATSuX5mgz8zQHjNjNuQBS5LzR3doQOZ6+9eMTdLNqZ1om74U8OlNY1pajAUKOJklsW/s+JuZ5CqsvcTC3reNxGGv2xZb6rlvW7t0XdO77sp4xbGuYNoBFQN26etfk60USZ13iXExAxVi1hWQWAoL4hkdBkyNba2XAncBQIMik3BMdaFvhOJe4ht4Y3Ld5cwzoTdcqTb+0QAQ0gcqjjdPc78qFwu1DDEAwZNCWtrD/AFaxjjfxNm79YQJbCXluG4+cMLxAJyhRJloOsVvxs4e+bL4y7Zs3nxFpLj2MQtwXbWQg3SFJ7mCFXPoNTp0icRtQFWWSo8zoXF71q1gbltFwtsri1ZLdm/3zFMjDO5LtJOmojSJA0qMxOOZxB2rG5pbEaVlUnk3LmeStVHZ/tvdsqLd5e+tjQEmLqjoG2YabMPepoV6oiuyGwZIM6E/H8BeT7T2zvD2yY90LCI/KkPHuMW2AS0SVBktGXNpAAB1gUjG1CXmq76hnWjJJm17ESZmt/r4pZXigFRKz/9k=)"
   ]
  },
  {
   "cell_type": "markdown",
   "metadata": {
    "deletable": false,
    "editable": false,
    "nbgrader": {
     "cell_type": "markdown",
     "checksum": "650e3c5067e459d3cca264488f623f6b",
     "grade": false,
     "grade_id": "cell-135b3811d00117d0",
     "locked": true,
     "schema_version": 3,
     "solution": false,
     "task": false
    },
    "pycharm": {
     "name": "#%% md\n"
    }
   },
   "source": [
    "<a id=\"home\"></a>\n",
    "## Assignment 1 - Scaling\n",
    "In this assignment you will need to implement different functions with a focus on Scaling<br/>\n",
    "\n",
    "<b>Index of functions you need to implement (total possible points: 100)</b>:<br/>\n",
    "\n",
    "| Section | Section-name | points | Section | Section-name | points | Section | Section-name | points |\n",
    "| :- | :- | :- | :- | :- | :- | :- | :- | :- | \n",
    "| 1.a. | [Review Materials](#review_materials) | | 1.b. | [General instructions](#gen_instructions) | | 2. | [Import packages](#Imports) | | \n",
    "| 3. | [Student info](#student_info) | 5 | 4.a. | [Load the dataset](#load_dataset) | 15 | 4.b. | [Decouple Data](#decouple_data) | 20 | \n",
    "| 5.a. | [MinMax Normalization](#minmax) | 30 | 5.b. | [Standardization](#standardize) |30 | "
   ]
  },
  {
   "cell_type": "markdown",
   "metadata": {
    "deletable": false,
    "editable": false,
    "nbgrader": {
     "cell_type": "markdown",
     "checksum": "826e8bf296a321beffca0f80ba73ccfe",
     "grade": false,
     "grade_id": "cell-eb8dd287755fc346",
     "locked": true,
     "schema_version": 3,
     "solution": false,
     "task": false
    },
    "pycharm": {
     "name": "#%% md\n"
    }
   },
   "source": [
    "<a id=\"review_materials\"></a>\n",
    "#### 1.a. Materials to review for this assignment\n",
    "<h4>From Moodle:</h4> \n",
    "<h5><u>Review the notebooks regarding the following python topics</u>:</h5>\n",
    "<div class=\"alert alert-info\">\n",
    "&#x2714; Brief review: <b>Basic Python</b>.<br/>\n",
    "&#x2714; Thorough review: <b>The NumPy module</b><br/>\n",
    "</div> \n",
    "<h5><u>Review the presentations regarding the following topics</u>:</h5>\n",
    "<div class=\"alert alert-info\">\n",
    "&#x2714; <b>Example Representation</b><br/>\n",
    "&#x2714; <b>Statistics intro. & scaling</b><br/>\n",
    "</div>"
   ]
  },
  {
   "cell_type": "markdown",
   "metadata": {
    "deletable": false,
    "editable": false,
    "nbgrader": {
     "cell_type": "markdown",
     "checksum": "42304cf6feb814d7d573e9a79bd83001",
     "grade": false,
     "grade_id": "cell-bcde278a750c56fa",
     "locked": true,
     "schema_version": 3,
     "solution": false,
     "task": false
    },
    "pycharm": {
     "name": "#%% md\n"
    }
   },
   "source": [
    "[Go to the beginning of the assignment](#home)\n",
    "<a id=\"gen_instructions\"></a>\n",
    "#### 1.b. General assignment instructions\n",
    "#### Working on the assignment, todo and not todo:\n",
    "<b><u>Todo</u></b>:<br />\n",
    "<div class=\"alert alert-success\">\n",
    "<ul>\n",
    "<li>&#x2714; Use <b> Jupyter Notebook </b>.</li>\n",
    "<li>&#x2714; <b> Work by yourself</b> and submit your own assignment, <b>no pairing</b> with other students</li>\n",
    "<li>&#x2714; Test and save your assignment - <b>submit the last tested and saved version</b></li>\n",
    "<li>&#x2714; Work on the <b>original notebook</b> of the assignment</li>\n",
    "<li>&#x2714; Run the code cells by their original order</li>\n",
    "<li>&#x2714; submit <b>only</b> the <b>notebook (Assignment1_Scaling.ipynb)</b> file (no name changing)</li></ul>\n",
    "</div>\n",
    "<b><u>Not todo</u></b>:<br />\n",
    "<div class=\"alert alert-danger\">\n",
    "<ul>\n",
    "<li>&#x2718; <b>do NOT use Google Collaboratory</b> </li>\n",
    "<li>&#x2718; do <b>NOT</b> submit an <b>empty assignment</b></li>\n",
    "<li>&#x2718; do <b>NOT submit extra files</b>, <u>unless you're asked to do so</u></li>\n",
    "<li>&#x2718; <b>Do NOT submit a .py/.txt/.rar/.zip (or any non (.ipynb) file)</b> <u>version for the notebook</u> of the assignment</li>\n",
    "<li>&#x2718; <b>do NOT change</b> the notebook file name</li>\n",
    "</ul>\n",
    "</div>"
   ]
  },
  {
   "cell_type": "markdown",
   "metadata": {
    "deletable": false,
    "editable": false,
    "nbgrader": {
     "cell_type": "markdown",
     "checksum": "38251164e958966ec29829598c1ac51e",
     "grade": false,
     "grade_id": "cell-9b3ce798241ef562",
     "locked": true,
     "schema_version": 3,
     "solution": false,
     "task": false
    },
    "pycharm": {
     "name": "#%% md\n"
    }
   },
   "source": [
    "<b>Your implementations are performed in the 'Answer code cell's as following</b>:<br/>\n",
    "<div class=\"alert alert-success\">\n",
    "&#x2714; Your code starts one line after the '<code># YOUR CODE HERE</code>' remark<br/>\n",
    "&#x2714; Implemented code<br/>\n",
    "&#x2714; returned expected value<br/><br/>\n",
    "<b><u>Your code should look like this</u></b>:\n",
    "</div>\n",
    "\n",
    "<code>\n",
    "# function_name (your solution)\n",
    "# ====>>> YOUR ACTIONS: IMPLEMENT & RUN \n",
    "def method_to_implement():\n",
    "    # YOUR CODE HERE\n",
    "    your implemented code ...\n",
    "</code>"
   ]
  },
  {
   "cell_type": "markdown",
   "metadata": {
    "deletable": false,
    "editable": false,
    "nbgrader": {
     "cell_type": "markdown",
     "checksum": "bef6a7d99f98081fb8d45101579b7f86",
     "grade": false,
     "grade_id": "cell-c4bd32240657ce3f",
     "locked": true,
     "schema_version": 3,
     "solution": false,
     "task": false
    },
    "pycharm": {
     "name": "#%% md\n"
    }
   },
   "source": [
    "[Go to the beginning of the assignment](#home)\n",
    "<a id=\"Imports\"></a>\n",
    "### 2. import modules (packages)\n",
    "This step is necessary in order to use external modules (packages). <br/>\n",
    "<div class=\"alert alert-success\">\n",
    "&#x2714; Any module or package imported in the following code cell are permitted\n",
    "</div>\n",
    "<div class=\"alert alert-danger\">\n",
    "&#x2718; Any other modules or packages are ILLEGAL\n",
    "</div>\n",
    "\n",
    "##### 2. IMPORT MODULES - Run the following code cell:"
   ]
  },
  {
   "cell_type": "code",
   "execution_count": 1,
   "metadata": {
    "deletable": false,
    "editable": false,
    "nbgrader": {
     "cell_type": "code",
     "checksum": "460842fe8c707a47b270f5af12e7f7cc",
     "grade": false,
     "grade_id": "cell-a5b0450587b28bd4",
     "locked": true,
     "schema_version": 3,
     "solution": false,
     "task": false
    },
    "pycharm": {
     "name": "#%%\n"
    }
   },
   "outputs": [],
   "source": [
    "# 2. IMPORT MODULES \n",
    "# ====>>> YOUR ACTIONS: RUN ONLY\n",
    "\n",
    "import sys                       # for testing use only\n",
    "import os                        # for testing use only\n",
    "from datetime import datetime    # for testing use only\n",
    "import numpy as np\n",
    "\n",
    "# show several prints in one cell:\n",
    "from IPython.core.interactiveshell import InteractiveShell\n",
    "InteractiveShell.ast_node_interactivity = \"all\""
   ]
  },
  {
   "cell_type": "markdown",
   "metadata": {
    "deletable": false,
    "editable": false,
    "nbgrader": {
     "cell_type": "markdown",
     "checksum": "96f878fda57d10fc93944009bc1c23ff",
     "grade": false,
     "grade_id": "cell-a9cf8ed2ab6f530a",
     "locked": true,
     "schema_version": 3,
     "solution": false,
     "task": false
    },
    "pycharm": {
     "name": "#%% md\n"
    }
   },
   "source": [
    "[Go to the beginning of the assignment](#home)\n",
    "<a id=\"student_info\"></a>\n",
    "### 3. Student information methods:\n",
    "* my_name\n",
    "* my_id"
   ]
  },
  {
   "cell_type": "markdown",
   "metadata": {
    "deletable": false,
    "editable": false,
    "nbgrader": {
     "cell_type": "markdown",
     "checksum": "3ab49fd717930ba3174b06eddbc9b39c",
     "grade": false,
     "grade_id": "cell-b1aaf4f9ce0f0059",
     "locked": true,
     "schema_version": 3,
     "solution": false,
     "task": false
    },
    "pycharm": {
     "name": "#%% md\n"
    }
   },
   "source": [
    "#### 3.a. Function: my_name\n",
    "<a id=\"myName\"></a>\n",
    "Implement the function to return your full name (as a string), for example:<br/>\n",
    "<code>    return 'John Smith'</code>"
   ]
  },
  {
   "cell_type": "markdown",
   "metadata": {
    "deletable": false,
    "editable": false,
    "nbgrader": {
     "cell_type": "markdown",
     "checksum": "f270e1f8c42562cab581289d8bd83402",
     "grade": false,
     "grade_id": "cell-eae19411271ec9e9",
     "locked": true,
     "schema_version": 3,
     "solution": false,
     "task": false
    },
    "pycharm": {
     "name": "#%% md\n"
    }
   },
   "source": [
    "##### 3.a. my_name - YOUR SOLUTION - Implement and Run the following code cell:"
   ]
  },
  {
   "cell_type": "code",
   "execution_count": 2,
   "metadata": {
    "deletable": false,
    "nbgrader": {
     "cell_type": "code",
     "checksum": "ce388d0c5d3fff8eaea361241024fce2",
     "grade": false,
     "grade_id": "sol3a-my_name",
     "locked": false,
     "schema_version": 3,
     "solution": true,
     "task": false
    },
    "pycharm": {
     "name": "#%%\n"
    }
   },
   "outputs": [],
   "source": [
    "# 3.a. my_name (your solution)\n",
    "# ====>>> YOUR ACTIONS: IMPLEMENT & RUN \n",
    "\n",
    "def my_name():\n",
    "    return \"Orian Dabod\"\n",
    "    "
   ]
  },
  {
   "cell_type": "markdown",
   "metadata": {
    "deletable": false,
    "editable": false,
    "nbgrader": {
     "cell_type": "markdown",
     "checksum": "ad5d96ce40a60519c8507c91dca796d7",
     "grade": false,
     "grade_id": "cell-2dffc9cf9547a059",
     "locked": true,
     "schema_version": 3,
     "solution": false,
     "task": false
    },
    "pycharm": {
     "name": "#%% md\n"
    }
   },
   "source": [
    "##### 3.a.  my_name - OPTIONAL SELF TEST -  Implement and Run the following code cell (IF NEEDED):"
   ]
  },
  {
   "cell_type": "code",
   "execution_count": 3,
   "metadata": {
    "deletable": false,
    "nbgrader": {
     "cell_type": "code",
     "checksum": "5ba9d6efb1a2bc5ba33e0e7e32ff4ba3",
     "grade": false,
     "grade_id": "self_test3a-my_name",
     "locked": false,
     "schema_version": 3,
     "solution": true,
     "task": false
    },
    "pycharm": {
     "name": "#%%\n"
    }
   },
   "outputs": [
    {
     "name": "stdout",
     "output_type": "stream",
     "text": [
      "Orian Dabod\n"
     ]
    }
   ],
   "source": [
    "# 3.a. my_name (optional self testing)\n",
    "# ====>>> YOUR ACTIONS: (optional) IMPLEMENT & RUN \n",
    "\n",
    "student_name = my_name()\n",
    "print(student_name)\n",
    "# --- add additional code to check your code if needed:\n",
    "# YOUR CODE HERE\n"
   ]
  },
  {
   "cell_type": "markdown",
   "metadata": {
    "deletable": false,
    "editable": false,
    "nbgrader": {
     "cell_type": "markdown",
     "checksum": "5bae26d41444e7478dc4fd2268723dfb",
     "grade": false,
     "grade_id": "cell-d702642caecc14be",
     "locked": true,
     "schema_version": 3,
     "solution": false,
     "task": false
    },
    "pycharm": {
     "name": "#%% md\n"
    }
   },
   "source": [
    "#### 3.b. Function: my_id\n",
    "<a id=\"myName\"></a>\n",
    "Implement the function to return your ID number (as an integer number).<br/>\n",
    "Note: the **id number should be equal to the one in Moodle**, for example:<br/>\n",
    "<code>    return 132468579</code>"
   ]
  },
  {
   "cell_type": "markdown",
   "metadata": {
    "deletable": false,
    "editable": false,
    "nbgrader": {
     "cell_type": "markdown",
     "checksum": "352eb208910b2b31e40a805eb0804cc6",
     "grade": false,
     "grade_id": "cell-13b034f8e7743a94",
     "locked": true,
     "schema_version": 3,
     "solution": false,
     "task": false
    },
    "pycharm": {
     "name": "#%% md\n"
    }
   },
   "source": [
    "##### 3.b. my_id - YOUR SOLUTION - Implement and Run the following code cell:"
   ]
  },
  {
   "cell_type": "code",
   "execution_count": 4,
   "metadata": {
    "deletable": false,
    "nbgrader": {
     "cell_type": "code",
     "checksum": "70dd24e82489003228d3e91d5c8692b4",
     "grade": false,
     "grade_id": "sol3b-my_id",
     "locked": false,
     "schema_version": 3,
     "solution": true,
     "task": false
    },
    "pycharm": {
     "name": "#%%\n"
    }
   },
   "outputs": [],
   "source": [
    "# 3.b. my_id (your solution)\n",
    "# ====>>> YOUR ACTIONS: IMPLEMENT & RUN \n",
    "\n",
    "def my_id():\n",
    "    return 308337062\n",
    "    "
   ]
  },
  {
   "cell_type": "markdown",
   "metadata": {
    "deletable": false,
    "editable": false,
    "nbgrader": {
     "cell_type": "markdown",
     "checksum": "b7a7f6326ee8b32d43edaadebc221143",
     "grade": false,
     "grade_id": "cell-8fc0d9a34797438c",
     "locked": true,
     "schema_version": 3,
     "solution": false,
     "task": false
    },
    "pycharm": {
     "name": "#%% md\n"
    }
   },
   "source": [
    "##### 3.b.  my_id - OPTIONAL SELF TEST -  Implement and Run the following code cell (IF NEEDED):"
   ]
  },
  {
   "cell_type": "code",
   "execution_count": 5,
   "metadata": {
    "deletable": false,
    "nbgrader": {
     "cell_type": "code",
     "checksum": "8a8d56f6ae4768f20df81ea4514b53e1",
     "grade": false,
     "grade_id": "self_test3b-my_id",
     "locked": false,
     "schema_version": 3,
     "solution": true,
     "task": false
    },
    "pycharm": {
     "name": "#%%\n"
    }
   },
   "outputs": [
    {
     "name": "stdout",
     "output_type": "stream",
     "text": [
      "308337062\n"
     ]
    }
   ],
   "source": [
    "# 3.b. my_id (optional self testing)\n",
    "# ====>>> YOUR ACTIONS: (optional) IMPLEMENT & RUN \n",
    "\n",
    "student_id = my_id()\n",
    "print(student_id)\n",
    "# --- add additional code to check your code if needed:\n",
    "# YOUR CODE HERE\n"
   ]
  },
  {
   "cell_type": "markdown",
   "metadata": {
    "deletable": false,
    "editable": false,
    "nbgrader": {
     "cell_type": "markdown",
     "checksum": "9d350395f8fb1f4dc605ffe88346c9a8",
     "grade": false,
     "grade_id": "cell-b78f544045028bc1",
     "locked": true,
     "schema_version": 3,
     "solution": false,
     "task": false
    },
    "pycharm": {
     "name": "#%% md\n"
    }
   },
   "source": [
    "##### 3. my_name, my_id - GRADED TESTS - Run the following (1) code cell:"
   ]
  },
  {
   "cell_type": "code",
   "execution_count": 6,
   "metadata": {
    "deletable": false,
    "editable": false,
    "nbgrader": {
     "cell_type": "code",
     "checksum": "43630efe22da1b74edece399a64e6d43",
     "grade": true,
     "grade_id": "test3-1_student_info",
     "locked": true,
     "points": 5,
     "schema_version": 3,
     "solution": false,
     "task": false
    },
    "pycharm": {
     "name": "#%%\n"
    }
   },
   "outputs": [
    {
     "name": "stdout",
     "output_type": "stream",
     "text": [
      "3. 'my_name' and 'my_id' - Test 1 (name: test3-1_student_info, points: 5)\n",
      "\n",
      "Good Job!\n",
      "You've passed the test for the implementation of 'my_name' and 'my_id'  :-)\n",
      "\n",
      "Output:\n",
      "-----------------\n",
      "Execution time: 2022-07-13 13:38:02\n",
      "Your name: Orian Dabod (name type: <class 'str'>)\n",
      "Your ID: 308337062 (ID type: <class 'int'>)\n"
     ]
    }
   ],
   "source": [
    "# 3. my_name, my_id (graded test)\n",
    "# ====>>> YOUR ACTIONS: RUN ONLY\n",
    "\n",
    "print (\"3. 'my_name' and 'my_id' - Test 1 (name: test3-1_student_info, points: 5)\")\n",
    "\n",
    "try:\n",
    "    student_name, student_id = my_name(), my_id()\n",
    "except Exception as e:\n",
    "    print ('You probably have a syntax or implementation error,  \\nerror Message:',str(e), '\\nTry fixing your code')\n",
    "    raise\n",
    "\n",
    "assert type(student_name) is str or type(student_id) is int, \"name is not a string or id is not an integer\"\n",
    "\n",
    "print (\"\\nGood Job!\\nYou've passed the test for the implementation of 'my_name' and 'my_id'  :-)\")\n",
    "\n",
    "print ('\\nOutput:')\n",
    "print ('-----------------')\n",
    "print ('Execution time: %s' %(datetime.now().strftime('%Y-%m-%d %H:%M:%S')))\n",
    "print ('Your name: %s (name type: %s)' %(str(student_name), str(type(student_name))))\n",
    "print ('Your ID: %s (ID type: %s)' %(str(student_id), str(type(student_id))))"
   ]
  },
  {
   "cell_type": "markdown",
   "metadata": {
    "deletable": false,
    "editable": false,
    "nbgrader": {
     "cell_type": "markdown",
     "checksum": "9f6547a263e1dcd60e86e06d8850b49a",
     "grade": false,
     "grade_id": "cell-17b9bfe43c0443b9",
     "locked": true,
     "schema_version": 3,
     "solution": false,
     "task": false
    },
    "pycharm": {
     "name": "#%% md\n"
    }
   },
   "source": [
    "### 4. Load data\n",
    "##### data description:\n",
    "The data is stored in a numpy file, and will be loaded directly into a two dimentional array.\n",
    "\n",
    "The columns are not named but this table can serve as a reference:\n",
    "\n",
    "| sepal-length |sepal-width | petal-length | petal-width | iris_type |\n",
    "| --- | --- | --- | --- | --- |\n",
    "5.1| 3.5| 1.4| 0.2| 1 |\n",
    "4.9| 3. | 1.4| 0.2| 2 |\n",
    "4.7| 3.2| 1.3| 0.2| 3 |\n",
    "4.6| 3.1| 1.5| 0.2| 1 |\n",
    "5. | 3.6| 1.4| 0.2| 1 |\n",
    "...\n",
    "\n",
    "\n",
    "##### methods to implement:\n",
    "* load_numpy_array\n",
    "* decouple_data"
   ]
  },
  {
   "cell_type": "markdown",
   "metadata": {
    "deletable": false,
    "editable": false,
    "nbgrader": {
     "cell_type": "markdown",
     "checksum": "a37b641cb3d3fd7fe5b4d425afe45987",
     "grade": false,
     "grade_id": "cell-6472d454637bab82",
     "locked": true,
     "schema_version": 3,
     "solution": false,
     "task": false
    },
    "pycharm": {
     "name": "#%% md\n"
    }
   },
   "source": [
    "[Go to the beginning of the assignment](#home)\n",
    "<a id=\"load_dataset\"></a>\n",
    "#### 4.a. Load dataset\n",
    "<u>method name</u>: <b>load_numpy_array</b><br/>\n",
    "\n",
    "------------\n",
    "\n",
    "<u>dependency</u>: <br/>\n",
    "* <b>my_name</b></br> \n",
    "* <b>my_id</b></br> \n",
    "\n",
    "------------\n",
    "\n",
    "<pre>\n",
    "input parameters:\n",
    "- file_name - a path containing the \".npy\" file name containing our training set. \n",
    "              Use the 'file_name' as is and DO NOT use a hard coded value of a file path.\n",
    "</pre>\n",
    "\n",
    "------------\n",
    "\n",
    "The function should return a NumPy (2) dimensional array containing the training set, loaded from the npy:<br/>\n",
    "<code>return npa_trainset</code>"
   ]
  },
  {
   "cell_type": "markdown",
   "metadata": {
    "deletable": false,
    "editable": false,
    "nbgrader": {
     "cell_type": "markdown",
     "checksum": "f27103c38252aeeea1f3028aaed73102",
     "grade": false,
     "grade_id": "cell-25c139cebb092626",
     "locked": true,
     "schema_version": 3,
     "solution": false,
     "task": false
    },
    "pycharm": {
     "name": "#%% md\n"
    }
   },
   "source": [
    "##### 4.a. load_numpy_array - OPTIONAL  ASSISTANCE  - Implement & Run the following cell (IF NEEDED):"
   ]
  },
  {
   "cell_type": "code",
   "execution_count": null,
   "metadata": {
    "deletable": false,
    "nbgrader": {
     "cell_type": "code",
     "checksum": "d49d28d3b0f44f9a622c17d1d8abbea0",
     "grade": false,
     "grade_id": "assist4a-load_numpy_array",
     "locked": false,
     "schema_version": 3,
     "solution": true,
     "task": false
    },
    "pycharm": {
     "name": "#%%\n"
    }
   },
   "outputs": [],
   "source": [
    "# 4.a. load_numpy_array (optional assitance for your solution)\n",
    "# ====>>> YOUR ACTIONS: (optional) IMPLEMENT & RUN \n",
    "\n",
    "# ---- Add assistance code here IF NEEDED:\n",
    "# YOUR CODE HERE\n"
   ]
  },
  {
   "cell_type": "markdown",
   "metadata": {
    "deletable": false,
    "editable": false,
    "nbgrader": {
     "cell_type": "markdown",
     "checksum": "9384dd78268deeaaf7c9626b48166bbe",
     "grade": false,
     "grade_id": "cell-5e1dc351d46d3636",
     "locked": true,
     "schema_version": 3,
     "solution": false,
     "task": false
    },
    "pycharm": {
     "name": "#%% md\n"
    }
   },
   "source": [
    "##### 4.a. load_numpy_array - YOUR SOLUTION - Implement and Run the following code cell:"
   ]
  },
  {
   "cell_type": "code",
   "execution_count": 7,
   "metadata": {
    "deletable": false,
    "nbgrader": {
     "cell_type": "code",
     "checksum": "c2978d140ade7621f43bfc552878c1a9",
     "grade": false,
     "grade_id": "sol4a-load_numpy_array",
     "locked": false,
     "schema_version": 3,
     "solution": true,
     "task": false
    },
    "pycharm": {
     "name": "#%%\n"
    }
   },
   "outputs": [],
   "source": [
    "# 4.a. load_numpy_array (your solution)\n",
    "# ====>>> YOUR ACTIONS: IMPLEMENT & RUN\n",
    "\n",
    "def load_numpy_array(file_name):\n",
    "    return np.load(file_name)\n",
    "    "
   ]
  },
  {
   "cell_type": "markdown",
   "metadata": {
    "deletable": false,
    "editable": false,
    "nbgrader": {
     "cell_type": "markdown",
     "checksum": "ccf2d2f0b8ec919474c8870be08b11a9",
     "grade": false,
     "grade_id": "cell-f72fd6df96239b16",
     "locked": true,
     "schema_version": 3,
     "solution": false,
     "task": false
    },
    "pycharm": {
     "name": "#%% md\n"
    }
   },
   "source": [
    "##### 4.a. load_numpy_array - OPTIONAL SELF TEST - Implement and Run the following code cell (IF NEEDED):"
   ]
  },
  {
   "cell_type": "code",
   "execution_count": 8,
   "metadata": {
    "deletable": false,
    "nbgrader": {
     "cell_type": "code",
     "checksum": "ed414d185ae0c7843de9efd340fc2035",
     "grade": false,
     "grade_id": "self_test4a-load_numpy_array",
     "locked": false,
     "schema_version": 3,
     "solution": true,
     "task": false
    },
    "pycharm": {
     "name": "#%%\n"
    }
   },
   "outputs": [
    {
     "data": {
      "text/plain": "array([[5.1, 3.5, 1.4, 0.2, 1. ],\n       [4.9, 3. , 1.4, 0.2, 2. ],\n       [4.7, 3.2, 1.3, 0.2, 3. ]])"
     },
     "execution_count": 8,
     "metadata": {},
     "output_type": "execute_result"
    }
   ],
   "source": [
    "# 4.a. load_numpy_array (optional self testing)\n",
    "# ====>>> YOUR ACTIONS: (optional) IMPLEMENT & RUN \n",
    "\n",
    "file_name = 'iris_fearures.npy'\n",
    "student_name, student_id = my_name(), my_id()\n",
    "npa_trainset = load_numpy_array(file_name)\n",
    "npa_trainset[:3,:]\n",
    "# --- add additional code to check your code if needed:\n",
    "# YOUR CODE HERE\n"
   ]
  },
  {
   "cell_type": "markdown",
   "metadata": {
    "deletable": false,
    "editable": false,
    "nbgrader": {
     "cell_type": "markdown",
     "checksum": "f6e45c7e5437daa4bc7a1c5a761f8cbb",
     "grade": false,
     "grade_id": "cell-6ad5986e08c76658",
     "locked": true,
     "schema_version": 3,
     "solution": false,
     "task": false
    },
    "pycharm": {
     "name": "#%% md\n"
    }
   },
   "source": [
    "##### 4.a. load_numpy_array - GRADED TESTS - Run the following (3) code cells:"
   ]
  },
  {
   "cell_type": "code",
   "execution_count": 9,
   "metadata": {
    "deletable": false,
    "editable": false,
    "nbgrader": {
     "cell_type": "code",
     "checksum": "5781df3d77424b588f8cdc5ee9b3bac4",
     "grade": true,
     "grade_id": "test4a_1-load_numpy_array",
     "locked": true,
     "points": 1,
     "schema_version": 3,
     "solution": false,
     "task": false
    },
    "pycharm": {
     "name": "#%%\n"
    }
   },
   "outputs": [
    {
     "name": "stdout",
     "output_type": "stream",
     "text": [
      "4.a.'load_numpy_array' - Test 1 (name: test4a_1-load_numpy_array, points: 1) - Sanity\n",
      "Good Job!\n",
      "You've passed the 1st test for the 'load_numpy_array' function implementation :-)\n"
     ]
    }
   ],
   "source": [
    "# 4.a. load_numpy_array (graded test)\n",
    "# ====>>> YOUR ACTIONS: RUN ONLY\n",
    "\n",
    "print (\"4.a.'load_numpy_array' - Test 1 (name: test4a_1-load_numpy_array, points: 1) - Sanity\")\n",
    "\n",
    "file_name = 'iris_fearures.npy'\n",
    "\n",
    "try:\n",
    "    student_name, student_id = my_name(), my_id()\n",
    "    npa_trainset = load_numpy_array(file_name)\n",
    "except Exception as e:\n",
    "    print ('You probably have a syntax or implementation error,  \\nerror Message:',str(e), '\\nTry fixing your code')\n",
    "    raise\n",
    "    \n",
    "print (\"Good Job!\\nYou've passed the 1st test for the 'load_numpy_array' function implementation :-)\")   "
   ]
  },
  {
   "cell_type": "code",
   "execution_count": 10,
   "metadata": {
    "deletable": false,
    "editable": false,
    "nbgrader": {
     "cell_type": "code",
     "checksum": "d9c8789bdc122ed925311d0d84c860b2",
     "grade": true,
     "grade_id": "test4a_2-load_numpy_array",
     "locked": true,
     "points": 7,
     "schema_version": 3,
     "solution": false,
     "task": false
    },
    "pycharm": {
     "name": "#%%\n"
    }
   },
   "outputs": [
    {
     "name": "stdout",
     "output_type": "stream",
     "text": [
      "4.a.'load_numpy_array' - Test 2 (name: test4a_2-load_numpy_array, points: 7)\n",
      "Good Job!\n",
      "You've passed the 2nd test for the 'load_numpy_array' function implementation :-)\n"
     ]
    }
   ],
   "source": [
    "# 4.a. load_numpy_array (graded test)\n",
    "# ====>>> YOUR ACTIONS: RUN ONLY\n",
    "\n",
    "print (\"4.a.'load_numpy_array' - Test 2 (name: test4a_2-load_numpy_array, points: 7)\")\n",
    "\n",
    "file_name = 'iris_fearures.npy'\n",
    "\n",
    "try:\n",
    "    student_name, student_id = my_name(), my_id()\n",
    "    npa_trainset = load_numpy_array(file_name)\n",
    "except Exception as e:\n",
    "    print ('You probably have a syntax or implementation error,  \\nerror Message:',str(e), '\\nTry fixing your code')\n",
    "    raise\n",
    "\n",
    "assert type(npa_trainset) is np.ndarray, \"Wrong type for 'npa_trainset', excepted a NumPy dimensional array\"\n",
    "\n",
    "print (\"Good Job!\\nYou've passed the 2nd test for the 'load_numpy_array' function implementation :-)\")        "
   ]
  },
  {
   "cell_type": "code",
   "execution_count": 11,
   "metadata": {
    "deletable": false,
    "editable": false,
    "nbgrader": {
     "cell_type": "code",
     "checksum": "2017089ccaef396f83cc2f4c457ef74b",
     "grade": true,
     "grade_id": "test4a_3-load_numpy_array",
     "locked": true,
     "points": 7,
     "schema_version": 3,
     "solution": false,
     "task": false
    },
    "pycharm": {
     "name": "#%%\n"
    }
   },
   "outputs": [
    {
     "name": "stdout",
     "output_type": "stream",
     "text": [
      "4.a. 'load_numpy_array' - Test 3 (name: test4a_3-load_numpy_array, points: 7)\n",
      "Good Job!\n",
      "You've passed the 3rd test for the 'load_numpy_array' function implementation :-)\n"
     ]
    }
   ],
   "source": [
    "# 4.a. load_numpy_array (graded test)\n",
    "# ====>>> YOUR ACTIONS: RUN ONLY\n",
    "\n",
    "print (\"4.a. 'load_numpy_array' - Test 3 (name: test4a_3-load_numpy_array, points: 7)\")\n",
    "\n",
    "file_name = 'iris_fearures.npy'\n",
    "\n",
    "try:\n",
    "    student_name, student_id = my_name(), my_id()\n",
    "    npa_trainset = load_numpy_array(file_name)\n",
    "except Exception as e:\n",
    "    print ('You probably have a syntax or implementation error,  \\nerror Message:',str(e), '\\nTry fixing your code')\n",
    "    raise\n",
    "    \n",
    "assert npa_trainset.shape == (150, 5), 'Wrong shape for npa_trainset NumPy dimensional array'\n",
    "\n",
    "print (\"Good Job!\\nYou've passed the 3rd test for the 'load_numpy_array' function implementation :-)\")        "
   ]
  },
  {
   "cell_type": "markdown",
   "metadata": {
    "deletable": false,
    "editable": false,
    "nbgrader": {
     "cell_type": "markdown",
     "checksum": "7043590166b85cb5ed4bc487240335a2",
     "grade": false,
     "grade_id": "cell-7d373d9d141dbbf2",
     "locked": true,
     "schema_version": 3,
     "solution": false,
     "task": false
    },
    "pycharm": {
     "name": "#%% md\n"
    }
   },
   "source": [
    "[Go to the beginning of the assignment](#home)\n",
    "<a id=\"decouple_data\"></a>\n",
    "#### 4.b. Decouple Dataset\n",
    "\n",
    "<u>method name</u>: <b>decouple_data</b><br/>\n",
    "\n",
    "------------\n",
    "\n",
    "<u>dependency</u>: <br/>\n",
    "* <b>load_numpy_array</b></br> \n",
    "\n",
    "------------\n",
    "\n",
    "<pre>\n",
    "Complete the following function to return the\n",
    " feature vectors NumPy (2) dimensional array (X_train) and \n",
    " a NumPy (1) dimensional array containing the labels (y_train).\n",
    "------------\n",
    "input parameters:\n",
    "- npa_trainset - NumPy dimensional array of the training set before decoupling (includes the \n",
    "                                                              column of the category as one of the columns).\n",
    "Notes: \n",
    "- The category column appears in the last column. \n",
    "- The category column should not be part of the feature vector NumPy (2) dimensional array, in the output.\n",
    "</pre>\n",
    "\n",
    "------------\n",
    "\n",
    "For example, if the input `npa_trainset` NumPy dimensional array is:<br/>\n",
    "<pre>array([[5.1, 3.5, 1.4, 0.2, 1. ],\n",
    "       [4.9, 3. , 1.4, 0.2, 2. ],\n",
    "       [4.7, 3.2, 1.3, 0.2, 3. ],\n",
    "       [4.6, 3.1, 1.5, 0.2, 1. ],\n",
    "       [5. , 3.6, 1.4, 0.2, 1. ]])\n",
    "</pre>\n",
    "The output `X_train` NumPy dimensional array should look like this:<br/>\n",
    "<pre>array([[5.1, 3.5, 1.4, 0.2],\n",
    "       [4.9, 3. , 1.4, 0.2],\n",
    "       [4.7, 3.2, 1.3, 0.2],\n",
    "       [4.6, 3.1, 1.5, 0.2],\n",
    "       [5. , 3.6, 1.4, 0.2]])\n",
    "</pre>\n",
    "\n",
    "And the output `y_train` series should look like this:<br/>\n",
    "<pre>array([1., 2., 3., 1., 1.])\n",
    "</pre>\n",
    "------------\n",
    "\n",
    "<pre>\n",
    "The return statement should look like the following:\n",
    "return X_train, y_train\n",
    "</pre>"
   ]
  },
  {
   "cell_type": "markdown",
   "metadata": {
    "deletable": false,
    "editable": false,
    "nbgrader": {
     "cell_type": "markdown",
     "checksum": "0d7f291d8d805bc049a863674814d7d5",
     "grade": false,
     "grade_id": "cell-c288c53b9217f1e4",
     "locked": true,
     "schema_version": 3,
     "solution": false,
     "task": false
    },
    "pycharm": {
     "name": "#%% md\n"
    }
   },
   "source": [
    "##### 4.b. decouple_data - OPTIONAL  ASSISTANCE  - Implement & Run the following cell (IF NEEDED):"
   ]
  },
  {
   "cell_type": "code",
   "execution_count": 42,
   "metadata": {
    "deletable": false,
    "nbgrader": {
     "cell_type": "code",
     "checksum": "bf1b204637f0c729fb3fc24ad6e49524",
     "grade": false,
     "grade_id": "assist4b-decouple",
     "locked": false,
     "schema_version": 3,
     "solution": true,
     "task": false
    },
    "pycharm": {
     "name": "#%%\n"
    }
   },
   "outputs": [],
   "source": [
    "# 4.b. decouple_data (optional assitance for your solution)\n",
    "# ====>>> YOUR ACTIONS: (optional) IMPLEMENT & RUN \n",
    "\n",
    "# ---- Add assistance code here IF NEEDED:\n",
    "# YOUR CODE HERE\n"
   ]
  },
  {
   "cell_type": "markdown",
   "metadata": {
    "deletable": false,
    "editable": false,
    "nbgrader": {
     "cell_type": "markdown",
     "checksum": "fbfa1f62a6934fc4d44d557f277037b4",
     "grade": false,
     "grade_id": "cell-1fce65a6374332a9",
     "locked": true,
     "schema_version": 3,
     "solution": false,
     "task": false
    },
    "pycharm": {
     "name": "#%% md\n"
    }
   },
   "source": [
    "##### 4.b. decouple_data - YOUR SOLUTION - Implement and Run the following code cell:"
   ]
  },
  {
   "cell_type": "code",
   "execution_count": 23,
   "metadata": {
    "deletable": false,
    "nbgrader": {
     "cell_type": "code",
     "checksum": "659cebba8709cd72dddcdb8e1c6f3c05",
     "grade": false,
     "grade_id": "sol4b-decouple",
     "locked": false,
     "schema_version": 3,
     "solution": true,
     "task": false
    },
    "pycharm": {
     "name": "#%%\n"
    }
   },
   "outputs": [],
   "source": [
    "# 4.b. decouple_data (your solution)\n",
    "# ====>>> YOUR ACTIONS: IMPLEMENT & RUN\n",
    "\n",
    "def decouple_data(npa_trainset):\n",
    "    return npa_trainset[:,:-1], npa_trainset[:,-1]\n",
    "    "
   ]
  },
  {
   "cell_type": "markdown",
   "metadata": {
    "deletable": false,
    "editable": false,
    "nbgrader": {
     "cell_type": "markdown",
     "checksum": "b20f336c6ceae4967750c857f339745a",
     "grade": false,
     "grade_id": "cell-b4b09a434dc9996f",
     "locked": true,
     "schema_version": 3,
     "solution": false,
     "task": false
    },
    "pycharm": {
     "name": "#%% md\n"
    }
   },
   "source": [
    "##### 4.b. decouple_data - OPTIONAL SELF TEST - Implement & Run the following code cell (IF NEEDED):"
   ]
  },
  {
   "cell_type": "code",
   "execution_count": 24,
   "metadata": {
    "deletable": false,
    "nbgrader": {
     "cell_type": "code",
     "checksum": "f700d3343af2b8189d59c273c82565a2",
     "grade": false,
     "grade_id": "self_test4b-decouple",
     "locked": false,
     "schema_version": 3,
     "solution": true,
     "task": false
    },
    "pycharm": {
     "name": "#%%\n"
    }
   },
   "outputs": [
    {
     "data": {
      "text/plain": "array([[5.1, 3.5, 1.4, 0.2],\n       [4.9, 3. , 1.4, 0.2],\n       [4.7, 3.2, 1.3, 0.2]])"
     },
     "execution_count": 24,
     "metadata": {},
     "output_type": "execute_result"
    },
    {
     "data": {
      "text/plain": "array([1., 2., 3.])"
     },
     "execution_count": 24,
     "metadata": {},
     "output_type": "execute_result"
    }
   ],
   "source": [
    "# 4.b. decouple_data (optional self testing)\n",
    "# ====>>> YOUR ACTIONS: (optional) IMPLEMENT & RUN \n",
    "\n",
    "file_name = 'iris_fearures.npy'\n",
    "student_name, student_id = my_name(), my_id()\n",
    "npa_trainset = load_numpy_array(file_name)\n",
    "X_train, y_train = decouple_data(npa_trainset)\n",
    "X_train[:3,:]\n",
    "y_train[:3]\n",
    "# --- add additional code to check your code if needed:\n",
    "# YOUR CODE HERE\n"
   ]
  },
  {
   "cell_type": "markdown",
   "metadata": {
    "deletable": false,
    "editable": false,
    "nbgrader": {
     "cell_type": "markdown",
     "checksum": "57a249337219d6d8b202f8a946200510",
     "grade": false,
     "grade_id": "cell-7ea2a6b3da449f2a",
     "locked": true,
     "schema_version": 3,
     "solution": false,
     "task": false
    },
    "pycharm": {
     "name": "#%% md\n"
    }
   },
   "source": [
    "##### 4.b. decouple_data - GRADED TESTS - Run the following (2) code cells:"
   ]
  },
  {
   "cell_type": "code",
   "execution_count": 25,
   "metadata": {
    "deletable": false,
    "editable": false,
    "nbgrader": {
     "cell_type": "code",
     "checksum": "aa33d01dbcadc8268d0e94bbd167c39e",
     "grade": true,
     "grade_id": "test4b_1-decouple_data",
     "locked": true,
     "points": 1,
     "schema_version": 3,
     "solution": false,
     "task": false
    },
    "pycharm": {
     "name": "#%%\n"
    }
   },
   "outputs": [
    {
     "name": "stdout",
     "output_type": "stream",
     "text": [
      "4.b.'decouple_data' - Test 1 (name: test4b_1-decouple_data, points: 1) - Sanity\n",
      "Good Job!\n",
      "You've passed the 1st test for the 'decouple_data' function implementation :-)\n"
     ]
    }
   ],
   "source": [
    "# 4.b. decouple_data (graded test)\n",
    "# ====>>> YOUR ACTIONS: RUN ONLY\n",
    "\n",
    "print (\"4.b.'decouple_data' - Test 1 (name: test4b_1-decouple_data, points: 1) - Sanity\")\n",
    "\n",
    "file_name = 'iris_fearures.npy'\n",
    "\n",
    "try:\n",
    "    student_name, student_id = my_name(), my_id()\n",
    "    npa_trainset = load_numpy_array(file_name)\n",
    "    X_train, y_train = decouple_data(npa_trainset)\n",
    "except Exception as e:\n",
    "    print ('You probably have a syntax or implementation error,  \\nerror Message:',str(e), '\\nTry fixing your code')\n",
    "    raise\n",
    "\n",
    "print (\"Good Job!\\nYou've passed the 1st test for the 'decouple_data' function implementation :-)\")    "
   ]
  },
  {
   "cell_type": "code",
   "execution_count": 26,
   "metadata": {
    "deletable": false,
    "editable": false,
    "nbgrader": {
     "cell_type": "code",
     "checksum": "2c7e8cd86a4480cea41e0a636b65b6c0",
     "grade": true,
     "grade_id": "test4b_2-decouple_data",
     "locked": true,
     "points": 9,
     "schema_version": 3,
     "solution": false,
     "task": false
    },
    "pycharm": {
     "name": "#%%\n"
    }
   },
   "outputs": [
    {
     "name": "stdout",
     "output_type": "stream",
     "text": [
      "4.b.'decouple_data' - Test 2 (name: test4b_2-decouple_data, points: 5)\n",
      "Good Job!\n",
      "You've passed the 2nd test for the 'decouple_data' function implementation :-)\n"
     ]
    }
   ],
   "source": [
    "# 4.b. decouple_data (graded test)\n",
    "# ====>>> YOUR ACTIONS: RUN ONLY\n",
    "\n",
    "print (\"4.b.'decouple_data' - Test 2 (name: test4b_2-decouple_data, points: 5)\")\n",
    "\n",
    "file_name = 'iris_fearures.npy'\n",
    "\n",
    "try:\n",
    "    student_name, student_id = my_name(), my_id()\n",
    "    npa_trainset = load_numpy_array(file_name)\n",
    "    X_train, y_train = decouple_data(npa_trainset)\n",
    "except Exception as e:\n",
    "    print ('You probably have a syntax or implementation error,  \\nerror Message:',str(e), '\\nTry fixing your code')\n",
    "    raise\n",
    "    \n",
    "assert type(X_train) is np.ndarray or type(y_train) is np.ndarray, \"Wrong type for feature vectors NumPy (2) dimensional array or for category NumPy (1) dimensional array\"\n",
    "\n",
    "print (\"Good Job!\\nYou've passed the 2nd test for the 'decouple_data' function implementation :-)\")    "
   ]
  },
  {
   "cell_type": "code",
   "execution_count": 27,
   "metadata": {
    "deletable": false,
    "editable": false,
    "nbgrader": {
     "cell_type": "code",
     "checksum": "754cf9930bd8eff7881372cbaf408a08",
     "grade": true,
     "grade_id": "test4b_3-decouple_data",
     "locked": true,
     "points": 10,
     "schema_version": 3,
     "solution": false,
     "task": false
    },
    "pycharm": {
     "name": "#%%\n"
    }
   },
   "outputs": [
    {
     "name": "stdout",
     "output_type": "stream",
     "text": [
      "4.b.'decouple_data' - Test 3 (name: test4b_3-decouple_data, points: 10)\n",
      "Good Job!\n",
      "You've passed the 3rd test for the 'decouple_data' function implementation :-)\n"
     ]
    }
   ],
   "source": [
    "# 4.b. decouple_data (graded test)\n",
    "# ====>>> YOUR ACTIONS: RUN ONLY\n",
    "\n",
    "print (\"4.b.'decouple_data' - Test 3 (name: test4b_3-decouple_data, points: 10)\")\n",
    "\n",
    "file_name = 'iris_fearures.npy'\n",
    "\n",
    "try:\n",
    "    student_name, student_id = my_name(), my_id()\n",
    "    npa_trainset = load_numpy_array(file_name)\n",
    "    X_train, y_train = decouple_data(npa_trainset)\n",
    "except Exception as e:\n",
    "    print ('You probably have a syntax or implementation error,  \\nerror Message:',str(e), '\\nTry fixing your code')\n",
    "    raise\n",
    "\n",
    "assert (150, 4) == X_train.shape and (150,) == y_train.shape, \"Wrong shape for feature vector NumPy (2) dimensional array or target NumPy (1) dimensional array frame after 'decouple_data'\"\n",
    "\n",
    "print (\"Good Job!\\nYou've passed the 3rd test for the 'decouple_data' function implementation :-)\")    "
   ]
  },
  {
   "cell_type": "markdown",
   "metadata": {
    "deletable": false,
    "editable": false,
    "nbgrader": {
     "cell_type": "markdown",
     "checksum": "3d6609583ddc892948c7501173b22140",
     "grade": false,
     "grade_id": "cell-d5f901c00693aa20",
     "locked": true,
     "schema_version": 3,
     "solution": false,
     "task": false
    },
    "pycharm": {
     "name": "#%% md\n"
    }
   },
   "source": [
    "### 5. Scaling\n",
    "##### methods to implement:\n",
    "* MinMax Normalization\n",
    "* t-distribution Standardization\n",
    "\n",
    "![image.png](data:image/webp;base64,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)"
   ]
  },
  {
   "cell_type": "markdown",
   "metadata": {
    "pycharm": {
     "name": "#%% md\n"
    }
   },
   "source": [
    "<b>5. Scaling (minmax_norm_fit_transform, standardize_fit_transform) - Permitted and illegal methods</b>:<br />\n",
    "<div class=\"alert alert-success\">\n",
    "&#x2714; You can use any function that calculates: minimum (<code>min</code>), maximum (<code>max</code>), average (<code>mean</code>), variance (<code>var</code>) or standard deviation (<code>std</code>)<br/>\n",
    "&#x2714; Any other basic mathematical function (+,*, ...)<br/>\n",
    "</div>\n",
    "<div class=\"alert alert-danger\">\n",
    "&#x2718; DON'T USE any function, which perform the scaling\n",
    "</div>\n",
    "<br>\n",
    "<b><u>Important Notes - for those who need to implement (t-distribution) standardization</u></b><br/>\n",
    "\n",
    "* <u>By default, numpy's</u> `var` & `std` <u> methods refer to the population</u>\n",
    "* <b>SET the ddof parameter to one (ddof=1) to override to sample</b> \n",
    "* Use the relevant methods (& parameters if needed)"
   ]
  },
  {
   "cell_type": "markdown",
   "metadata": {
    "deletable": false,
    "editable": false,
    "nbgrader": {
     "cell_type": "markdown",
     "checksum": "080ec20aad3d3890b8dfa5e500a44a42",
     "grade": false,
     "grade_id": "cell-7c68b783bcee9ce1",
     "locked": true,
     "schema_version": 3,
     "solution": false,
     "task": false
    },
    "pycharm": {
     "name": "#%% md\n"
    }
   },
   "source": [
    "[Go to the beginning of the assignment](#home)\n",
    "<a id=\"minmax\"></a>\n",
    "#### 5.a. minmax_norm_fit_transform\n",
    "\n",
    "<u>method name</u>: <b>minmax_norm_fit_transform</b><br/>\n",
    "\n",
    "------------\n",
    "\n",
    "<u>dependency</u>: <br/>\n",
    "* <b>load_numpy_array</b></br> \n",
    "* <b>decouple_data</b></br> \n",
    "\n",
    "------------\n",
    "\n",
    "<pre>\n",
    "In this function you need to perform MinMax Scaling between 0 and 1.\n",
    "------------\n",
    "input parameters:\n",
    "- X_train - the input NumPy (2) dimensional array (only feature vectors)\n",
    "------------\n",
    "The function should return a NumPy (2) dimensional array containing scaling information (scaling_info) and \n",
    "                           a scaled train feature vector NumPy (2) dimensional array (X_train_scaled)\n",
    "Notes: \n",
    "- The Scaling information NumPy array should contain 2 columns\n",
    "  * The left column should contain the 'min' value and the right column should contain the 'max' value\n",
    "- The Scaling information NumPy array should contain the same number of rows as \n",
    "               the number of columns in the X_train NumPy (2) dimensional array\n",
    "</pre>\n",
    "\n",
    "------------\n",
    "\n",
    "For example, if your input `X_train` NumPy (2) dimensional array is:\n",
    "<pre>array([[5.1, 3.5, 1.4],\n",
    "       [4.9, 3. , 1.4],\n",
    "       [4.7, 3.2, 1.3],\n",
    "       [4.6, 3.1, 1.5],\n",
    "       [5. , 3.6, 1.4]])\n",
    "</pre>\n",
    "------------\n",
    "\n",
    "Then, the output `scaling_info` NumPy (2) dimensional array should look like this:\n",
    "<pre>array([[4.6, 5.1],\n",
    "       [3., 3.6],\n",
    "       [1.3,  1.5]])\n",
    "</pre>\n",
    "\n",
    "And the output `X_train_scaled` NumPy (2) dimensional array should look like this:\n",
    "<pre>array([[1., 0.833333, 0.5],\n",
    "       [0.6, 0. , 0.5],\n",
    "       [0.2, 0.333333, 0.],\n",
    "       [0., 0.166667, 1.],\n",
    "       [0.8 , 1., 0.5]])\n",
    "</pre>\n",
    "\n",
    "------------\n",
    "\n",
    "<pre>\n",
    "The return statement should look like the following:\n",
    "return scaling_info, X_train_scaled\n",
    "</pre>"
   ]
  },
  {
   "cell_type": "markdown",
   "metadata": {
    "deletable": false,
    "editable": false,
    "nbgrader": {
     "cell_type": "markdown",
     "checksum": "061d4b337ccea5c1e7f63b253d5e6b41",
     "grade": false,
     "grade_id": "cell-de5dbc8740d43ef3",
     "locked": true,
     "schema_version": 3,
     "solution": false,
     "task": false
    },
    "pycharm": {
     "name": "#%% md\n"
    }
   },
   "source": [
    "##### 5.a. minmax_norm_fit_transform - OPTIONAL  ASSISTANCE  - Implement & Run the following cell (IF NEEDED):"
   ]
  },
  {
   "cell_type": "code",
   "execution_count": 94,
   "metadata": {
    "deletable": false,
    "nbgrader": {
     "cell_type": "code",
     "checksum": "9c1c8c06984b9c09e8386b0a7b596b78",
     "grade": false,
     "grade_id": "assist5a-minmax",
     "locked": false,
     "schema_version": 3,
     "solution": true,
     "task": false
    },
    "pycharm": {
     "name": "#%%\n"
    }
   },
   "outputs": [
    {
     "data": {
      "text/plain": "1.0"
     },
     "execution_count": 94,
     "metadata": {},
     "output_type": "execute_result"
    }
   ],
   "source": [
    "# 5.a. scale_fit_transform (optional assitance for your solution)\n",
    "# ====>>> YOUR ACTIONS: (optional) IMPLEMENT & RUN \n",
    "\n",
    "# ---- Add assistance code here IF NEEDED:\n",
    "# YOUR CODE HERE"
   ]
  },
  {
   "cell_type": "markdown",
   "metadata": {
    "pycharm": {
     "name": "#%% md\n"
    }
   },
   "source": [
    "##### 5.a. minmax_norm_fit_transform - YOUR SOLUTION - Implement and Run the following code cell:"
   ]
  },
  {
   "cell_type": "code",
   "execution_count": 95,
   "metadata": {
    "deletable": false,
    "nbgrader": {
     "cell_type": "code",
     "checksum": "999800c95ea93b9868defd2b01b5edb5",
     "grade": false,
     "grade_id": "sol5a-minmax",
     "locked": false,
     "schema_version": 3,
     "solution": true,
     "task": false
    },
    "pycharm": {
     "name": "#%%\n"
    }
   },
   "outputs": [],
   "source": [
    "# 5.a. minmax_norm_fit_transform (your solution)\n",
    "# ====>>> YOUR ACTIONS: IMPLEMENT & RUN\n",
    "def minmax_norm_fit_transform(X_train):\n",
    "    min_train = X_train.min(axis=0)\n",
    "    max_train = X_train.max(axis=0)\n",
    "    scaling_info = np.stack((min_train, max_train), axis=1)\n",
    "    X_train_scaled = (X_train - min_train) / (max_train - min_train)\n",
    "    return scaling_info, X_train_scaled\n",
    "    "
   ]
  },
  {
   "cell_type": "markdown",
   "metadata": {
    "deletable": false,
    "editable": false,
    "nbgrader": {
     "cell_type": "markdown",
     "checksum": "114e8026d24885ab04561319de9e1f7c",
     "grade": false,
     "grade_id": "cell-45f8980e1571c589",
     "locked": true,
     "schema_version": 3,
     "solution": false,
     "task": false
    },
    "pycharm": {
     "name": "#%% md\n"
    }
   },
   "source": [
    "##### 5.a. minmax_norm_fit_transform - OPTIONAL SELF TEST -  Implement and Run the following code cell (IF NEEDED):"
   ]
  },
  {
   "cell_type": "code",
   "execution_count": 96,
   "metadata": {
    "deletable": false,
    "nbgrader": {
     "cell_type": "code",
     "checksum": "6309f3ebf7846c7594bc8276650b4aed",
     "grade": false,
     "grade_id": "self_test5a-minmax",
     "locked": false,
     "schema_version": 3,
     "solution": true,
     "task": false
    },
    "pycharm": {
     "name": "#%%\n"
    }
   },
   "outputs": [
    {
     "data": {
      "text/plain": "array([[4.3, 7.9],\n       [2. , 4.4],\n       [1. , 6.9],\n       [0.1, 2.5]])"
     },
     "execution_count": 96,
     "metadata": {},
     "output_type": "execute_result"
    },
    {
     "data": {
      "text/plain": "array([[0.22222222, 0.625     , 0.06779661, 0.04166667],\n       [0.16666667, 0.41666667, 0.06779661, 0.04166667],\n       [0.11111111, 0.5       , 0.05084746, 0.04166667]])"
     },
     "execution_count": 96,
     "metadata": {},
     "output_type": "execute_result"
    }
   ],
   "source": [
    "# 5.a. minmax_norm_fit_transform (optional self testing)\n",
    "# ====>>> YOUR ACTIONS: (optional) IMPLEMENT & RUN \n",
    "\n",
    "file_name = 'iris_fearures.npy'\n",
    "student_name, student_id = my_name(), my_id()\n",
    "npa_trainset = load_numpy_array(file_name)\n",
    "X_train, y_train = decouple_data(npa_trainset)\n",
    "scaling_info, X_train_scaled = minmax_norm_fit_transform(X_train)\n",
    "scaling_info\n",
    "X_train_scaled[:3,:]\n",
    "# --- add additional code to check your code if needed:\n",
    "# YOUR CODE HERE\n"
   ]
  },
  {
   "cell_type": "markdown",
   "metadata": {
    "deletable": false,
    "editable": false,
    "nbgrader": {
     "cell_type": "markdown",
     "checksum": "67dbf207de1bbf5a00368987841079a5",
     "grade": false,
     "grade_id": "cell-d49c06acfbe67195",
     "locked": true,
     "schema_version": 3,
     "solution": false,
     "task": false
    },
    "pycharm": {
     "name": "#%% md\n"
    }
   },
   "source": [
    "##### 5.a. minmax_norm_fit_transform - GRADED TESTS - Run the following (n) code cells:"
   ]
  },
  {
   "cell_type": "code",
   "execution_count": 97,
   "metadata": {
    "deletable": false,
    "editable": false,
    "nbgrader": {
     "cell_type": "code",
     "checksum": "d15c35097b4c38b82aba294be79a8e7e",
     "grade": true,
     "grade_id": "test5a_1-minmax",
     "locked": true,
     "points": 1,
     "schema_version": 3,
     "solution": false,
     "task": false
    },
    "pycharm": {
     "name": "#%%\n"
    }
   },
   "outputs": [
    {
     "name": "stdout",
     "output_type": "stream",
     "text": [
      "5.a. 'minmax_norm_fit_transform' - Test 1 (name: test5a_1-minmax, points: 1) - Sanity\n",
      "Good Job!\n",
      "You've passed the 1st test for the 'minmax_norm_fit_transform' function implementation :-)\n"
     ]
    }
   ],
   "source": [
    "# 5.a. minmax_norm_fit_transform (graded test)\n",
    "# ====>>> YOUR ACTIONS: RUN ONLY\n",
    "\n",
    "print (\"5.a. 'minmax_norm_fit_transform' - Test 1 (name: test5a_1-minmax, points: 1) - Sanity\")\n",
    "\n",
    "file_name = 'iris_fearures.npy'\n",
    "\n",
    "try:\n",
    "    student_name, student_id = my_name(), my_id()\n",
    "    npa_trainset = load_numpy_array(file_name)\n",
    "    X_train, y_train = decouple_data(npa_trainset)\n",
    "    scaling_info, X_train_scaled = minmax_norm_fit_transform(X_train)\n",
    "except Exception as e:\n",
    "    print ('You probably have a syntax or implementation error,  \\nerror Message:',str(e), '\\nTry fixing your code')\n",
    "    raise\n",
    "\n",
    "print (\"Good Job!\\nYou've passed the 1st test for the 'minmax_norm_fit_transform' function implementation :-)\")    "
   ]
  },
  {
   "cell_type": "code",
   "execution_count": 98,
   "metadata": {
    "deletable": false,
    "editable": false,
    "nbgrader": {
     "cell_type": "code",
     "checksum": "0ef34549a9c0d69e70d866e7b7065a19",
     "grade": true,
     "grade_id": "test5a_2-minmax",
     "locked": true,
     "points": 14,
     "schema_version": 3,
     "solution": false,
     "task": false
    },
    "pycharm": {
     "name": "#%%\n"
    }
   },
   "outputs": [
    {
     "name": "stdout",
     "output_type": "stream",
     "text": [
      "5.a. 'minmax_norm_fit_transform' - Test 2 (name: test5a_2-minmax, points: 14)\n",
      "Good Job!\n",
      "You've passed the 2bd test for the 'minmax_norm_fit_transform' function implementation :-)\n"
     ]
    }
   ],
   "source": [
    "# 5.a. minmax_norm_fit_transform (graded test)\n",
    "# ====>>> YOUR ACTIONS: RUN ONLY\n",
    "\n",
    "print (\"5.a. 'minmax_norm_fit_transform' - Test 2 (name: test5a_2-minmax, points: 14)\")\n",
    "\n",
    "file_name = 'iris_fearures.npy'\n",
    "\n",
    "try:\n",
    "    student_name, student_id = my_name(), my_id()\n",
    "    npa_trainset = load_numpy_array(file_name)\n",
    "    X_train, y_train = decouple_data(npa_trainset)\n",
    "    scaling_info, X_train_scaled = minmax_norm_fit_transform(X_train)\n",
    "except Exception as e:\n",
    "    print ('You probably have a syntax or implementation error,  \\nerror Message:',str(e), '\\nTry fixing your code')\n",
    "    raise\n",
    "\n",
    "\n",
    "assert X_train_scaled.shape == X_train.shape, 'Wrong shape for scaled train NumPy dimensional array'\n",
    "assert scaling_info.shape[0] == X_train.shape[1], 'scaling info should have the same number of rows as the number of columns in X_train'\n",
    "assert scaling_info.shape[1] == 2, 'scaling info should have 2 columns'\n",
    "print (\"Good Job!\\nYou've passed the 2bd test for the 'minmax_norm_fit_transform' function implementation :-)\")    "
   ]
  },
  {
   "cell_type": "code",
   "execution_count": 99,
   "metadata": {
    "deletable": false,
    "editable": false,
    "nbgrader": {
     "cell_type": "code",
     "checksum": "ba005816e3b326cc7c1a9d28007d127a",
     "grade": true,
     "grade_id": "test5a_3-minmax",
     "locked": true,
     "points": 15,
     "schema_version": 3,
     "solution": false,
     "task": false
    },
    "pycharm": {
     "name": "#%%\n"
    }
   },
   "outputs": [
    {
     "name": "stdout",
     "output_type": "stream",
     "text": [
      "5.a. 'minmax_norm_fit_transform' - Test 3 (name: test5a_3-minmax, points: 1)\n",
      "Good Job!\n",
      "You've passed the 3rd test for the 'minmax_norm_fit_transform' function implementation :-)\n"
     ]
    }
   ],
   "source": [
    "# 5.a. minmax_norm_fit_transform (graded test)\n",
    "# ====>>> YOUR ACTIONS: RUN ONLY\n",
    "\n",
    "print (\"5.a. 'minmax_norm_fit_transform' - Test 3 (name: test5a_3-minmax, points: 1)\")\n",
    "\n",
    "file_name = 'iris_fearures.npy'\n",
    "\n",
    "try:\n",
    "    student_name, student_id = my_name(), my_id()\n",
    "    npa_trainset = load_numpy_array(file_name)\n",
    "    X_train, y_train = decouple_data(npa_trainset)\n",
    "    scaling_info, X_train_scaled = minmax_norm_fit_transform(X_train)\n",
    "except Exception as e:\n",
    "    print ('You probably have a syntax or implementation error,  \\nerror Message:',str(e), '\\nTry fixing your code')\n",
    "    raise\n",
    "\n",
    "\n",
    "np.testing.assert_array_equal([0.,0.,0.,0.], X_train_scaled.min(axis=0), 'Wrong min minmax[0,1] scaled values')\n",
    "np.testing.assert_array_equal([1.0, 1.0, 1.0, 1.0], X_train_scaled.max(axis=0), 'Wrong max minmax[0,1] scaled values')\n",
    "\n",
    "print (\"Good Job!\\nYou've passed the 3rd test for the 'minmax_norm_fit_transform' function implementation :-)\")    "
   ]
  },
  {
   "cell_type": "markdown",
   "metadata": {
    "pycharm": {
     "name": "#%% md\n"
    }
   },
   "source": [
    "[Go to the beginning of the assignment](#home)\n",
    "<a id=\"standardize\"></a>\n",
    "#### 5.b. standardize_fit_transform\n",
    "\n",
    "<u>method name</u>: <b>standardize_fit_transform</b><br/>\n",
    "\n",
    "------------\n",
    "\n",
    "<u>dependency</u>: <br/>\n",
    "* <b>load_numpy_array</b></br> \n",
    "* <b>decouple_data</b></br> \n",
    "\n",
    "------------\n",
    "\n",
    "<pre>\n",
    "In this function you need to perform t-distribution standardization Scaling.\n",
    "------------\n",
    "input parameters:\n",
    "- X_train - the input NumPy (2) dimensional array (only feature vectors)\n",
    "------------\n",
    "The function should return a NumPy (2) dimensional array containing scaling information (scaling_info) and\n",
    "    the scaled train feature vector NumPy (2) dimensional array (X_train_scaled)\n",
    "Notes: \n",
    "- The Scaling information NumPy array should contain 2 columns\n",
    "  * The left column should contain the 'mean' value and the right column should contain the 'std' value\n",
    "  * Remember that the default std in NumPy refers to the population. To Override this set the ddof parameter to 1 (ddof=1)\n",
    "- The Scaling information NumPy array should contain the same number of rows as \n",
    "               the number of columns in the X_train NumPy (2) dimensional array    \n",
    "</pre>\n",
    "\n",
    "------------\n",
    "\n",
    "For example, if your input `X_train` is:\n",
    "<pre>array([[5.1, 3.5, 1.4],\n",
    "       [4.9, 3. , 1.4],\n",
    "       [4.7, 3.2, 1.3],\n",
    "       [4.6, 3.1, 1.5],\n",
    "       [5. , 3.6, 1.4]])\n",
    "</pre>\n",
    "\n",
    "------------\n",
    "\n",
    "Then, the output `scaling_info` NumPy (2) dimensional array should look like this:\n",
    "<pre>array([[4.86, 0.207364],\n",
    "       [3.28, 0.258844],\n",
    "       [1.40,  0.070711]])\n",
    "</pre>\n",
    "\n",
    "And the output `X_train_scaled` NumPy (2) dimensional array should look like this:\n",
    "<pre>array([[1.157383, 0.849934, 0.000000],\n",
    "       [0.192897, -1.081734, 0.000000],\n",
    "       [-0.771589, -0.309067, -1.414214],\n",
    "       [-1.253831, -0.695401, 1.414214],\n",
    "       [0.675140, 1.236268, 0.000000]])\n",
    "</pre>\n",
    "\n",
    "------------\n",
    "\n",
    "<pre>\n",
    "The return statement should look like the following:\n",
    "return scaling_info, X_train_scaled\n",
    "</pre>"
   ]
  },
  {
   "cell_type": "markdown",
   "metadata": {
    "deletable": false,
    "editable": false,
    "nbgrader": {
     "cell_type": "markdown",
     "checksum": "9e56aaa0af434b7c5aacd6259e49b77c",
     "grade": false,
     "grade_id": "cell-92ce2fc925ce7f78",
     "locked": true,
     "schema_version": 3,
     "solution": false,
     "task": false
    },
    "pycharm": {
     "name": "#%% md\n"
    }
   },
   "source": [
    "##### 5.b. standardize_fit_transform - OPTIONAL  ASSISTANCE  - Implement & Run the following cell (IF NEEDED):"
   ]
  },
  {
   "cell_type": "code",
   "execution_count": 103,
   "metadata": {
    "deletable": false,
    "nbgrader": {
     "cell_type": "code",
     "checksum": "3622a96fb268584e54220990f7dc8d2f",
     "grade": false,
     "grade_id": "assist5b-standardize",
     "locked": false,
     "schema_version": 3,
     "solution": true,
     "task": false
    },
    "pycharm": {
     "name": "#%%\n"
    }
   },
   "outputs": [
    {
     "data": {
      "text/plain": "array([[ 1.15738277,  0.84993415,  0.        ],\n       [ 0.19289713, -1.08173437,  0.        ],\n       [-0.77158852, -0.30906696, -1.41421356],\n       [-1.25383134, -0.69540067,  1.41421356],\n       [ 0.67513995,  1.23626785,  0.        ]])"
     },
     "execution_count": 103,
     "metadata": {},
     "output_type": "execute_result"
    }
   ],
   "source": [
    "# 5.b. standardize_fit_transform (optional assitance for your solution)\n",
    "# ====>>> YOUR ACTIONS: (optional) IMPLEMENT & RUN \n",
    "\n",
    "# ---- Add assistance code here IF NEEDED:\n",
    "# YOUR CODE HERE\n"
   ]
  },
  {
   "cell_type": "markdown",
   "metadata": {
    "deletable": false,
    "editable": false,
    "nbgrader": {
     "cell_type": "markdown",
     "checksum": "7000a36c82a248f5e8ea829cbfac20e6",
     "grade": false,
     "grade_id": "cell-2df23c0b7c3e66a7",
     "locked": true,
     "schema_version": 3,
     "solution": false,
     "task": false
    },
    "pycharm": {
     "name": "#%% md\n"
    }
   },
   "source": [
    "##### 5.b. standardize_fit_transform - YOUR SOLUTION - Implement and Run the following code cell:"
   ]
  },
  {
   "cell_type": "code",
   "execution_count": 104,
   "metadata": {
    "deletable": false,
    "nbgrader": {
     "cell_type": "code",
     "checksum": "140dbfedb76bd4789ba5bc98182c1f89",
     "grade": false,
     "grade_id": "sol5b-standardize",
     "locked": false,
     "schema_version": 3,
     "solution": true,
     "task": false
    },
    "pycharm": {
     "name": "#%%\n"
    }
   },
   "outputs": [],
   "source": [
    "# 5.b. standardize_fit_transform (your solution)\n",
    "# ====>>> YOUR ACTIONS: IMPLEMENT & RUN\n",
    "def standardize_fit_transform(X_train):\n",
    "    mean_train = X_train.mean(axis=0)\n",
    "    std_train = X_train.std(axis=0, ddof=1)\n",
    "    scaling_info = np.stack((mean_train, std_train), axis=1)\n",
    "    X_train_scaled = (X_train - mean_train) / std_train\n",
    "\n",
    "    return scaling_info, X_train_scaled\n",
    "    "
   ]
  },
  {
   "cell_type": "markdown",
   "metadata": {
    "deletable": false,
    "editable": false,
    "nbgrader": {
     "cell_type": "markdown",
     "checksum": "2f5f038bdfd0c676fabd13bd7c354faa",
     "grade": false,
     "grade_id": "cell-7eafe02745f805d5",
     "locked": true,
     "schema_version": 3,
     "solution": false,
     "task": false
    },
    "pycharm": {
     "name": "#%% md\n"
    }
   },
   "source": [
    "##### 5.b. standardize_fit_transform - OPTIONAL SELF TEST -  Implement and Run the following code cell (IF NEEDED):"
   ]
  },
  {
   "cell_type": "code",
   "execution_count": 105,
   "metadata": {
    "deletable": false,
    "nbgrader": {
     "cell_type": "code",
     "checksum": "3b7e821b1a104cf993a04f81fd06c6b6",
     "grade": false,
     "grade_id": "self_test5b-standardize",
     "locked": false,
     "schema_version": 3,
     "solution": true,
     "task": false
    },
    "pycharm": {
     "name": "#%%\n"
    }
   },
   "outputs": [
    {
     "data": {
      "text/plain": "array([[5.84333333, 0.82806613],\n       [3.054     , 0.43359431],\n       [3.75866667, 1.76442042],\n       [1.19866667, 0.76316074]])"
     },
     "execution_count": 105,
     "metadata": {},
     "output_type": "execute_result"
    },
    {
     "data": {
      "text/plain": "array([[-0.89767388,  1.02861128, -1.33679402, -1.30859282],\n       [-1.13920048, -0.12454038, -1.33679402, -1.30859282],\n       [-1.38072709,  0.33672028, -1.39346985, -1.30859282]])"
     },
     "execution_count": 105,
     "metadata": {},
     "output_type": "execute_result"
    }
   ],
   "source": [
    "# 5.b. standardize_fit_transform (optional self testing)\n",
    "# ====>>> YOUR ACTIONS: (optional) IMPLEMENT & RUN \n",
    "\n",
    "file_name = 'iris_fearures.npy'\n",
    "student_name, student_id = my_name(), my_id()\n",
    "npa_trainset = load_numpy_array(file_name)\n",
    "X_train, y_train = decouple_data(npa_trainset)\n",
    "scaling_info, X_train_scaled = standardize_fit_transform(X_train)\n",
    "scaling_info\n",
    "X_train_scaled[:3,:]\n",
    "# --- add additional code to check your code if needed:\n",
    "# YOUR CODE HERE\n"
   ]
  },
  {
   "cell_type": "markdown",
   "metadata": {
    "deletable": false,
    "editable": false,
    "nbgrader": {
     "cell_type": "markdown",
     "checksum": "d5726ece5cf059ad7eec54e253c7fbed",
     "grade": false,
     "grade_id": "cell-6cec4c3f39491f39",
     "locked": true,
     "schema_version": 3,
     "solution": false,
     "task": false
    },
    "pycharm": {
     "name": "#%% md\n"
    }
   },
   "source": [
    "##### 5.b. standardize_fit_transform - GRADED TESTS - Run the following (n) code cells:"
   ]
  },
  {
   "cell_type": "code",
   "execution_count": 106,
   "metadata": {
    "deletable": false,
    "editable": false,
    "nbgrader": {
     "cell_type": "code",
     "checksum": "367c665ea8097d32a599364be8442d7d",
     "grade": true,
     "grade_id": "test5b_1-standardize",
     "locked": true,
     "points": 1,
     "schema_version": 3,
     "solution": false,
     "task": false
    },
    "pycharm": {
     "name": "#%%\n"
    }
   },
   "outputs": [
    {
     "name": "stdout",
     "output_type": "stream",
     "text": [
      "5.b.'standardize_fit_transform' - Test 1 (name: test5b_1-standardize, points: 1) - Sanity\n",
      "Good Job!\n",
      "You've passed the 1st test for the 'standardize_fit_transform' function implementation :-)\n"
     ]
    }
   ],
   "source": [
    "# 5.b. standardize_fit_transform (graded test)\n",
    "# ====>>> YOUR ACTIONS: RUN ONLY\n",
    "\n",
    "print (\"5.b.'standardize_fit_transform' - Test 1 (name: test5b_1-standardize, points: 1) - Sanity\")\n",
    "\n",
    "file_name = 'iris_fearures.npy'\n",
    "\n",
    "try:\n",
    "    student_name, student_id = my_name(), my_id()\n",
    "    npa_trainset = load_numpy_array(file_name)\n",
    "    X_train, y_train = decouple_data(npa_trainset)\n",
    "    scaling_info, X_train_scaled = standardize_fit_transform(X_train)\n",
    "except Exception as e:\n",
    "    print ('You probably have a syntax or implementation error,  \\nerror Message:',str(e), '\\nTry fixing your code')\n",
    "    raise\n",
    "\n",
    "print (\"Good Job!\\nYou've passed the 1st test for the 'standardize_fit_transform' function implementation :-)\")    "
   ]
  },
  {
   "cell_type": "code",
   "execution_count": 107,
   "metadata": {
    "deletable": false,
    "editable": false,
    "nbgrader": {
     "cell_type": "code",
     "checksum": "9a12a35caec9cf6808218623464785d3",
     "grade": true,
     "grade_id": "test5b_2-standardize",
     "locked": true,
     "points": 14,
     "schema_version": 3,
     "solution": false,
     "task": false
    },
    "pycharm": {
     "name": "#%%\n"
    }
   },
   "outputs": [
    {
     "name": "stdout",
     "output_type": "stream",
     "text": [
      "5.b.'standardize_fit_transform' - Test 2 (name: test5b_2-standardize, points: 14)\n",
      "Good Job!\n",
      "You've passed the 2nd test for the 'standardize_fit_transform' function implementation :-)\n"
     ]
    }
   ],
   "source": [
    "# 5.b. standardize_fit_transform (graded test)\n",
    "# ====>>> YOUR ACTIONS: RUN ONLY\n",
    "\n",
    "print (\"5.b.'standardize_fit_transform' - Test 2 (name: test5b_2-standardize, points: 14)\")\n",
    "\n",
    "file_name = 'iris_fearures.npy'\n",
    "\n",
    "try:\n",
    "    student_name, student_id = my_name(), my_id()\n",
    "    npa_trainset = load_numpy_array(file_name)\n",
    "    X_train, y_train = decouple_data(npa_trainset)\n",
    "    scaling_info, X_train_scaled = standardize_fit_transform(X_train)\n",
    "except Exception as e:\n",
    "    print ('You probably have a syntax or implementation error,  \\nerror Message:',str(e), '\\nTry fixing your code')\n",
    "    raise\n",
    "\n",
    "\n",
    "assert X_train_scaled.shape == X_train.shape, 'Wrong shape for scaled train NumPy dimensional array'\n",
    "assert scaling_info.shape[0] == X_train.shape[1], 'scaling info should have the same number of rows as the number of columns in X_train'\n",
    "assert scaling_info.shape[1] == 2, 'scaling info should have 2 columns'\n",
    "print (\"Good Job!\\nYou've passed the 2nd test for the 'standardize_fit_transform' function implementation :-)\") "
   ]
  },
  {
   "cell_type": "code",
   "execution_count": 108,
   "metadata": {
    "deletable": false,
    "editable": false,
    "nbgrader": {
     "cell_type": "code",
     "checksum": "44df50898695f63d5dd7a3f43022820b",
     "grade": true,
     "grade_id": "test5b_3-standardize",
     "locked": true,
     "points": 15,
     "schema_version": 3,
     "solution": false,
     "task": false
    },
    "pycharm": {
     "name": "#%%\n"
    }
   },
   "outputs": [
    {
     "name": "stdout",
     "output_type": "stream",
     "text": [
      "5.b.'standardize_fit_transform' - Test 3 (name: test5b_3-standardize, points: 15)\n",
      "Good Job!\n",
      "You've passed the 3rd test for the 'standardize_fit_transform' function implementation :-)\n"
     ]
    }
   ],
   "source": [
    "# 5.b. standardize_fit_transform (graded test)\n",
    "# ====>>> YOUR ACTIONS: RUN ONLY\n",
    "\n",
    "print (\"5.b.'standardize_fit_transform' - Test 3 (name: test5b_3-standardize, points: 15)\")\n",
    "\n",
    "file_name = 'iris_fearures.npy'\n",
    "\n",
    "try:\n",
    "    student_name, student_id = my_name(), my_id()\n",
    "    npa_trainset = load_numpy_array(file_name)\n",
    "    X_train, y_train = decouple_data(npa_trainset)\n",
    "    scaling_info, X_train_scaled = standardize_fit_transform(X_train)\n",
    "except Exception as e:\n",
    "    print ('You probably have a syntax or implementation error,  \\nerror Message:',str(e), '\\nTry fixing your code')\n",
    "    raise\n",
    "\n",
    "\n",
    "np.testing.assert_array_equal([0.,0.,0.,0.], np.round(X_train_scaled.mean(axis=0)+0.000001,5), 'Wrong mean column values after standardization scaling')\n",
    "np.testing.assert_array_equal([1.0, 1.0, 1.0, 1.0], np.round(X_train_scaled.std(axis=0,ddof=1)+0.000001,5), 'Wrong std column values scaled values')\n",
    "\n",
    "print (\"Good Job!\\nYou've passed the 3rd test for the 'standardize_fit_transform' function implementation :-)\") "
   ]
  }
 ],
 "metadata": {
  "kernelspec": {
   "display_name": "Python 3 (ipykernel)",
   "language": "python",
   "name": "python3"
  },
  "language_info": {
   "codemirror_mode": {
    "name": "ipython",
    "version": 3
   },
   "file_extension": ".py",
   "mimetype": "text/x-python",
   "name": "python",
   "nbconvert_exporter": "python",
   "pygments_lexer": "ipython3",
   "version": "3.7.12"
  }
 },
 "nbformat": 4,
 "nbformat_minor": 2
}